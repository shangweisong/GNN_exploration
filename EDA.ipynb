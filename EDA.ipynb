{
 "cells": [
  {
   "cell_type": "markdown",
   "id": "16af86ea",
   "metadata": {},
   "source": [
    "### [MLSP 2014 Schizophrenia Classification Challenge](https://www.kaggle.com/competitions/mlsp-2014-mri/overview)\n",
    "\n",
    "Exploration of GNN with Schizophrenia Dataset"
   ]
  },
  {
   "cell_type": "code",
   "execution_count": null,
   "id": "6dc0b01b",
   "metadata": {},
   "outputs": [],
   "source": [
    "#import dependencies \n",
    "import torch \n",
    "import pandas as pd\n"
   ]
  },
  {
   "cell_type": "code",
   "execution_count": null,
   "id": "67410cd1",
   "metadata": {},
   "outputs": [],
   "source": [
    "datapath = \"data/train_FNC.csv\"\n",
    "\n",
    "# Load 3 csv\n",
    "df_fnc= pd.read_csv(datapath)\n",
    "df_label = pd.read_csv(\"data/train_labels.csv\")\n",
    "df_sbm= pd.read_csv(\"data/train_SBM.csv\")"
   ]
  },
  {
   "cell_type": "code",
   "execution_count": null,
   "id": "4158d544",
   "metadata": {},
   "outputs": [],
   "source": []
  }
 ],
 "metadata": {
  "kernelspec": {
   "display_name": "assignment7 (3.13.5)",
   "language": "python",
   "name": "python3"
  },
  "language_info": {
   "codemirror_mode": {
    "name": "ipython",
    "version": 3
   },
   "file_extension": ".py",
   "mimetype": "text/x-python",
   "name": "python",
   "nbconvert_exporter": "python",
   "pygments_lexer": "ipython3",
   "version": "3.13.5"
  }
 },
 "nbformat": 4,
 "nbformat_minor": 5
}
