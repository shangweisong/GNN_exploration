{
 "cells": [
  {
   "cell_type": "markdown",
   "id": "4a5f7121",
   "metadata": {},
   "source": [
    "# 🧠 [MLSP 2014 Schizophrenia Classification Challenge](https://www.kaggle.com/competitions/mlsp-2014-mri/overview) — A Guided Tutorial\n",
    "\n",
    "Welcome to this hands-on tutorial! In this notebook, we will walk step-by-step through the process of **loading, exploring, and modeling** the MLSP 2014 Schizophrenia dataset with a Graph Neural Network (GNN).\n",
    "\n",
    "Our goals:\n",
    "1. Understand the dataset structure and the meaning of FNC & SBM features.\n",
    "2. Perform exploratory data analysis (EDA) to uncover patterns and insights.\n",
    "3. Prepare the data for graph-based deep learning.\n",
    "4. Build and train a GNN for classification.\n",
    "5. Evaluate the results and discuss next steps.\n",
    "\n",
    "> 💡 **Tip:** Treat this notebook as a guided workshop. Each section will include explanations of *what*, *why*, and *how* we perform each step.\n",
    "\n",
    "---\n",
    "\n",
    "## **1. Understanding the Dataset**\n",
    "\n",
    "We will start by exploring the dataset and its features.\n"
   ]
  },
  {
   "cell_type": "markdown",
   "id": "29e891d3",
   "metadata": {},
   "source": [
    "### 1.1 Feature Types: FNC & SBM\n",
    "\n",
    "The dataset contains two main feature sets derived from MRI data:\n",
    "\n",
    "**FNC Features (Functional Network Connectivity):**\n",
    "- Represent pairwise correlations between ICA brain maps (nodes).\n",
    "- Well-suited as *edge weights* in a brain connectivity graph.\n",
    "- Capture functional relationships between brain regions.\n",
    "\n",
    "**SBM Features (Source-Based Morphometry):**\n",
    "- Represent loadings of ICA components for each subject.\n",
    "- Can be used as *node-level features* describing the gray matter concentration of brain regions.\n",
    "\n",
    "<p align=\"center\">\n",
    "<img src=\"images/brain.png\" width=\"600\">\n",
    "</p>\n",
    "\n",
    "*Image credit: Chu, SH., Parhi, K.K. & Lenglet, C. Function-specific and Enhanced Brain Structural Connectivity Mapping via Joint Modeling of Diffusion and Functional MRI. Sci Rep 8, 4741 (2018). https://doi.org/10.1038/s41598-018-23051-9\n",
    "\n",
    "> 💡 **Why it matters:** In a GNN context, FNC features model the relationships between nodes, while SBM features describe the nodes themselves.\n"
   ]
  },
  {
   "cell_type": "code",
   "execution_count": 1,
   "id": "6dc0b01b",
   "metadata": {},
   "outputs": [],
   "source": [
    "import matplotlib.pyplot as plt\n",
    "import numpy as np\n",
    "import os\n",
    "import pandas as pd\n",
    "import plotly.graph_objects as go\n",
    "import random\n",
    "import seaborn as sns\n",
    "\n",
    "\n",
    "import torch\n",
    "import torch.nn as nn\n",
    "import torch.nn.functional as F\n",
    "from sklearn.metrics import ConfusionMatrixDisplay, confusion_matrix\n",
    "from sklearn.model_selection import train_test_split\n",
    "from torch_geometric.data import Data\n",
    "from torch_geometric.loader import DataLoader\n",
    "from torch_geometric.nn import NNConv, global_mean_pool"
   ]
  },
  {
   "cell_type": "markdown",
   "id": "78ad066f",
   "metadata": {},
   "source": [
    "### 2.1 Loading the Dataset\n",
    "\n",
    "We will begin by reading the CSV files into pandas DataFrames.  \n",
    "This allows us to explore the structure, inspect the columns, and perform basic EDA.\n"
   ]
  },
  {
   "cell_type": "code",
   "execution_count": 3,
   "id": "180ac64f",
   "metadata": {},
   "outputs": [],
   "source": [
    "# Load subject data\n",
    "fnc_df = pd.read_csv(\"data/train_FNC.csv\")\n",
    "labels_df = pd.read_csv(\"data/train_labels.csv\")\n",
    "node_df= pd.read_csv(\"data/train_node.csv\") #self label data from images PDF\n",
    "sbm_df = pd.read_csv(\"data/train_SBM.csv\") \n",
    "\n",
    "# Load the FNC edge-to-node mapping\n",
    "fnc_map = pd.read_csv(\"data/AdditionalInformation/rs_fMRI_FNC_mapping.csv\")\n",
    "\n",
    "# Create 0-based node indexing, dataset has nodes that are non-consecutive\n",
    "unique_nodes = pd.unique(fnc_map[['mapA', 'mapB']].values.ravel())\n",
    "unique_nodes.sort()\n",
    "node_id_map = {orig: idx for idx, orig in enumerate(unique_nodes)}\n",
    "\n",
    "# Apply mapping to edge definitions\n",
    "fnc_map['node1'] = fnc_map['mapA'].map(node_id_map)\n",
    "fnc_map['node2'] = fnc_map['mapB'].map(node_id_map)\n",
    "\n",
    "# Extract edge list\n",
    "\n",
    "edge_index_list = fnc_map[['node1', 'node2']].values\n",
    "reversed_edges = edge_index_list[:, [1, 0]]\n",
    "combined_edges = np.vstack([edge_index_list, reversed_edges]).T\n",
    "edge_index = torch.tensor(combined_edges, dtype=torch.long)\n",
    "\n",
    "# edge_index_list = fnc_map[['node1', 'node2']].values.T  \n",
    "# edge_index = torch.tensor(edge_index_list, dtype=torch.long)\n",
    "\n",
    "node_df = node_df.sort_values(\"Node\").reset_index(drop=True)\n",
    "node_features = torch.tensor(node_df[['x', 'y', 'z']].values, dtype=torch.float) \n",
    "\n",
    "data_df = fnc_df.merge(labels_df, on=\"Id\")"
   ]
  },
  {
   "cell_type": "code",
   "execution_count": 5,
   "id": "11ef4063",
   "metadata": {},
   "outputs": [
    {
     "data": {
      "text/plain": [
       "<Axes: xlabel='Class', ylabel='count'>"
      ]
     },
     "execution_count": 5,
     "metadata": {},
     "output_type": "execute_result"
    },
    {
     "data": {
      "image/png": "[encoded data removed]",
      "text/plain": [
       "<Figure size 640x480 with 1 Axes>"
      ]
     },
     "metadata": {},
     "output_type": "display_data"
    }
   ],
   "source": [
    "sns.countplot(data=labels_df, x=\"Class\")"
   ]
  },
  {
   "cell_type": "markdown",
   "id": "4ee4a60e",
   "metadata": {},
   "source": [
    "### 2.2 Class Balance Check\n",
    "\n",
    "Before building a model, it’s important to check the distribution of the target classes.  \n",
    "Here, we observe **no significant class imbalance**, meaning the classes are roughly equally represented.\n",
    "\n",
    "> ✅ **Why it's good:** Balanced classes simplify model training and reduce the need for resampling techniques.\n"
   ]
  },
  {
   "cell_type": "markdown",
   "id": "afb5a945",
   "metadata": {},
   "source": [
    "### **2.3 Creating Graph Data with `torch_geometric.data.Data`**\n",
    "\n",
    "In this step, we transform each patient’s brain imaging data into a **graph representation** using PyTorch Geometric’s `Data` object.\n",
    "\n",
    "**Concept:**\n",
    "- **One patient = one graph**.\n",
    "- **Nodes** → Brain maps derived from **Independent Component Analysis (ICA)** of Functional Network Connectivity (FNC) data.\n",
    "- **Node features** → The *(x, y, z)* spatial coordinates of each brain region.\n",
    "- **Edges** → Functional connections between brain maps.\n",
    "- **Edge features** → Correlation values from FNC.\n",
    "- **Global graph-level features** → Structural Brain Morphometry (SBM) data, stored separately and **not connected to any node**.\n",
    "\n",
    "**Process:**\n",
    "1. Loop through each patient’s record in the dataframe.\n",
    "2. Extract **FNC correlation values** and use them as edge attributes.\n",
    "3. Retrieve **SBM values** for the subject and store them as a separate tensor.\n",
    "4. Build a PyTorch Geometric `Data` object with:\n",
    "   - `x`: Node feature matrix (spatial info)\n",
    "   - `edge_index`: Graph connectivity\n",
    "   - `edge_attr`: Correlation strengths\n",
    "   - `y`: Target label (class)\n",
    "   - `sbm`: Global SBM vector\n",
    "5. Save the patient’s graph in a list for later use in training.\n",
    "\n",
    "> 💡 **Why this structure?**  \n",
    "> This separation of node-level, edge-level, and graph-level features lets the GNN leverage **both functional and structural brain information** effectively."
   ]
  },
  {
   "cell_type": "code",
   "execution_count": 4,
   "id": "2c9f575b",
   "metadata": {},
   "outputs": [],
   "source": [
    "graphs = []\n",
    "\n",
    "for _, row in data_df.iterrows():\n",
    "    subject_id = row[\"Id\"]\n",
    "    label = row[\"Class\"]\n",
    "\n",
    "    fnc_values = row.filter(like=\"FNC\").values\n",
    "    edge_attr = torch.tensor(fnc_values, dtype=torch.float).view(-1, 1)\n",
    "    edge_attr = torch.cat([edge_attr, edge_attr], dim=0)  # now [756, 1] for undirected\n",
    "\n",
    "    sbm_vector = sbm_df.loc[sbm_df[\"Id\"] == subject_id].drop(columns=[\"Id\"]).values.flatten()\n",
    "    sbm_tensor = torch.tensor(sbm_vector, dtype=torch.float).view(1, -1)  # shape [1, 32]\n",
    " \n",
    "    graph = Data(\n",
    "        x=node_features.clone(),\n",
    "        edge_index=edge_index,\n",
    "        edge_attr=edge_attr,\n",
    "        y=torch.tensor([label], dtype=torch.long),\n",
    "        sbm=sbm_tensor\n",
    "    )\n",
    "    graph.subject_id = subject_id\n",
    "    graphs.append(graph)"
   ]
  },
  {
   "cell_type": "code",
   "execution_count": 5,
   "id": "593f1d57",
   "metadata": {},
   "outputs": [
    {
     "name": "stdout",
     "output_type": "stream",
     "text": [
      "Data(x=[28, 3], edge_index=[2, 756], edge_attr=[756, 1], y=[1], sbm=[1, 32], subject_id=139149.0)\n"
     ]
    }
   ],
   "source": [
    "print(graphs[2])"
   ]
  },
  {
   "cell_type": "markdown",
   "id": "431ba50b",
   "metadata": {},
   "source": [
    "### **2.4 (Optional) Visualizing the Brain Graph with Plotly**\n",
    "\n",
    "To better understand the spatial and connectivity structure of our brain graphs,  \n",
    "we can create an **interactive 3D visualization** using **Plotly**.\n",
    "\n",
    "**How it works:**\n",
    "- **Nodes** → Plotted at their *(x, y, z)* spatial coordinates (from ICA brain maps).\n",
    "- **Edges** → Drawn between nodes to represent functional connections.\n",
    "- **Edge color**:\n",
    "  - **Blue** → Positive correlation.\n",
    "  - **Red** → Negative correlation.\n",
    "  - **Light gray** → Weak connection (below a set threshold).\n",
    "- **Edge thickness** → Increases with correlation strength.\n",
    "\n",
    "**Function Parameters:**\n",
    "- `graph` → A `torch_geometric.data.Data` object for a single patient.\n",
    "- `title` → Optional title for the plot.\n",
    "- `edge_threshold` → Minimum absolute correlation value to highlight an edge.\n",
    "\n",
    "> 💡 **Why visualize?**  \n",
    "> Plotting the graph makes it easier to interpret which brain regions are strongly connected  \n",
    "> and whether there are visible structural differences between healthy and schizophrenia-affected patients."
   ]
  },
  {
   "cell_type": "code",
   "execution_count": 6,
   "id": "ab2009f6",
   "metadata": {},
   "outputs": [],
   "source": [
    "def plot_3d_brain_graph_plotly(graph, title=None, edge_threshold=0.1):\n",
    "    coords = graph.x.numpy()          # [28, 3]\n",
    "    edge_index = graph.edge_index.T   # [378, 2]\n",
    "    edge_weights = graph.edge_attr.numpy().flatten()\n",
    "\n",
    "    # Prepare edge traces\n",
    "    edge_lines = []\n",
    "    edge_colors = []\n",
    "    for i, (src, tgt) in enumerate(edge_index):\n",
    "        w = edge_weights[i]\n",
    "\n",
    "        if abs(w) < edge_threshold:\n",
    "            color = 'lightgray'\n",
    "        elif w > 0:\n",
    "            color = 'blue'\n",
    "        else:\n",
    "            color = 'red'\n",
    "\n",
    "        x0, y0, z0 = coords[src]\n",
    "        x1, y1, z1 = coords[tgt]\n",
    "        edge_lines.append(go.Scatter3d(\n",
    "            x=[x0, x1, None],\n",
    "            y=[y0, y1, None],\n",
    "            z=[z0, z1, None],\n",
    "            mode='lines',\n",
    "            line=dict(color=color, width=4 if abs(w) > edge_threshold else 2),\n",
    "            hoverinfo='none',\n",
    "            showlegend=False\n",
    "        ))\n",
    "\n",
    "    # Node trace\n",
    "    node_trace = go.Scatter3d(\n",
    "        x=coords[:, 0],\n",
    "        y=coords[:, 1],\n",
    "        z=coords[:, 2],\n",
    "        mode='markers',\n",
    "        marker=dict(size=6, color='skyblue'),\n",
    "        name='ICA Nodes',\n",
    "        hoverinfo='text'\n",
    "    )\n",
    "\n",
    "    # Create figure\n",
    "    fig = go.Figure(data=[*edge_lines, node_trace])\n",
    "\n",
    "    fig.update_layout(\n",
    "        title=title or f\"3D Brain Graph - Label: {graph.y.item()}\",\n",
    "        scene=dict(\n",
    "            xaxis_title='X',\n",
    "            yaxis_title='Y',\n",
    "            zaxis_title='Z'\n",
    "        ),\n",
    "        margin=dict(l=0, r=0, b=0, t=40),\n",
    "        showlegend=True\n",
    "    )\n",
    "\n",
    "    fig.show()"
   ]
  },
  {
   "cell_type": "code",
   "execution_count": 7,
   "id": "8ee10763",
   "metadata": {},
   "outputs": [
    {
     "data": {
      "application/vnd.plotly.v1+json": {
       "config": {
        "plotlyServerURL": "https://plot.ly"
       },
       "data": [
        {
         "hoverinfo": "none",
         "line": {
          "color": "blue",
          "width": 4
         },
         "mode": "lines",
         "showlegend": false,
         "type": "scatter3d",
         "x": [
          25,
          -64,
          null
         ],
         "y": [
          6,
          -21,
          null
         ],
         "z": [
          -6,
          9,
          null
         ]
        },
        {
         "hoverinfo": "none",
         "line": {
          "color": "red",
          "width": 4
         },
         "mode": "lines",
         "showlegend": false,
         "type": "scatter3d",
         "x": [
          25,
          -61,
          null
         ],
         "y": [
          6,
          -9,
          null
         ],
         "z": [
          -6,
          39,
          null
         ]
        },
        {
         "hoverinfo": "none",
         "line": {
          "color": "red",
          "width": 4
         },
         "mode": "lines",
         "showlegend": false,
         "type": "scatter3d",
         "x": [
          25,
          -45,
          null
         ],
         "y": [
          6,
          -28,
          null
         ],
         "z": [
          -6,
          62,
          null
         ]
        },
        {
         "hoverinfo": "none",
         "line": {
          "color": "red",
          "width": 4
         },
         "mode": "lines",
         "showlegend": false,
         "type": "scatter3d",
         "x": [
          25,
          45,
          null
         ],
         "y": [
          6,
          -30,
          null
         ],
         "z": [
          -6,
          66,
          null
         ]
        },
        {
         "hoverinfo": "none",
         "line": {
          "color": "blue",
          "width": 4
         },
         "mode": "lines",
         "showlegend": false,
         "type": "scatter3d",
         "x": [
          25,
          -61,
          null
         ],
         "y": [
          6,
          -30,
          null
         ],
         "z": [
          -6,
          39,
          null
         ]
        },
        {
         "hoverinfo": "none",
         "line": {
          "color": "red",
          "width": 4
         },
         "mode": "lines",
         "showlegend": false,
         "type": "scatter3d",
         "x": [
          25,
          7,
          null
         ],
         "y": [
          6,
          4,
          null
         ],
         "z": [
          -6,
          75,
          null
         ]
        },
        {
         "hoverinfo": "none",
         "line": {
          "color": "red",
          "width": 4
         },
         "mode": "lines",
         "showlegend": false,
         "type": "scatter3d",
         "x": [
          25,
          2,
          null
         ],
         "y": [
          6,
          -27,
          null
         ],
         "z": [
          -6,
          75,
          null
         ]
        },
        {
         "hoverinfo": "none",
         "line": {
          "color": "blue",
          "width": 4
         },
         "mode": "lines",
         "showlegend": false,
         "type": "scatter3d",
         "x": [
          25,
          2,
          null
         ],
         "y": [
          6,
          -93,
          null
         ],
         "z": [
          -6,
          -15,
          null
         ]
        },
        {
         "hoverinfo": "none",
         "line": {
          "color": "blue",
          "width": 4
         },
         "mode": "lines",
         "showlegend": false,
         "type": "scatter3d",
         "x": [
          25,
          2,
          null
         ],
         "y": [
          6,
          -70,
          null
         ],
         "z": [
          -6,
          10,
          null
         ]
        },
        {
         "hoverinfo": "none",
         "line": {
          "color": "blue",
          "width": 4
         },
         "mode": "lines",
         "showlegend": false,
         "type": "scatter3d",
         "x": [
          25,
          15,
          null
         ],
         "y": [
          6,
          -52,
          null
         ],
         "z": [
          -6,
          -6,
          null
         ]
        },
        {
         "hoverinfo": "none",
         "line": {
          "color": "red",
          "width": 4
         },
         "mode": "lines",
         "showlegend": false,
         "type": "scatter3d",
         "x": [
          25,
          30,
          null
         ],
         "y": [
          6,
          -90,
          null
         ],
         "z": [
          -6,
          -18,
          null
         ]
        },
        {
         "hoverinfo": "none",
         "line": {
          "color": "blue",
          "width": 4
         },
         "mode": "lines",
         "showlegend": false,
         "type": "scatter3d",
         "x": [
          25,
          48,
          null
         ],
         "y": [
          6,
          -70,
          null
         ],
         "z": [
          -6,
          -18,
          null
         ]
        },
        {
         "hoverinfo": "none",
         "line": {
          "color": "blue",
          "width": 4
         },
         "mode": "lines",
         "showlegend": false,
         "type": "scatter3d",
         "x": [
          25,
          10,
          null
         ],
         "y": [
          6,
          -90,
          null
         ],
         "z": [
          -6,
          39,
          null
         ]
        },
        {
         "hoverinfo": "none",
         "line": {
          "color": "blue",
          "width": 4
         },
         "mode": "lines",
         "showlegend": false,
         "type": "scatter3d",
         "x": [
          25,
          4,
          null
         ],
         "y": [
          6,
          -78,
          null
         ],
         "z": [
          -6,
          51,
          null
         ]
        },
        {
         "hoverinfo": "none",
         "line": {
          "color": "red",
          "width": 4
         },
         "mode": "lines",
         "showlegend": false,
         "type": "scatter3d",
         "x": [
          25,
          2,
          null
         ],
         "y": [
          6,
          -52,
          null
         ],
         "z": [
          -6,
          16,
          null
         ]
        },
        {
         "hoverinfo": "none",
         "line": {
          "color": "blue",
          "width": 4
         },
         "mode": "lines",
         "showlegend": false,
         "type": "scatter3d",
         "x": [
          25,
          2,
          null
         ],
         "y": [
          6,
          56,
          null
         ],
         "z": [
          -6,
          1,
          null
         ]
        },
        {
         "hoverinfo": "none",
         "line": {
          "color": "red",
          "width": 4
         },
         "mode": "lines",
         "showlegend": false,
         "type": "scatter3d",
         "x": [
          25,
          -27,
          null
         ],
         "y": [
          6,
          31,
          null
         ],
         "z": [
          -6,
          45,
          null
         ]
        },
        {
         "hoverinfo": "none",
         "line": {
          "color": "blue",
          "width": 4
         },
         "mode": "lines",
         "showlegend": false,
         "type": "scatter3d",
         "x": [
          25,
          -48,
          null
         ],
         "y": [
          6,
          -63,
          null
         ],
         "z": [
          -6,
          45,
          null
         ]
        },
        {
         "hoverinfo": "none",
         "line": {
          "color": "red",
          "width": 4
         },
         "mode": "lines",
         "showlegend": false,
         "type": "scatter3d",
         "x": [
          25,
          45,
          null
         ],
         "y": [
          6,
          -63,
          null
         ],
         "z": [
          -6,
          54,
          null
         ]
        },
        {
         "hoverinfo": "none",
         "line": {
          "color": "blue",
          "width": 4
         },
         "mode": "lines",
         "showlegend": false,
         "type": "scatter3d",
         "x": [
          25,
          -22,
          null
         ],
         "y": [
          6,
          -68,
          null
         ],
         "z": [
          -6,
          55,
          null
         ]
        },
        {
         "hoverinfo": "none",
         "line": {
          "color": "red",
          "width": 4
         },
         "mode": "lines",
         "showlegend": false,
         "type": "scatter3d",
         "x": [
          25,
          2,
          null
         ],
         "y": [
          6,
          -60,
          null
         ],
         "z": [
          -6,
          66,
          null
         ]
        },
        {
         "hoverinfo": "none",
         "line": {
          "color": "blue",
          "width": 4
         },
         "mode": "lines",
         "showlegend": false,
         "type": "scatter3d",
         "x": [
          25,
          66,
          null
         ],
         "y": [
          6,
          -51,
          null
         ],
         "z": [
          -6,
          15,
          null
         ]
        },
        {
         "hoverinfo": "none",
         "line": {
          "color": "blue",
          "width": 4
         },
         "mode": "lines",
         "showlegend": false,
         "type": "scatter3d",
         "x": [
          25,
          -53,
          null
         ],
         "y": [
          6,
          15,
          null
         ],
         "z": [
          -6,
          -9,
          null
         ]
        },
        {
         "hoverinfo": "none",
         "line": {
          "color": "red",
          "width": 4
         },
         "mode": "lines",
         "showlegend": false,
         "type": "scatter3d",
         "x": [
          25,
          55,
          null
         ],
         "y": [
          6,
          22,
          null
         ],
         "z": [
          -6,
          -10,
          null
         ]
        },
        {
         "hoverinfo": "none",
         "line": {
          "color": "blue",
          "width": 4
         },
         "mode": "lines",
         "showlegend": false,
         "type": "scatter3d",
         "x": [
          25,
          -63,
          null
         ],
         "y": [
          6,
          21,
          null
         ],
         "z": [
          -6,
          4,
          null
         ]
        },
        {
         "hoverinfo": "none",
         "line": {
          "color": "red",
          "width": 4
         },
         "mode": "lines",
         "showlegend": false,
         "type": "scatter3d",
         "x": [
          25,
          -55,
          null
         ],
         "y": [
          6,
          20,
          null
         ],
         "z": [
          -6,
          31,
          null
         ]
        },
        {
         "hoverinfo": "none",
         "line": {
          "color": "red",
          "width": 4
         },
         "mode": "lines",
         "showlegend": false,
         "type": "scatter3d",
         "x": [
          25,
          30,
          null
         ],
         "y": [
          6,
          66,
          null
         ],
         "z": [
          -6,
          -3,
          null
         ]
        },
        {
         "hoverinfo": "none",
         "line": {
          "color": "blue",
          "width": 4
         },
         "mode": "lines",
         "showlegend": false,
         "type": "scatter3d",
         "x": [
          -64,
          -61,
          null
         ],
         "y": [
          -21,
          -9,
          null
         ],
         "z": [
          9,
          39,
          null
         ]
        },
        {
         "hoverinfo": "none",
         "line": {
          "color": "blue",
          "width": 4
         },
         "mode": "lines",
         "showlegend": false,
         "type": "scatter3d",
         "x": [
          -64,
          -45,
          null
         ],
         "y": [
          -21,
          -28,
          null
         ],
         "z": [
          9,
          62,
          null
         ]
        },
        {
         "hoverinfo": "none",
         "line": {
          "color": "blue",
          "width": 4
         },
         "mode": "lines",
         "showlegend": false,
         "type": "scatter3d",
         "x": [
          -64,
          45,
          null
         ],
         "y": [
          -21,
          -30,
          null
         ],
         "z": [
          9,
          66,
          null
         ]
        },
        {
         "hoverinfo": "none",
         "line": {
          "color": "blue",
          "width": 4
         },
         "mode": "lines",
         "showlegend": false,
         "type": "scatter3d",
         "x": [
          -64,
          -61,
          null
         ],
         "y": [
          -21,
          -30,
          null
         ],
         "z": [
          9,
          39,
          null
         ]
        },
        {
         "hoverinfo": "none",
         "line": {
          "color": "blue",
          "width": 4
         },
         "mode": "lines",
         "showlegend": false,
         "type": "scatter3d",
         "x": [
          -64,
          7,
          null
         ],
         "y": [
          -21,
          4,
          null
         ],
         "z": [
          9,
          75,
          null
         ]
        },
        {
         "hoverinfo": "none",
         "line": {
          "color": "blue",
          "width": 4
         },
         "mode": "lines",
         "showlegend": false,
         "type": "scatter3d",
         "x": [
          -64,
          2,
          null
         ],
         "y": [
          -21,
          -27,
          null
         ],
         "z": [
          9,
          75,
          null
         ]
        },
        {
         "hoverinfo": "none",
         "line": {
          "color": "blue",
          "width": 4
         },
         "mode": "lines",
         "showlegend": false,
         "type": "scatter3d",
         "x": [
          -64,
          2,
          null
         ],
         "y": [
          -21,
          -93,
          null
         ],
         "z": [
          9,
          -15,
          null
         ]
        },
        {
         "hoverinfo": "none",
         "line": {
          "color": "blue",
          "width": 4
         },
         "mode": "lines",
         "showlegend": false,
         "type": "scatter3d",
         "x": [
          -64,
          2,
          null
         ],
         "y": [
          -21,
          -70,
          null
         ],
         "z": [
          9,
          10,
          null
         ]
        },
        {
         "hoverinfo": "none",
         "line": {
          "color": "blue",
          "width": 4
         },
         "mode": "lines",
         "showlegend": false,
         "type": "scatter3d",
         "x": [
          -64,
          15,
          null
         ],
         "y": [
          -21,
          -52,
          null
         ],
         "z": [
          9,
          -6,
          null
         ]
        },
        {
         "hoverinfo": "none",
         "line": {
          "color": "blue",
          "width": 4
         },
         "mode": "lines",
         "showlegend": false,
         "type": "scatter3d",
         "x": [
          -64,
          30,
          null
         ],
         "y": [
          -21,
          -90,
          null
         ],
         "z": [
          9,
          -18,
          null
         ]
        },
        {
         "hoverinfo": "none",
         "line": {
          "color": "blue",
          "width": 4
         },
         "mode": "lines",
         "showlegend": false,
         "type": "scatter3d",
         "x": [
          -64,
          48,
          null
         ],
         "y": [
          -21,
          -70,
          null
         ],
         "z": [
          9,
          -18,
          null
         ]
        },
        {
         "hoverinfo": "none",
         "line": {
          "color": "blue",
          "width": 4
         },
         "mode": "lines",
         "showlegend": false,
         "type": "scatter3d",
         "x": [
          -64,
          10,
          null
         ],
         "y": [
          -21,
          -90,
          null
         ],
         "z": [
          9,
          39,
          null
         ]
        },
        {
         "hoverinfo": "none",
         "line": {
          "color": "red",
          "width": 4
         },
         "mode": "lines",
         "showlegend": false,
         "type": "scatter3d",
         "x": [
          -64,
          4,
          null
         ],
         "y": [
          -21,
          -78,
          null
         ],
         "z": [
          9,
          51,
          null
         ]
        },
        {
         "hoverinfo": "none",
         "line": {
          "color": "red",
          "width": 4
         },
         "mode": "lines",
         "showlegend": false,
         "type": "scatter3d",
         "x": [
          -64,
          2,
          null
         ],
         "y": [
          -21,
          -52,
          null
         ],
         "z": [
          9,
          16,
          null
         ]
        },
        {
         "hoverinfo": "none",
         "line": {
          "color": "red",
          "width": 4
         },
         "mode": "lines",
         "showlegend": false,
         "type": "scatter3d",
         "x": [
          -64,
          2,
          null
         ],
         "y": [
          -21,
          56,
          null
         ],
         "z": [
          9,
          1,
          null
         ]
        },
        {
         "hoverinfo": "none",
         "line": {
          "color": "blue",
          "width": 4
         },
         "mode": "lines",
         "showlegend": false,
         "type": "scatter3d",
         "x": [
          -64,
          -27,
          null
         ],
         "y": [
          -21,
          31,
          null
         ],
         "z": [
          9,
          45,
          null
         ]
        },
        {
         "hoverinfo": "none",
         "line": {
          "color": "blue",
          "width": 4
         },
         "mode": "lines",
         "showlegend": false,
         "type": "scatter3d",
         "x": [
          -64,
          -48,
          null
         ],
         "y": [
          -21,
          -63,
          null
         ],
         "z": [
          9,
          45,
          null
         ]
        },
        {
         "hoverinfo": "none",
         "line": {
          "color": "blue",
          "width": 4
         },
         "mode": "lines",
         "showlegend": false,
         "type": "scatter3d",
         "x": [
          -64,
          45,
          null
         ],
         "y": [
          -21,
          -63,
          null
         ],
         "z": [
          9,
          54,
          null
         ]
        },
        {
         "hoverinfo": "none",
         "line": {
          "color": "blue",
          "width": 4
         },
         "mode": "lines",
         "showlegend": false,
         "type": "scatter3d",
         "x": [
          -64,
          -22,
          null
         ],
         "y": [
          -21,
          -68,
          null
         ],
         "z": [
          9,
          55,
          null
         ]
        },
        {
         "hoverinfo": "none",
         "line": {
          "color": "blue",
          "width": 4
         },
         "mode": "lines",
         "showlegend": false,
         "type": "scatter3d",
         "x": [
          -64,
          2,
          null
         ],
         "y": [
          -21,
          -60,
          null
         ],
         "z": [
          9,
          66,
          null
         ]
        },
        {
         "hoverinfo": "none",
         "line": {
          "color": "blue",
          "width": 4
         },
         "mode": "lines",
         "showlegend": false,
         "type": "scatter3d",
         "x": [
          -64,
          66,
          null
         ],
         "y": [
          -21,
          -51,
          null
         ],
         "z": [
          9,
          15,
          null
         ]
        },
        {
         "hoverinfo": "none",
         "line": {
          "color": "blue",
          "width": 4
         },
         "mode": "lines",
         "showlegend": false,
         "type": "scatter3d",
         "x": [
          -64,
          -53,
          null
         ],
         "y": [
          -21,
          15,
          null
         ],
         "z": [
          9,
          -9,
          null
         ]
        },
        {
         "hoverinfo": "none",
         "line": {
          "color": "blue",
          "width": 4
         },
         "mode": "lines",
         "showlegend": false,
         "type": "scatter3d",
         "x": [
          -64,
          55,
          null
         ],
         "y": [
          -21,
          22,
          null
         ],
         "z": [
          9,
          -10,
          null
         ]
        },
        {
         "hoverinfo": "none",
         "line": {
          "color": "blue",
          "width": 4
         },
         "mode": "lines",
         "showlegend": false,
         "type": "scatter3d",
         "x": [
          -64,
          -63,
          null
         ],
         "y": [
          -21,
          21,
          null
         ],
         "z": [
          9,
          4,
          null
         ]
        },
        {
         "hoverinfo": "none",
         "line": {
          "color": "blue",
          "width": 4
         },
         "mode": "lines",
         "showlegend": false,
         "type": "scatter3d",
         "x": [
          -64,
          -55,
          null
         ],
         "y": [
          -21,
          20,
          null
         ],
         "z": [
          9,
          31,
          null
         ]
        },
        {
         "hoverinfo": "none",
         "line": {
          "color": "red",
          "width": 4
         },
         "mode": "lines",
         "showlegend": false,
         "type": "scatter3d",
         "x": [
          -64,
          30,
          null
         ],
         "y": [
          -21,
          66,
          null
         ],
         "z": [
          9,
          -3,
          null
         ]
        },
        {
         "hoverinfo": "none",
         "line": {
          "color": "blue",
          "width": 4
         },
         "mode": "lines",
         "showlegend": false,
         "type": "scatter3d",
         "x": [
          -61,
          -45,
          null
         ],
         "y": [
          -9,
          -28,
          null
         ],
         "z": [
          39,
          62,
          null
         ]
        },
        {
         "hoverinfo": "none",
         "line": {
          "color": "blue",
          "width": 4
         },
         "mode": "lines",
         "showlegend": false,
         "type": "scatter3d",
         "x": [
          -61,
          45,
          null
         ],
         "y": [
          -9,
          -30,
          null
         ],
         "z": [
          39,
          66,
          null
         ]
        },
        {
         "hoverinfo": "none",
         "line": {
          "color": "blue",
          "width": 4
         },
         "mode": "lines",
         "showlegend": false,
         "type": "scatter3d",
         "x": [
          -61,
          -61,
          null
         ],
         "y": [
          -9,
          -30,
          null
         ],
         "z": [
          39,
          39,
          null
         ]
        },
        {
         "hoverinfo": "none",
         "line": {
          "color": "blue",
          "width": 4
         },
         "mode": "lines",
         "showlegend": false,
         "type": "scatter3d",
         "x": [
          -61,
          7,
          null
         ],
         "y": [
          -9,
          4,
          null
         ],
         "z": [
          39,
          75,
          null
         ]
        },
        {
         "hoverinfo": "none",
         "line": {
          "color": "blue",
          "width": 4
         },
         "mode": "lines",
         "showlegend": false,
         "type": "scatter3d",
         "x": [
          -61,
          2,
          null
         ],
         "y": [
          -9,
          -27,
          null
         ],
         "z": [
          39,
          75,
          null
         ]
        },
        {
         "hoverinfo": "none",
         "line": {
          "color": "red",
          "width": 4
         },
         "mode": "lines",
         "showlegend": false,
         "type": "scatter3d",
         "x": [
          -61,
          2,
          null
         ],
         "y": [
          -9,
          -93,
          null
         ],
         "z": [
          39,
          -15,
          null
         ]
        },
        {
         "hoverinfo": "none",
         "line": {
          "color": "blue",
          "width": 4
         },
         "mode": "lines",
         "showlegend": false,
         "type": "scatter3d",
         "x": [
          -61,
          2,
          null
         ],
         "y": [
          -9,
          -70,
          null
         ],
         "z": [
          39,
          10,
          null
         ]
        },
        {
         "hoverinfo": "none",
         "line": {
          "color": "blue",
          "width": 4
         },
         "mode": "lines",
         "showlegend": false,
         "type": "scatter3d",
         "x": [
          -61,
          15,
          null
         ],
         "y": [
          -9,
          -52,
          null
         ],
         "z": [
          39,
          -6,
          null
         ]
        },
        {
         "hoverinfo": "none",
         "line": {
          "color": "blue",
          "width": 4
         },
         "mode": "lines",
         "showlegend": false,
         "type": "scatter3d",
         "x": [
          -61,
          30,
          null
         ],
         "y": [
          -9,
          -90,
          null
         ],
         "z": [
          39,
          -18,
          null
         ]
        },
        {
         "hoverinfo": "none",
         "line": {
          "color": "blue",
          "width": 4
         },
         "mode": "lines",
         "showlegend": false,
         "type": "scatter3d",
         "x": [
          -61,
          48,
          null
         ],
         "y": [
          -9,
          -70,
          null
         ],
         "z": [
          39,
          -18,
          null
         ]
        },
        {
         "hoverinfo": "none",
         "line": {
          "color": "blue",
          "width": 4
         },
         "mode": "lines",
         "showlegend": false,
         "type": "scatter3d",
         "x": [
          -61,
          10,
          null
         ],
         "y": [
          -9,
          -90,
          null
         ],
         "z": [
          39,
          39,
          null
         ]
        },
        {
         "hoverinfo": "none",
         "line": {
          "color": "blue",
          "width": 4
         },
         "mode": "lines",
         "showlegend": false,
         "type": "scatter3d",
         "x": [
          -61,
          4,
          null
         ],
         "y": [
          -9,
          -78,
          null
         ],
         "z": [
          39,
          51,
          null
         ]
        },
        {
         "hoverinfo": "none",
         "line": {
          "color": "blue",
          "width": 4
         },
         "mode": "lines",
         "showlegend": false,
         "type": "scatter3d",
         "x": [
          -61,
          2,
          null
         ],
         "y": [
          -9,
          -52,
          null
         ],
         "z": [
          39,
          16,
          null
         ]
        },
        {
         "hoverinfo": "none",
         "line": {
          "color": "red",
          "width": 4
         },
         "mode": "lines",
         "showlegend": false,
         "type": "scatter3d",
         "x": [
          -61,
          2,
          null
         ],
         "y": [
          -9,
          56,
          null
         ],
         "z": [
          39,
          1,
          null
         ]
        },
        {
         "hoverinfo": "none",
         "line": {
          "color": "red",
          "width": 4
         },
         "mode": "lines",
         "showlegend": false,
         "type": "scatter3d",
         "x": [
          -61,
          -27,
          null
         ],
         "y": [
          -9,
          31,
          null
         ],
         "z": [
          39,
          45,
          null
         ]
        },
        {
         "hoverinfo": "none",
         "line": {
          "color": "blue",
          "width": 4
         },
         "mode": "lines",
         "showlegend": false,
         "type": "scatter3d",
         "x": [
          -61,
          -48,
          null
         ],
         "y": [
          -9,
          -63,
          null
         ],
         "z": [
          39,
          45,
          null
         ]
        },
        {
         "hoverinfo": "none",
         "line": {
          "color": "blue",
          "width": 4
         },
         "mode": "lines",
         "showlegend": false,
         "type": "scatter3d",
         "x": [
          -61,
          45,
          null
         ],
         "y": [
          -9,
          -63,
          null
         ],
         "z": [
          39,
          54,
          null
         ]
        },
        {
         "hoverinfo": "none",
         "line": {
          "color": "blue",
          "width": 4
         },
         "mode": "lines",
         "showlegend": false,
         "type": "scatter3d",
         "x": [
          -61,
          -22,
          null
         ],
         "y": [
          -9,
          -68,
          null
         ],
         "z": [
          39,
          55,
          null
         ]
        },
        {
         "hoverinfo": "none",
         "line": {
          "color": "blue",
          "width": 4
         },
         "mode": "lines",
         "showlegend": false,
         "type": "scatter3d",
         "x": [
          -61,
          2,
          null
         ],
         "y": [
          -9,
          -60,
          null
         ],
         "z": [
          39,
          66,
          null
         ]
        },
        {
         "hoverinfo": "none",
         "line": {
          "color": "red",
          "width": 4
         },
         "mode": "lines",
         "showlegend": false,
         "type": "scatter3d",
         "x": [
          -61,
          66,
          null
         ],
         "y": [
          -9,
          -51,
          null
         ],
         "z": [
          39,
          15,
          null
         ]
        },
        {
         "hoverinfo": "none",
         "line": {
          "color": "blue",
          "width": 4
         },
         "mode": "lines",
         "showlegend": false,
         "type": "scatter3d",
         "x": [
          -61,
          -53,
          null
         ],
         "y": [
          -9,
          15,
          null
         ],
         "z": [
          39,
          -9,
          null
         ]
        },
        {
         "hoverinfo": "none",
         "line": {
          "color": "blue",
          "width": 4
         },
         "mode": "lines",
         "showlegend": false,
         "type": "scatter3d",
         "x": [
          -61,
          55,
          null
         ],
         "y": [
          -9,
          22,
          null
         ],
         "z": [
          39,
          -10,
          null
         ]
        },
        {
         "hoverinfo": "none",
         "line": {
          "color": "red",
          "width": 4
         },
         "mode": "lines",
         "showlegend": false,
         "type": "scatter3d",
         "x": [
          -61,
          -63,
          null
         ],
         "y": [
          -9,
          21,
          null
         ],
         "z": [
          39,
          4,
          null
         ]
        },
        {
         "hoverinfo": "none",
         "line": {
          "color": "blue",
          "width": 4
         },
         "mode": "lines",
         "showlegend": false,
         "type": "scatter3d",
         "x": [
          -61,
          -55,
          null
         ],
         "y": [
          -9,
          20,
          null
         ],
         "z": [
          39,
          31,
          null
         ]
        },
        {
         "hoverinfo": "none",
         "line": {
          "color": "red",
          "width": 4
         },
         "mode": "lines",
         "showlegend": false,
         "type": "scatter3d",
         "x": [
          -61,
          30,
          null
         ],
         "y": [
          -9,
          66,
          null
         ],
         "z": [
          39,
          -3,
          null
         ]
        },
        {
         "hoverinfo": "none",
         "line": {
          "color": "blue",
          "width": 4
         },
         "mode": "lines",
         "showlegend": false,
         "type": "scatter3d",
         "x": [
          -45,
          45,
          null
         ],
         "y": [
          -28,
          -30,
          null
         ],
         "z": [
          62,
          66,
          null
         ]
        },
        {
         "hoverinfo": "none",
         "line": {
          "color": "blue",
          "width": 4
         },
         "mode": "lines",
         "showlegend": false,
         "type": "scatter3d",
         "x": [
          -45,
          -61,
          null
         ],
         "y": [
          -28,
          -30,
          null
         ],
         "z": [
          62,
          39,
          null
         ]
        },
        {
         "hoverinfo": "none",
         "line": {
          "color": "blue",
          "width": 4
         },
         "mode": "lines",
         "showlegend": false,
         "type": "scatter3d",
         "x": [
          -45,
          7,
          null
         ],
         "y": [
          -28,
          4,
          null
         ],
         "z": [
          62,
          75,
          null
         ]
        },
        {
         "hoverinfo": "none",
         "line": {
          "color": "blue",
          "width": 4
         },
         "mode": "lines",
         "showlegend": false,
         "type": "scatter3d",
         "x": [
          -45,
          2,
          null
         ],
         "y": [
          -28,
          -27,
          null
         ],
         "z": [
          62,
          75,
          null
         ]
        },
        {
         "hoverinfo": "none",
         "line": {
          "color": "red",
          "width": 4
         },
         "mode": "lines",
         "showlegend": false,
         "type": "scatter3d",
         "x": [
          -45,
          2,
          null
         ],
         "y": [
          -28,
          -93,
          null
         ],
         "z": [
          62,
          -15,
          null
         ]
        },
        {
         "hoverinfo": "none",
         "line": {
          "color": "blue",
          "width": 4
         },
         "mode": "lines",
         "showlegend": false,
         "type": "scatter3d",
         "x": [
          -45,
          2,
          null
         ],
         "y": [
          -28,
          -70,
          null
         ],
         "z": [
          62,
          10,
          null
         ]
        },
        {
         "hoverinfo": "none",
         "line": {
          "color": "red",
          "width": 4
         },
         "mode": "lines",
         "showlegend": false,
         "type": "scatter3d",
         "x": [
          -45,
          15,
          null
         ],
         "y": [
          -28,
          -52,
          null
         ],
         "z": [
          62,
          -6,
          null
         ]
        },
        {
         "hoverinfo": "none",
         "line": {
          "color": "blue",
          "width": 4
         },
         "mode": "lines",
         "showlegend": false,
         "type": "scatter3d",
         "x": [
          -45,
          30,
          null
         ],
         "y": [
          -28,
          -90,
          null
         ],
         "z": [
          62,
          -18,
          null
         ]
        },
        {
         "hoverinfo": "none",
         "line": {
          "color": "red",
          "width": 4
         },
         "mode": "lines",
         "showlegend": false,
         "type": "scatter3d",
         "x": [
          -45,
          48,
          null
         ],
         "y": [
          -28,
          -70,
          null
         ],
         "z": [
          62,
          -18,
          null
         ]
        },
        {
         "hoverinfo": "none",
         "line": {
          "color": "red",
          "width": 4
         },
         "mode": "lines",
         "showlegend": false,
         "type": "scatter3d",
         "x": [
          -45,
          10,
          null
         ],
         "y": [
          -28,
          -90,
          null
         ],
         "z": [
          62,
          39,
          null
         ]
        },
        {
         "hoverinfo": "none",
         "line": {
          "color": "red",
          "width": 4
         },
         "mode": "lines",
         "showlegend": false,
         "type": "scatter3d",
         "x": [
          -45,
          4,
          null
         ],
         "y": [
          -28,
          -78,
          null
         ],
         "z": [
          62,
          51,
          null
         ]
        },
        {
         "hoverinfo": "none",
         "line": {
          "color": "blue",
          "width": 4
         },
         "mode": "lines",
         "showlegend": false,
         "type": "scatter3d",
         "x": [
          -45,
          2,
          null
         ],
         "y": [
          -28,
          -52,
          null
         ],
         "z": [
          62,
          16,
          null
         ]
        },
        {
         "hoverinfo": "none",
         "line": {
          "color": "blue",
          "width": 4
         },
         "mode": "lines",
         "showlegend": false,
         "type": "scatter3d",
         "x": [
          -45,
          2,
          null
         ],
         "y": [
          -28,
          56,
          null
         ],
         "z": [
          62,
          1,
          null
         ]
        },
        {
         "hoverinfo": "none",
         "line": {
          "color": "blue",
          "width": 4
         },
         "mode": "lines",
         "showlegend": false,
         "type": "scatter3d",
         "x": [
          -45,
          -27,
          null
         ],
         "y": [
          -28,
          31,
          null
         ],
         "z": [
          62,
          45,
          null
         ]
        },
        {
         "hoverinfo": "none",
         "line": {
          "color": "red",
          "width": 4
         },
         "mode": "lines",
         "showlegend": false,
         "type": "scatter3d",
         "x": [
          -45,
          -48,
          null
         ],
         "y": [
          -28,
          -63,
          null
         ],
         "z": [
          62,
          45,
          null
         ]
        },
        {
         "hoverinfo": "none",
         "line": {
          "color": "blue",
          "width": 4
         },
         "mode": "lines",
         "showlegend": false,
         "type": "scatter3d",
         "x": [
          -45,
          45,
          null
         ],
         "y": [
          -28,
          -63,
          null
         ],
         "z": [
          62,
          54,
          null
         ]
        },
        {
         "hoverinfo": "none",
         "line": {
          "color": "red",
          "width": 4
         },
         "mode": "lines",
         "showlegend": false,
         "type": "scatter3d",
         "x": [
          -45,
          -22,
          null
         ],
         "y": [
          -28,
          -68,
          null
         ],
         "z": [
          62,
          55,
          null
         ]
        },
        {
         "hoverinfo": "none",
         "line": {
          "color": "blue",
          "width": 4
         },
         "mode": "lines",
         "showlegend": false,
         "type": "scatter3d",
         "x": [
          -45,
          2,
          null
         ],
         "y": [
          -28,
          -60,
          null
         ],
         "z": [
          62,
          66,
          null
         ]
        },
        {
         "hoverinfo": "none",
         "line": {
          "color": "red",
          "width": 4
         },
         "mode": "lines",
         "showlegend": false,
         "type": "scatter3d",
         "x": [
          -45,
          66,
          null
         ],
         "y": [
          -28,
          -51,
          null
         ],
         "z": [
          62,
          15,
          null
         ]
        },
        {
         "hoverinfo": "none",
         "line": {
          "color": "red",
          "width": 4
         },
         "mode": "lines",
         "showlegend": false,
         "type": "scatter3d",
         "x": [
          -45,
          -53,
          null
         ],
         "y": [
          -28,
          15,
          null
         ],
         "z": [
          62,
          -9,
          null
         ]
        },
        {
         "hoverinfo": "none",
         "line": {
          "color": "blue",
          "width": 4
         },
         "mode": "lines",
         "showlegend": false,
         "type": "scatter3d",
         "x": [
          -45,
          55,
          null
         ],
         "y": [
          -28,
          22,
          null
         ],
         "z": [
          62,
          -10,
          null
         ]
        },
        {
         "hoverinfo": "none",
         "line": {
          "color": "red",
          "width": 4
         },
         "mode": "lines",
         "showlegend": false,
         "type": "scatter3d",
         "x": [
          -45,
          -63,
          null
         ],
         "y": [
          -28,
          21,
          null
         ],
         "z": [
          62,
          4,
          null
         ]
        },
        {
         "hoverinfo": "none",
         "line": {
          "color": "blue",
          "width": 4
         },
         "mode": "lines",
         "showlegend": false,
         "type": "scatter3d",
         "x": [
          -45,
          -55,
          null
         ],
         "y": [
          -28,
          20,
          null
         ],
         "z": [
          62,
          31,
          null
         ]
        },
        {
         "hoverinfo": "none",
         "line": {
          "color": "blue",
          "width": 4
         },
         "mode": "lines",
         "showlegend": false,
         "type": "scatter3d",
         "x": [
          -45,
          30,
          null
         ],
         "y": [
          -28,
          66,
          null
         ],
         "z": [
          62,
          -3,
          null
         ]
        },
        {
         "hoverinfo": "none",
         "line": {
          "color": "blue",
          "width": 4
         },
         "mode": "lines",
         "showlegend": false,
         "type": "scatter3d",
         "x": [
          45,
          -61,
          null
         ],
         "y": [
          -30,
          -30,
          null
         ],
         "z": [
          66,
          39,
          null
         ]
        },
        {
         "hoverinfo": "none",
         "line": {
          "color": "blue",
          "width": 4
         },
         "mode": "lines",
         "showlegend": false,
         "type": "scatter3d",
         "x": [
          45,
          7,
          null
         ],
         "y": [
          -30,
          4,
          null
         ],
         "z": [
          66,
          75,
          null
         ]
        },
        {
         "hoverinfo": "none",
         "line": {
          "color": "blue",
          "width": 4
         },
         "mode": "lines",
         "showlegend": false,
         "type": "scatter3d",
         "x": [
          45,
          2,
          null
         ],
         "y": [
          -30,
          -27,
          null
         ],
         "z": [
          66,
          75,
          null
         ]
        },
        {
         "hoverinfo": "none",
         "line": {
          "color": "red",
          "width": 4
         },
         "mode": "lines",
         "showlegend": false,
         "type": "scatter3d",
         "x": [
          45,
          2,
          null
         ],
         "y": [
          -30,
          -93,
          null
         ],
         "z": [
          66,
          -15,
          null
         ]
        },
        {
         "hoverinfo": "none",
         "line": {
          "color": "red",
          "width": 4
         },
         "mode": "lines",
         "showlegend": false,
         "type": "scatter3d",
         "x": [
          45,
          2,
          null
         ],
         "y": [
          -30,
          -70,
          null
         ],
         "z": [
          66,
          10,
          null
         ]
        },
        {
         "hoverinfo": "none",
         "line": {
          "color": "red",
          "width": 4
         },
         "mode": "lines",
         "showlegend": false,
         "type": "scatter3d",
         "x": [
          45,
          15,
          null
         ],
         "y": [
          -30,
          -52,
          null
         ],
         "z": [
          66,
          -6,
          null
         ]
        },
        {
         "hoverinfo": "none",
         "line": {
          "color": "blue",
          "width": 4
         },
         "mode": "lines",
         "showlegend": false,
         "type": "scatter3d",
         "x": [
          45,
          30,
          null
         ],
         "y": [
          -30,
          -90,
          null
         ],
         "z": [
          66,
          -18,
          null
         ]
        },
        {
         "hoverinfo": "none",
         "line": {
          "color": "red",
          "width": 4
         },
         "mode": "lines",
         "showlegend": false,
         "type": "scatter3d",
         "x": [
          45,
          48,
          null
         ],
         "y": [
          -30,
          -70,
          null
         ],
         "z": [
          66,
          -18,
          null
         ]
        },
        {
         "hoverinfo": "none",
         "line": {
          "color": "red",
          "width": 4
         },
         "mode": "lines",
         "showlegend": false,
         "type": "scatter3d",
         "x": [
          45,
          10,
          null
         ],
         "y": [
          -30,
          -90,
          null
         ],
         "z": [
          66,
          39,
          null
         ]
        },
        {
         "hoverinfo": "none",
         "line": {
          "color": "blue",
          "width": 4
         },
         "mode": "lines",
         "showlegend": false,
         "type": "scatter3d",
         "x": [
          45,
          4,
          null
         ],
         "y": [
          -30,
          -78,
          null
         ],
         "z": [
          66,
          51,
          null
         ]
        },
        {
         "hoverinfo": "none",
         "line": {
          "color": "blue",
          "width": 4
         },
         "mode": "lines",
         "showlegend": false,
         "type": "scatter3d",
         "x": [
          45,
          2,
          null
         ],
         "y": [
          -30,
          -52,
          null
         ],
         "z": [
          66,
          16,
          null
         ]
        },
        {
         "hoverinfo": "none",
         "line": {
          "color": "blue",
          "width": 4
         },
         "mode": "lines",
         "showlegend": false,
         "type": "scatter3d",
         "x": [
          45,
          2,
          null
         ],
         "y": [
          -30,
          56,
          null
         ],
         "z": [
          66,
          1,
          null
         ]
        },
        {
         "hoverinfo": "none",
         "line": {
          "color": "blue",
          "width": 4
         },
         "mode": "lines",
         "showlegend": false,
         "type": "scatter3d",
         "x": [
          45,
          -27,
          null
         ],
         "y": [
          -30,
          31,
          null
         ],
         "z": [
          66,
          45,
          null
         ]
        },
        {
         "hoverinfo": "none",
         "line": {
          "color": "red",
          "width": 4
         },
         "mode": "lines",
         "showlegend": false,
         "type": "scatter3d",
         "x": [
          45,
          -48,
          null
         ],
         "y": [
          -30,
          -63,
          null
         ],
         "z": [
          66,
          45,
          null
         ]
        },
        {
         "hoverinfo": "none",
         "line": {
          "color": "blue",
          "width": 4
         },
         "mode": "lines",
         "showlegend": false,
         "type": "scatter3d",
         "x": [
          45,
          45,
          null
         ],
         "y": [
          -30,
          -63,
          null
         ],
         "z": [
          66,
          54,
          null
         ]
        },
        {
         "hoverinfo": "none",
         "line": {
          "color": "red",
          "width": 4
         },
         "mode": "lines",
         "showlegend": false,
         "type": "scatter3d",
         "x": [
          45,
          -22,
          null
         ],
         "y": [
          -30,
          -68,
          null
         ],
         "z": [
          66,
          55,
          null
         ]
        },
        {
         "hoverinfo": "none",
         "line": {
          "color": "blue",
          "width": 4
         },
         "mode": "lines",
         "showlegend": false,
         "type": "scatter3d",
         "x": [
          45,
          2,
          null
         ],
         "y": [
          -30,
          -60,
          null
         ],
         "z": [
          66,
          66,
          null
         ]
        },
        {
         "hoverinfo": "none",
         "line": {
          "color": "red",
          "width": 4
         },
         "mode": "lines",
         "showlegend": false,
         "type": "scatter3d",
         "x": [
          45,
          66,
          null
         ],
         "y": [
          -30,
          -51,
          null
         ],
         "z": [
          66,
          15,
          null
         ]
        },
        {
         "hoverinfo": "none",
         "line": {
          "color": "red",
          "width": 4
         },
         "mode": "lines",
         "showlegend": false,
         "type": "scatter3d",
         "x": [
          45,
          -53,
          null
         ],
         "y": [
          -30,
          15,
          null
         ],
         "z": [
          66,
          -9,
          null
         ]
        },
        {
         "hoverinfo": "none",
         "line": {
          "color": "blue",
          "width": 4
         },
         "mode": "lines",
         "showlegend": false,
         "type": "scatter3d",
         "x": [
          45,
          55,
          null
         ],
         "y": [
          -30,
          22,
          null
         ],
         "z": [
          66,
          -10,
          null
         ]
        },
        {
         "hoverinfo": "none",
         "line": {
          "color": "red",
          "width": 4
         },
         "mode": "lines",
         "showlegend": false,
         "type": "scatter3d",
         "x": [
          45,
          -63,
          null
         ],
         "y": [
          -30,
          21,
          null
         ],
         "z": [
          66,
          4,
          null
         ]
        },
        {
         "hoverinfo": "none",
         "line": {
          "color": "blue",
          "width": 4
         },
         "mode": "lines",
         "showlegend": false,
         "type": "scatter3d",
         "x": [
          45,
          -55,
          null
         ],
         "y": [
          -30,
          20,
          null
         ],
         "z": [
          66,
          31,
          null
         ]
        },
        {
         "hoverinfo": "none",
         "line": {
          "color": "blue",
          "width": 4
         },
         "mode": "lines",
         "showlegend": false,
         "type": "scatter3d",
         "x": [
          45,
          30,
          null
         ],
         "y": [
          -30,
          66,
          null
         ],
         "z": [
          66,
          -3,
          null
         ]
        },
        {
         "hoverinfo": "none",
         "line": {
          "color": "blue",
          "width": 4
         },
         "mode": "lines",
         "showlegend": false,
         "type": "scatter3d",
         "x": [
          -61,
          7,
          null
         ],
         "y": [
          -30,
          4,
          null
         ],
         "z": [
          39,
          75,
          null
         ]
        },
        {
         "hoverinfo": "none",
         "line": {
          "color": "blue",
          "width": 4
         },
         "mode": "lines",
         "showlegend": false,
         "type": "scatter3d",
         "x": [
          -61,
          2,
          null
         ],
         "y": [
          -30,
          -27,
          null
         ],
         "z": [
          39,
          75,
          null
         ]
        },
        {
         "hoverinfo": "none",
         "line": {
          "color": "red",
          "width": 4
         },
         "mode": "lines",
         "showlegend": false,
         "type": "scatter3d",
         "x": [
          -61,
          2,
          null
         ],
         "y": [
          -30,
          -93,
          null
         ],
         "z": [
          39,
          -15,
          null
         ]
        },
        {
         "hoverinfo": "none",
         "line": {
          "color": "blue",
          "width": 4
         },
         "mode": "lines",
         "showlegend": false,
         "type": "scatter3d",
         "x": [
          -61,
          2,
          null
         ],
         "y": [
          -30,
          -70,
          null
         ],
         "z": [
          39,
          10,
          null
         ]
        },
        {
         "hoverinfo": "none",
         "line": {
          "color": "red",
          "width": 4
         },
         "mode": "lines",
         "showlegend": false,
         "type": "scatter3d",
         "x": [
          -61,
          15,
          null
         ],
         "y": [
          -30,
          -52,
          null
         ],
         "z": [
          39,
          -6,
          null
         ]
        },
        {
         "hoverinfo": "none",
         "line": {
          "color": "blue",
          "width": 4
         },
         "mode": "lines",
         "showlegend": false,
         "type": "scatter3d",
         "x": [
          -61,
          30,
          null
         ],
         "y": [
          -30,
          -90,
          null
         ],
         "z": [
          39,
          -18,
          null
         ]
        },
        {
         "hoverinfo": "none",
         "line": {
          "color": "blue",
          "width": 4
         },
         "mode": "lines",
         "showlegend": false,
         "type": "scatter3d",
         "x": [
          -61,
          48,
          null
         ],
         "y": [
          -30,
          -70,
          null
         ],
         "z": [
          39,
          -18,
          null
         ]
        },
        {
         "hoverinfo": "none",
         "line": {
          "color": "red",
          "width": 4
         },
         "mode": "lines",
         "showlegend": false,
         "type": "scatter3d",
         "x": [
          -61,
          10,
          null
         ],
         "y": [
          -30,
          -90,
          null
         ],
         "z": [
          39,
          39,
          null
         ]
        },
        {
         "hoverinfo": "none",
         "line": {
          "color": "blue",
          "width": 4
         },
         "mode": "lines",
         "showlegend": false,
         "type": "scatter3d",
         "x": [
          -61,
          4,
          null
         ],
         "y": [
          -30,
          -78,
          null
         ],
         "z": [
          39,
          51,
          null
         ]
        },
        {
         "hoverinfo": "none",
         "line": {
          "color": "red",
          "width": 4
         },
         "mode": "lines",
         "showlegend": false,
         "type": "scatter3d",
         "x": [
          -61,
          2,
          null
         ],
         "y": [
          -30,
          -52,
          null
         ],
         "z": [
          39,
          16,
          null
         ]
        },
        {
         "hoverinfo": "none",
         "line": {
          "color": "red",
          "width": 4
         },
         "mode": "lines",
         "showlegend": false,
         "type": "scatter3d",
         "x": [
          -61,
          2,
          null
         ],
         "y": [
          -30,
          56,
          null
         ],
         "z": [
          39,
          1,
          null
         ]
        },
        {
         "hoverinfo": "none",
         "line": {
          "color": "blue",
          "width": 4
         },
         "mode": "lines",
         "showlegend": false,
         "type": "scatter3d",
         "x": [
          -61,
          -27,
          null
         ],
         "y": [
          -30,
          31,
          null
         ],
         "z": [
          39,
          45,
          null
         ]
        },
        {
         "hoverinfo": "none",
         "line": {
          "color": "blue",
          "width": 4
         },
         "mode": "lines",
         "showlegend": false,
         "type": "scatter3d",
         "x": [
          -61,
          -48,
          null
         ],
         "y": [
          -30,
          -63,
          null
         ],
         "z": [
          39,
          45,
          null
         ]
        },
        {
         "hoverinfo": "none",
         "line": {
          "color": "blue",
          "width": 4
         },
         "mode": "lines",
         "showlegend": false,
         "type": "scatter3d",
         "x": [
          -61,
          45,
          null
         ],
         "y": [
          -30,
          -63,
          null
         ],
         "z": [
          39,
          54,
          null
         ]
        },
        {
         "hoverinfo": "none",
         "line": {
          "color": "blue",
          "width": 4
         },
         "mode": "lines",
         "showlegend": false,
         "type": "scatter3d",
         "x": [
          -61,
          -22,
          null
         ],
         "y": [
          -30,
          -68,
          null
         ],
         "z": [
          39,
          55,
          null
         ]
        },
        {
         "hoverinfo": "none",
         "line": {
          "color": "blue",
          "width": 4
         },
         "mode": "lines",
         "showlegend": false,
         "type": "scatter3d",
         "x": [
          -61,
          2,
          null
         ],
         "y": [
          -30,
          -60,
          null
         ],
         "z": [
          39,
          66,
          null
         ]
        },
        {
         "hoverinfo": "none",
         "line": {
          "color": "red",
          "width": 4
         },
         "mode": "lines",
         "showlegend": false,
         "type": "scatter3d",
         "x": [
          -61,
          66,
          null
         ],
         "y": [
          -30,
          -51,
          null
         ],
         "z": [
          39,
          15,
          null
         ]
        },
        {
         "hoverinfo": "none",
         "line": {
          "color": "blue",
          "width": 4
         },
         "mode": "lines",
         "showlegend": false,
         "type": "scatter3d",
         "x": [
          -61,
          -53,
          null
         ],
         "y": [
          -30,
          15,
          null
         ],
         "z": [
          39,
          -9,
          null
         ]
        },
        {
         "hoverinfo": "none",
         "line": {
          "color": "blue",
          "width": 4
         },
         "mode": "lines",
         "showlegend": false,
         "type": "scatter3d",
         "x": [
          -61,
          55,
          null
         ],
         "y": [
          -30,
          22,
          null
         ],
         "z": [
          39,
          -10,
          null
         ]
        },
        {
         "hoverinfo": "none",
         "line": {
          "color": "blue",
          "width": 4
         },
         "mode": "lines",
         "showlegend": false,
         "type": "scatter3d",
         "x": [
          -61,
          -63,
          null
         ],
         "y": [
          -30,
          21,
          null
         ],
         "z": [
          39,
          4,
          null
         ]
        },
        {
         "hoverinfo": "none",
         "line": {
          "color": "blue",
          "width": 4
         },
         "mode": "lines",
         "showlegend": false,
         "type": "scatter3d",
         "x": [
          -61,
          -55,
          null
         ],
         "y": [
          -30,
          20,
          null
         ],
         "z": [
          39,
          31,
          null
         ]
        },
        {
         "hoverinfo": "none",
         "line": {
          "color": "blue",
          "width": 4
         },
         "mode": "lines",
         "showlegend": false,
         "type": "scatter3d",
         "x": [
          -61,
          30,
          null
         ],
         "y": [
          -30,
          66,
          null
         ],
         "z": [
          39,
          -3,
          null
         ]
        },
        {
         "hoverinfo": "none",
         "line": {
          "color": "blue",
          "width": 4
         },
         "mode": "lines",
         "showlegend": false,
         "type": "scatter3d",
         "x": [
          7,
          2,
          null
         ],
         "y": [
          4,
          -27,
          null
         ],
         "z": [
          75,
          75,
          null
         ]
        },
        {
         "hoverinfo": "none",
         "line": {
          "color": "red",
          "width": 4
         },
         "mode": "lines",
         "showlegend": false,
         "type": "scatter3d",
         "x": [
          7,
          2,
          null
         ],
         "y": [
          4,
          -93,
          null
         ],
         "z": [
          75,
          -15,
          null
         ]
        },
        {
         "hoverinfo": "none",
         "line": {
          "color": "blue",
          "width": 4
         },
         "mode": "lines",
         "showlegend": false,
         "type": "scatter3d",
         "x": [
          7,
          2,
          null
         ],
         "y": [
          4,
          -70,
          null
         ],
         "z": [
          75,
          10,
          null
         ]
        },
        {
         "hoverinfo": "none",
         "line": {
          "color": "red",
          "width": 4
         },
         "mode": "lines",
         "showlegend": false,
         "type": "scatter3d",
         "x": [
          7,
          15,
          null
         ],
         "y": [
          4,
          -52,
          null
         ],
         "z": [
          75,
          -6,
          null
         ]
        },
        {
         "hoverinfo": "none",
         "line": {
          "color": "blue",
          "width": 4
         },
         "mode": "lines",
         "showlegend": false,
         "type": "scatter3d",
         "x": [
          7,
          30,
          null
         ],
         "y": [
          4,
          -90,
          null
         ],
         "z": [
          75,
          -18,
          null
         ]
        },
        {
         "hoverinfo": "none",
         "line": {
          "color": "blue",
          "width": 4
         },
         "mode": "lines",
         "showlegend": false,
         "type": "scatter3d",
         "x": [
          7,
          48,
          null
         ],
         "y": [
          4,
          -70,
          null
         ],
         "z": [
          75,
          -18,
          null
         ]
        },
        {
         "hoverinfo": "none",
         "line": {
          "color": "blue",
          "width": 4
         },
         "mode": "lines",
         "showlegend": false,
         "type": "scatter3d",
         "x": [
          7,
          10,
          null
         ],
         "y": [
          4,
          -90,
          null
         ],
         "z": [
          75,
          39,
          null
         ]
        },
        {
         "hoverinfo": "none",
         "line": {
          "color": "red",
          "width": 4
         },
         "mode": "lines",
         "showlegend": false,
         "type": "scatter3d",
         "x": [
          7,
          4,
          null
         ],
         "y": [
          4,
          -78,
          null
         ],
         "z": [
          75,
          51,
          null
         ]
        },
        {
         "hoverinfo": "none",
         "line": {
          "color": "red",
          "width": 4
         },
         "mode": "lines",
         "showlegend": false,
         "type": "scatter3d",
         "x": [
          7,
          2,
          null
         ],
         "y": [
          4,
          -52,
          null
         ],
         "z": [
          75,
          16,
          null
         ]
        },
        {
         "hoverinfo": "none",
         "line": {
          "color": "red",
          "width": 4
         },
         "mode": "lines",
         "showlegend": false,
         "type": "scatter3d",
         "x": [
          7,
          2,
          null
         ],
         "y": [
          4,
          56,
          null
         ],
         "z": [
          75,
          1,
          null
         ]
        },
        {
         "hoverinfo": "none",
         "line": {
          "color": "blue",
          "width": 4
         },
         "mode": "lines",
         "showlegend": false,
         "type": "scatter3d",
         "x": [
          7,
          -27,
          null
         ],
         "y": [
          4,
          31,
          null
         ],
         "z": [
          75,
          45,
          null
         ]
        },
        {
         "hoverinfo": "none",
         "line": {
          "color": "blue",
          "width": 4
         },
         "mode": "lines",
         "showlegend": false,
         "type": "scatter3d",
         "x": [
          7,
          -48,
          null
         ],
         "y": [
          4,
          -63,
          null
         ],
         "z": [
          75,
          45,
          null
         ]
        },
        {
         "hoverinfo": "none",
         "line": {
          "color": "blue",
          "width": 4
         },
         "mode": "lines",
         "showlegend": false,
         "type": "scatter3d",
         "x": [
          7,
          45,
          null
         ],
         "y": [
          4,
          -63,
          null
         ],
         "z": [
          75,
          54,
          null
         ]
        },
        {
         "hoverinfo": "none",
         "line": {
          "color": "blue",
          "width": 4
         },
         "mode": "lines",
         "showlegend": false,
         "type": "scatter3d",
         "x": [
          7,
          -22,
          null
         ],
         "y": [
          4,
          -68,
          null
         ],
         "z": [
          75,
          55,
          null
         ]
        },
        {
         "hoverinfo": "none",
         "line": {
          "color": "blue",
          "width": 4
         },
         "mode": "lines",
         "showlegend": false,
         "type": "scatter3d",
         "x": [
          7,
          2,
          null
         ],
         "y": [
          4,
          -60,
          null
         ],
         "z": [
          75,
          66,
          null
         ]
        },
        {
         "hoverinfo": "none",
         "line": {
          "color": "red",
          "width": 4
         },
         "mode": "lines",
         "showlegend": false,
         "type": "scatter3d",
         "x": [
          7,
          66,
          null
         ],
         "y": [
          4,
          -51,
          null
         ],
         "z": [
          75,
          15,
          null
         ]
        },
        {
         "hoverinfo": "none",
         "line": {
          "color": "blue",
          "width": 4
         },
         "mode": "lines",
         "showlegend": false,
         "type": "scatter3d",
         "x": [
          7,
          -53,
          null
         ],
         "y": [
          4,
          15,
          null
         ],
         "z": [
          75,
          -9,
          null
         ]
        },
        {
         "hoverinfo": "none",
         "line": {
          "color": "blue",
          "width": 4
         },
         "mode": "lines",
         "showlegend": false,
         "type": "scatter3d",
         "x": [
          7,
          55,
          null
         ],
         "y": [
          4,
          22,
          null
         ],
         "z": [
          75,
          -10,
          null
         ]
        },
        {
         "hoverinfo": "none",
         "line": {
          "color": "red",
          "width": 4
         },
         "mode": "lines",
         "showlegend": false,
         "type": "scatter3d",
         "x": [
          7,
          -63,
          null
         ],
         "y": [
          4,
          21,
          null
         ],
         "z": [
          75,
          4,
          null
         ]
        },
        {
         "hoverinfo": "none",
         "line": {
          "color": "blue",
          "width": 4
         },
         "mode": "lines",
         "showlegend": false,
         "type": "scatter3d",
         "x": [
          7,
          -55,
          null
         ],
         "y": [
          4,
          20,
          null
         ],
         "z": [
          75,
          31,
          null
         ]
        },
        {
         "hoverinfo": "none",
         "line": {
          "color": "blue",
          "width": 4
         },
         "mode": "lines",
         "showlegend": false,
         "type": "scatter3d",
         "x": [
          7,
          30,
          null
         ],
         "y": [
          4,
          66,
          null
         ],
         "z": [
          75,
          -3,
          null
         ]
        },
        {
         "hoverinfo": "none",
         "line": {
          "color": "red",
          "width": 4
         },
         "mode": "lines",
         "showlegend": false,
         "type": "scatter3d",
         "x": [
          2,
          2,
          null
         ],
         "y": [
          -27,
          -93,
          null
         ],
         "z": [
          75,
          -15,
          null
         ]
        },
        {
         "hoverinfo": "none",
         "line": {
          "color": "blue",
          "width": 4
         },
         "mode": "lines",
         "showlegend": false,
         "type": "scatter3d",
         "x": [
          2,
          2,
          null
         ],
         "y": [
          -27,
          -70,
          null
         ],
         "z": [
          75,
          10,
          null
         ]
        },
        {
         "hoverinfo": "none",
         "line": {
          "color": "blue",
          "width": 4
         },
         "mode": "lines",
         "showlegend": false,
         "type": "scatter3d",
         "x": [
          2,
          15,
          null
         ],
         "y": [
          -27,
          -52,
          null
         ],
         "z": [
          75,
          -6,
          null
         ]
        },
        {
         "hoverinfo": "none",
         "line": {
          "color": "blue",
          "width": 4
         },
         "mode": "lines",
         "showlegend": false,
         "type": "scatter3d",
         "x": [
          2,
          30,
          null
         ],
         "y": [
          -27,
          -90,
          null
         ],
         "z": [
          75,
          -18,
          null
         ]
        },
        {
         "hoverinfo": "none",
         "line": {
          "color": "red",
          "width": 4
         },
         "mode": "lines",
         "showlegend": false,
         "type": "scatter3d",
         "x": [
          2,
          48,
          null
         ],
         "y": [
          -27,
          -70,
          null
         ],
         "z": [
          75,
          -18,
          null
         ]
        },
        {
         "hoverinfo": "none",
         "line": {
          "color": "red",
          "width": 4
         },
         "mode": "lines",
         "showlegend": false,
         "type": "scatter3d",
         "x": [
          2,
          10,
          null
         ],
         "y": [
          -27,
          -90,
          null
         ],
         "z": [
          75,
          39,
          null
         ]
        },
        {
         "hoverinfo": "none",
         "line": {
          "color": "blue",
          "width": 4
         },
         "mode": "lines",
         "showlegend": false,
         "type": "scatter3d",
         "x": [
          2,
          4,
          null
         ],
         "y": [
          -27,
          -78,
          null
         ],
         "z": [
          75,
          51,
          null
         ]
        },
        {
         "hoverinfo": "none",
         "line": {
          "color": "blue",
          "width": 4
         },
         "mode": "lines",
         "showlegend": false,
         "type": "scatter3d",
         "x": [
          2,
          2,
          null
         ],
         "y": [
          -27,
          -52,
          null
         ],
         "z": [
          75,
          16,
          null
         ]
        },
        {
         "hoverinfo": "none",
         "line": {
          "color": "blue",
          "width": 4
         },
         "mode": "lines",
         "showlegend": false,
         "type": "scatter3d",
         "x": [
          2,
          2,
          null
         ],
         "y": [
          -27,
          56,
          null
         ],
         "z": [
          75,
          1,
          null
         ]
        },
        {
         "hoverinfo": "none",
         "line": {
          "color": "blue",
          "width": 4
         },
         "mode": "lines",
         "showlegend": false,
         "type": "scatter3d",
         "x": [
          2,
          -27,
          null
         ],
         "y": [
          -27,
          31,
          null
         ],
         "z": [
          75,
          45,
          null
         ]
        },
        {
         "hoverinfo": "none",
         "line": {
          "color": "red",
          "width": 4
         },
         "mode": "lines",
         "showlegend": false,
         "type": "scatter3d",
         "x": [
          2,
          -48,
          null
         ],
         "y": [
          -27,
          -63,
          null
         ],
         "z": [
          75,
          45,
          null
         ]
        },
        {
         "hoverinfo": "none",
         "line": {
          "color": "blue",
          "width": 4
         },
         "mode": "lines",
         "showlegend": false,
         "type": "scatter3d",
         "x": [
          2,
          45,
          null
         ],
         "y": [
          -27,
          -63,
          null
         ],
         "z": [
          75,
          54,
          null
         ]
        },
        {
         "hoverinfo": "none",
         "line": {
          "color": "red",
          "width": 4
         },
         "mode": "lines",
         "showlegend": false,
         "type": "scatter3d",
         "x": [
          2,
          -22,
          null
         ],
         "y": [
          -27,
          -68,
          null
         ],
         "z": [
          75,
          55,
          null
         ]
        },
        {
         "hoverinfo": "none",
         "line": {
          "color": "blue",
          "width": 4
         },
         "mode": "lines",
         "showlegend": false,
         "type": "scatter3d",
         "x": [
          2,
          2,
          null
         ],
         "y": [
          -27,
          -60,
          null
         ],
         "z": [
          75,
          66,
          null
         ]
        },
        {
         "hoverinfo": "none",
         "line": {
          "color": "red",
          "width": 4
         },
         "mode": "lines",
         "showlegend": false,
         "type": "scatter3d",
         "x": [
          2,
          66,
          null
         ],
         "y": [
          -27,
          -51,
          null
         ],
         "z": [
          75,
          15,
          null
         ]
        },
        {
         "hoverinfo": "none",
         "line": {
          "color": "red",
          "width": 4
         },
         "mode": "lines",
         "showlegend": false,
         "type": "scatter3d",
         "x": [
          2,
          -53,
          null
         ],
         "y": [
          -27,
          15,
          null
         ],
         "z": [
          75,
          -9,
          null
         ]
        },
        {
         "hoverinfo": "none",
         "line": {
          "color": "blue",
          "width": 4
         },
         "mode": "lines",
         "showlegend": false,
         "type": "scatter3d",
         "x": [
          2,
          55,
          null
         ],
         "y": [
          -27,
          22,
          null
         ],
         "z": [
          75,
          -10,
          null
         ]
        },
        {
         "hoverinfo": "none",
         "line": {
          "color": "red",
          "width": 4
         },
         "mode": "lines",
         "showlegend": false,
         "type": "scatter3d",
         "x": [
          2,
          -63,
          null
         ],
         "y": [
          -27,
          21,
          null
         ],
         "z": [
          75,
          4,
          null
         ]
        },
        {
         "hoverinfo": "none",
         "line": {
          "color": "blue",
          "width": 4
         },
         "mode": "lines",
         "showlegend": false,
         "type": "scatter3d",
         "x": [
          2,
          -55,
          null
         ],
         "y": [
          -27,
          20,
          null
         ],
         "z": [
          75,
          31,
          null
         ]
        },
        {
         "hoverinfo": "none",
         "line": {
          "color": "blue",
          "width": 4
         },
         "mode": "lines",
         "showlegend": false,
         "type": "scatter3d",
         "x": [
          2,
          30,
          null
         ],
         "y": [
          -27,
          66,
          null
         ],
         "z": [
          75,
          -3,
          null
         ]
        },
        {
         "hoverinfo": "none",
         "line": {
          "color": "blue",
          "width": 4
         },
         "mode": "lines",
         "showlegend": false,
         "type": "scatter3d",
         "x": [
          2,
          2,
          null
         ],
         "y": [
          -93,
          -70,
          null
         ],
         "z": [
          -15,
          10,
          null
         ]
        },
        {
         "hoverinfo": "none",
         "line": {
          "color": "blue",
          "width": 4
         },
         "mode": "lines",
         "showlegend": false,
         "type": "scatter3d",
         "x": [
          2,
          15,
          null
         ],
         "y": [
          -93,
          -52,
          null
         ],
         "z": [
          -15,
          -6,
          null
         ]
        },
        {
         "hoverinfo": "none",
         "line": {
          "color": "blue",
          "width": 4
         },
         "mode": "lines",
         "showlegend": false,
         "type": "scatter3d",
         "x": [
          2,
          30,
          null
         ],
         "y": [
          -93,
          -90,
          null
         ],
         "z": [
          -15,
          -18,
          null
         ]
        },
        {
         "hoverinfo": "none",
         "line": {
          "color": "blue",
          "width": 4
         },
         "mode": "lines",
         "showlegend": false,
         "type": "scatter3d",
         "x": [
          2,
          48,
          null
         ],
         "y": [
          -93,
          -70,
          null
         ],
         "z": [
          -15,
          -18,
          null
         ]
        },
        {
         "hoverinfo": "none",
         "line": {
          "color": "blue",
          "width": 4
         },
         "mode": "lines",
         "showlegend": false,
         "type": "scatter3d",
         "x": [
          2,
          10,
          null
         ],
         "y": [
          -93,
          -90,
          null
         ],
         "z": [
          -15,
          39,
          null
         ]
        },
        {
         "hoverinfo": "none",
         "line": {
          "color": "red",
          "width": 4
         },
         "mode": "lines",
         "showlegend": false,
         "type": "scatter3d",
         "x": [
          2,
          4,
          null
         ],
         "y": [
          -93,
          -78,
          null
         ],
         "z": [
          -15,
          51,
          null
         ]
        },
        {
         "hoverinfo": "none",
         "line": {
          "color": "red",
          "width": 4
         },
         "mode": "lines",
         "showlegend": false,
         "type": "scatter3d",
         "x": [
          2,
          2,
          null
         ],
         "y": [
          -93,
          -52,
          null
         ],
         "z": [
          -15,
          16,
          null
         ]
        },
        {
         "hoverinfo": "none",
         "line": {
          "color": "blue",
          "width": 4
         },
         "mode": "lines",
         "showlegend": false,
         "type": "scatter3d",
         "x": [
          2,
          2,
          null
         ],
         "y": [
          -93,
          56,
          null
         ],
         "z": [
          -15,
          1,
          null
         ]
        },
        {
         "hoverinfo": "none",
         "line": {
          "color": "red",
          "width": 4
         },
         "mode": "lines",
         "showlegend": false,
         "type": "scatter3d",
         "x": [
          2,
          -27,
          null
         ],
         "y": [
          -93,
          31,
          null
         ],
         "z": [
          -15,
          45,
          null
         ]
        },
        {
         "hoverinfo": "none",
         "line": {
          "color": "red",
          "width": 4
         },
         "mode": "lines",
         "showlegend": false,
         "type": "scatter3d",
         "x": [
          2,
          -48,
          null
         ],
         "y": [
          -93,
          -63,
          null
         ],
         "z": [
          -15,
          45,
          null
         ]
        },
        {
         "hoverinfo": "none",
         "line": {
          "color": "red",
          "width": 4
         },
         "mode": "lines",
         "showlegend": false,
         "type": "scatter3d",
         "x": [
          2,
          45,
          null
         ],
         "y": [
          -93,
          -63,
          null
         ],
         "z": [
          -15,
          54,
          null
         ]
        },
        {
         "hoverinfo": "none",
         "line": {
          "color": "blue",
          "width": 4
         },
         "mode": "lines",
         "showlegend": false,
         "type": "scatter3d",
         "x": [
          2,
          -22,
          null
         ],
         "y": [
          -93,
          -68,
          null
         ],
         "z": [
          -15,
          55,
          null
         ]
        },
        {
         "hoverinfo": "none",
         "line": {
          "color": "blue",
          "width": 4
         },
         "mode": "lines",
         "showlegend": false,
         "type": "scatter3d",
         "x": [
          2,
          2,
          null
         ],
         "y": [
          -93,
          -60,
          null
         ],
         "z": [
          -15,
          66,
          null
         ]
        },
        {
         "hoverinfo": "none",
         "line": {
          "color": "blue",
          "width": 4
         },
         "mode": "lines",
         "showlegend": false,
         "type": "scatter3d",
         "x": [
          2,
          66,
          null
         ],
         "y": [
          -93,
          -51,
          null
         ],
         "z": [
          -15,
          15,
          null
         ]
        },
        {
         "hoverinfo": "none",
         "line": {
          "color": "blue",
          "width": 4
         },
         "mode": "lines",
         "showlegend": false,
         "type": "scatter3d",
         "x": [
          2,
          -53,
          null
         ],
         "y": [
          -93,
          15,
          null
         ],
         "z": [
          -15,
          -9,
          null
         ]
        },
        {
         "hoverinfo": "none",
         "line": {
          "color": "blue",
          "width": 4
         },
         "mode": "lines",
         "showlegend": false,
         "type": "scatter3d",
         "x": [
          2,
          55,
          null
         ],
         "y": [
          -93,
          22,
          null
         ],
         "z": [
          -15,
          -10,
          null
         ]
        },
        {
         "hoverinfo": "none",
         "line": {
          "color": "blue",
          "width": 4
         },
         "mode": "lines",
         "showlegend": false,
         "type": "scatter3d",
         "x": [
          2,
          -63,
          null
         ],
         "y": [
          -93,
          21,
          null
         ],
         "z": [
          -15,
          4,
          null
         ]
        },
        {
         "hoverinfo": "none",
         "line": {
          "color": "red",
          "width": 4
         },
         "mode": "lines",
         "showlegend": false,
         "type": "scatter3d",
         "x": [
          2,
          -55,
          null
         ],
         "y": [
          -93,
          20,
          null
         ],
         "z": [
          -15,
          31,
          null
         ]
        },
        {
         "hoverinfo": "none",
         "line": {
          "color": "red",
          "width": 4
         },
         "mode": "lines",
         "showlegend": false,
         "type": "scatter3d",
         "x": [
          2,
          30,
          null
         ],
         "y": [
          -93,
          66,
          null
         ],
         "z": [
          -15,
          -3,
          null
         ]
        },
        {
         "hoverinfo": "none",
         "line": {
          "color": "blue",
          "width": 4
         },
         "mode": "lines",
         "showlegend": false,
         "type": "scatter3d",
         "x": [
          2,
          15,
          null
         ],
         "y": [
          -70,
          -52,
          null
         ],
         "z": [
          10,
          -6,
          null
         ]
        },
        {
         "hoverinfo": "none",
         "line": {
          "color": "blue",
          "width": 4
         },
         "mode": "lines",
         "showlegend": false,
         "type": "scatter3d",
         "x": [
          2,
          30,
          null
         ],
         "y": [
          -70,
          -90,
          null
         ],
         "z": [
          10,
          -18,
          null
         ]
        },
        {
         "hoverinfo": "none",
         "line": {
          "color": "blue",
          "width": 4
         },
         "mode": "lines",
         "showlegend": false,
         "type": "scatter3d",
         "x": [
          2,
          48,
          null
         ],
         "y": [
          -70,
          -70,
          null
         ],
         "z": [
          10,
          -18,
          null
         ]
        },
        {
         "hoverinfo": "none",
         "line": {
          "color": "blue",
          "width": 4
         },
         "mode": "lines",
         "showlegend": false,
         "type": "scatter3d",
         "x": [
          2,
          10,
          null
         ],
         "y": [
          -70,
          -90,
          null
         ],
         "z": [
          10,
          39,
          null
         ]
        },
        {
         "hoverinfo": "none",
         "line": {
          "color": "red",
          "width": 4
         },
         "mode": "lines",
         "showlegend": false,
         "type": "scatter3d",
         "x": [
          2,
          4,
          null
         ],
         "y": [
          -70,
          -78,
          null
         ],
         "z": [
          10,
          51,
          null
         ]
        },
        {
         "hoverinfo": "none",
         "line": {
          "color": "blue",
          "width": 4
         },
         "mode": "lines",
         "showlegend": false,
         "type": "scatter3d",
         "x": [
          2,
          2,
          null
         ],
         "y": [
          -70,
          -52,
          null
         ],
         "z": [
          10,
          16,
          null
         ]
        },
        {
         "hoverinfo": "none",
         "line": {
          "color": "blue",
          "width": 4
         },
         "mode": "lines",
         "showlegend": false,
         "type": "scatter3d",
         "x": [
          2,
          2,
          null
         ],
         "y": [
          -70,
          56,
          null
         ],
         "z": [
          10,
          1,
          null
         ]
        },
        {
         "hoverinfo": "none",
         "line": {
          "color": "red",
          "width": 4
         },
         "mode": "lines",
         "showlegend": false,
         "type": "scatter3d",
         "x": [
          2,
          -27,
          null
         ],
         "y": [
          -70,
          31,
          null
         ],
         "z": [
          10,
          45,
          null
         ]
        },
        {
         "hoverinfo": "none",
         "line": {
          "color": "blue",
          "width": 4
         },
         "mode": "lines",
         "showlegend": false,
         "type": "scatter3d",
         "x": [
          2,
          -48,
          null
         ],
         "y": [
          -70,
          -63,
          null
         ],
         "z": [
          10,
          45,
          null
         ]
        },
        {
         "hoverinfo": "none",
         "line": {
          "color": "red",
          "width": 4
         },
         "mode": "lines",
         "showlegend": false,
         "type": "scatter3d",
         "x": [
          2,
          45,
          null
         ],
         "y": [
          -70,
          -63,
          null
         ],
         "z": [
          10,
          54,
          null
         ]
        },
        {
         "hoverinfo": "none",
         "line": {
          "color": "blue",
          "width": 4
         },
         "mode": "lines",
         "showlegend": false,
         "type": "scatter3d",
         "x": [
          2,
          -22,
          null
         ],
         "y": [
          -70,
          -68,
          null
         ],
         "z": [
          10,
          55,
          null
         ]
        },
        {
         "hoverinfo": "none",
         "line": {
          "color": "blue",
          "width": 4
         },
         "mode": "lines",
         "showlegend": false,
         "type": "scatter3d",
         "x": [
          2,
          2,
          null
         ],
         "y": [
          -70,
          -60,
          null
         ],
         "z": [
          10,
          66,
          null
         ]
        },
        {
         "hoverinfo": "none",
         "line": {
          "color": "blue",
          "width": 4
         },
         "mode": "lines",
         "showlegend": false,
         "type": "scatter3d",
         "x": [
          2,
          66,
          null
         ],
         "y": [
          -70,
          -51,
          null
         ],
         "z": [
          10,
          15,
          null
         ]
        },
        {
         "hoverinfo": "none",
         "line": {
          "color": "blue",
          "width": 4
         },
         "mode": "lines",
         "showlegend": false,
         "type": "scatter3d",
         "x": [
          2,
          -53,
          null
         ],
         "y": [
          -70,
          15,
          null
         ],
         "z": [
          10,
          -9,
          null
         ]
        },
        {
         "hoverinfo": "none",
         "line": {
          "color": "blue",
          "width": 4
         },
         "mode": "lines",
         "showlegend": false,
         "type": "scatter3d",
         "x": [
          2,
          55,
          null
         ],
         "y": [
          -70,
          22,
          null
         ],
         "z": [
          10,
          -10,
          null
         ]
        },
        {
         "hoverinfo": "none",
         "line": {
          "color": "blue",
          "width": 4
         },
         "mode": "lines",
         "showlegend": false,
         "type": "scatter3d",
         "x": [
          2,
          -63,
          null
         ],
         "y": [
          -70,
          21,
          null
         ],
         "z": [
          10,
          4,
          null
         ]
        },
        {
         "hoverinfo": "none",
         "line": {
          "color": "blue",
          "width": 4
         },
         "mode": "lines",
         "showlegend": false,
         "type": "scatter3d",
         "x": [
          2,
          -55,
          null
         ],
         "y": [
          -70,
          20,
          null
         ],
         "z": [
          10,
          31,
          null
         ]
        },
        {
         "hoverinfo": "none",
         "line": {
          "color": "red",
          "width": 4
         },
         "mode": "lines",
         "showlegend": false,
         "type": "scatter3d",
         "x": [
          2,
          30,
          null
         ],
         "y": [
          -70,
          66,
          null
         ],
         "z": [
          10,
          -3,
          null
         ]
        },
        {
         "hoverinfo": "none",
         "line": {
          "color": "blue",
          "width": 4
         },
         "mode": "lines",
         "showlegend": false,
         "type": "scatter3d",
         "x": [
          15,
          30,
          null
         ],
         "y": [
          -52,
          -90,
          null
         ],
         "z": [
          -6,
          -18,
          null
         ]
        },
        {
         "hoverinfo": "none",
         "line": {
          "color": "blue",
          "width": 4
         },
         "mode": "lines",
         "showlegend": false,
         "type": "scatter3d",
         "x": [
          15,
          48,
          null
         ],
         "y": [
          -52,
          -70,
          null
         ],
         "z": [
          -6,
          -18,
          null
         ]
        },
        {
         "hoverinfo": "none",
         "line": {
          "color": "blue",
          "width": 4
         },
         "mode": "lines",
         "showlegend": false,
         "type": "scatter3d",
         "x": [
          15,
          10,
          null
         ],
         "y": [
          -52,
          -90,
          null
         ],
         "z": [
          -6,
          39,
          null
         ]
        },
        {
         "hoverinfo": "none",
         "line": {
          "color": "red",
          "width": 4
         },
         "mode": "lines",
         "showlegend": false,
         "type": "scatter3d",
         "x": [
          15,
          4,
          null
         ],
         "y": [
          -52,
          -78,
          null
         ],
         "z": [
          -6,
          51,
          null
         ]
        },
        {
         "hoverinfo": "none",
         "line": {
          "color": "blue",
          "width": 4
         },
         "mode": "lines",
         "showlegend": false,
         "type": "scatter3d",
         "x": [
          15,
          2,
          null
         ],
         "y": [
          -52,
          -52,
          null
         ],
         "z": [
          -6,
          16,
          null
         ]
        },
        {
         "hoverinfo": "none",
         "line": {
          "color": "red",
          "width": 4
         },
         "mode": "lines",
         "showlegend": false,
         "type": "scatter3d",
         "x": [
          15,
          2,
          null
         ],
         "y": [
          -52,
          56,
          null
         ],
         "z": [
          -6,
          1,
          null
         ]
        },
        {
         "hoverinfo": "none",
         "line": {
          "color": "red",
          "width": 4
         },
         "mode": "lines",
         "showlegend": false,
         "type": "scatter3d",
         "x": [
          15,
          -27,
          null
         ],
         "y": [
          -52,
          31,
          null
         ],
         "z": [
          -6,
          45,
          null
         ]
        },
        {
         "hoverinfo": "none",
         "line": {
          "color": "blue",
          "width": 4
         },
         "mode": "lines",
         "showlegend": false,
         "type": "scatter3d",
         "x": [
          15,
          -48,
          null
         ],
         "y": [
          -52,
          -63,
          null
         ],
         "z": [
          -6,
          45,
          null
         ]
        },
        {
         "hoverinfo": "none",
         "line": {
          "color": "red",
          "width": 4
         },
         "mode": "lines",
         "showlegend": false,
         "type": "scatter3d",
         "x": [
          15,
          45,
          null
         ],
         "y": [
          -52,
          -63,
          null
         ],
         "z": [
          -6,
          54,
          null
         ]
        },
        {
         "hoverinfo": "none",
         "line": {
          "color": "blue",
          "width": 4
         },
         "mode": "lines",
         "showlegend": false,
         "type": "scatter3d",
         "x": [
          15,
          -22,
          null
         ],
         "y": [
          -52,
          -68,
          null
         ],
         "z": [
          -6,
          55,
          null
         ]
        },
        {
         "hoverinfo": "none",
         "line": {
          "color": "blue",
          "width": 4
         },
         "mode": "lines",
         "showlegend": false,
         "type": "scatter3d",
         "x": [
          15,
          2,
          null
         ],
         "y": [
          -52,
          -60,
          null
         ],
         "z": [
          -6,
          66,
          null
         ]
        },
        {
         "hoverinfo": "none",
         "line": {
          "color": "blue",
          "width": 4
         },
         "mode": "lines",
         "showlegend": false,
         "type": "scatter3d",
         "x": [
          15,
          66,
          null
         ],
         "y": [
          -52,
          -51,
          null
         ],
         "z": [
          -6,
          15,
          null
         ]
        },
        {
         "hoverinfo": "none",
         "line": {
          "color": "blue",
          "width": 4
         },
         "mode": "lines",
         "showlegend": false,
         "type": "scatter3d",
         "x": [
          15,
          -53,
          null
         ],
         "y": [
          -52,
          15,
          null
         ],
         "z": [
          -6,
          -9,
          null
         ]
        },
        {
         "hoverinfo": "none",
         "line": {
          "color": "blue",
          "width": 4
         },
         "mode": "lines",
         "showlegend": false,
         "type": "scatter3d",
         "x": [
          15,
          55,
          null
         ],
         "y": [
          -52,
          22,
          null
         ],
         "z": [
          -6,
          -10,
          null
         ]
        },
        {
         "hoverinfo": "none",
         "line": {
          "color": "blue",
          "width": 4
         },
         "mode": "lines",
         "showlegend": false,
         "type": "scatter3d",
         "x": [
          15,
          -63,
          null
         ],
         "y": [
          -52,
          21,
          null
         ],
         "z": [
          -6,
          4,
          null
         ]
        },
        {
         "hoverinfo": "none",
         "line": {
          "color": "red",
          "width": 4
         },
         "mode": "lines",
         "showlegend": false,
         "type": "scatter3d",
         "x": [
          15,
          -55,
          null
         ],
         "y": [
          -52,
          20,
          null
         ],
         "z": [
          -6,
          31,
          null
         ]
        },
        {
         "hoverinfo": "none",
         "line": {
          "color": "red",
          "width": 4
         },
         "mode": "lines",
         "showlegend": false,
         "type": "scatter3d",
         "x": [
          15,
          30,
          null
         ],
         "y": [
          -52,
          66,
          null
         ],
         "z": [
          -6,
          -3,
          null
         ]
        },
        {
         "hoverinfo": "none",
         "line": {
          "color": "red",
          "width": 4
         },
         "mode": "lines",
         "showlegend": false,
         "type": "scatter3d",
         "x": [
          30,
          48,
          null
         ],
         "y": [
          -90,
          -70,
          null
         ],
         "z": [
          -18,
          -18,
          null
         ]
        },
        {
         "hoverinfo": "none",
         "line": {
          "color": "blue",
          "width": 4
         },
         "mode": "lines",
         "showlegend": false,
         "type": "scatter3d",
         "x": [
          30,
          10,
          null
         ],
         "y": [
          -90,
          -90,
          null
         ],
         "z": [
          -18,
          39,
          null
         ]
        },
        {
         "hoverinfo": "none",
         "line": {
          "color": "red",
          "width": 4
         },
         "mode": "lines",
         "showlegend": false,
         "type": "scatter3d",
         "x": [
          30,
          4,
          null
         ],
         "y": [
          -90,
          -78,
          null
         ],
         "z": [
          -18,
          51,
          null
         ]
        },
        {
         "hoverinfo": "none",
         "line": {
          "color": "blue",
          "width": 4
         },
         "mode": "lines",
         "showlegend": false,
         "type": "scatter3d",
         "x": [
          30,
          2,
          null
         ],
         "y": [
          -90,
          -52,
          null
         ],
         "z": [
          -18,
          16,
          null
         ]
        },
        {
         "hoverinfo": "none",
         "line": {
          "color": "blue",
          "width": 4
         },
         "mode": "lines",
         "showlegend": false,
         "type": "scatter3d",
         "x": [
          30,
          2,
          null
         ],
         "y": [
          -90,
          56,
          null
         ],
         "z": [
          -18,
          1,
          null
         ]
        },
        {
         "hoverinfo": "none",
         "line": {
          "color": "blue",
          "width": 4
         },
         "mode": "lines",
         "showlegend": false,
         "type": "scatter3d",
         "x": [
          30,
          -27,
          null
         ],
         "y": [
          -90,
          31,
          null
         ],
         "z": [
          -18,
          45,
          null
         ]
        },
        {
         "hoverinfo": "none",
         "line": {
          "color": "red",
          "width": 4
         },
         "mode": "lines",
         "showlegend": false,
         "type": "scatter3d",
         "x": [
          30,
          -48,
          null
         ],
         "y": [
          -90,
          -63,
          null
         ],
         "z": [
          -18,
          45,
          null
         ]
        },
        {
         "hoverinfo": "none",
         "line": {
          "color": "blue",
          "width": 4
         },
         "mode": "lines",
         "showlegend": false,
         "type": "scatter3d",
         "x": [
          30,
          45,
          null
         ],
         "y": [
          -90,
          -63,
          null
         ],
         "z": [
          -18,
          54,
          null
         ]
        },
        {
         "hoverinfo": "none",
         "line": {
          "color": "red",
          "width": 4
         },
         "mode": "lines",
         "showlegend": false,
         "type": "scatter3d",
         "x": [
          30,
          -22,
          null
         ],
         "y": [
          -90,
          -68,
          null
         ],
         "z": [
          -18,
          55,
          null
         ]
        },
        {
         "hoverinfo": "none",
         "line": {
          "color": "red",
          "width": 4
         },
         "mode": "lines",
         "showlegend": false,
         "type": "scatter3d",
         "x": [
          30,
          2,
          null
         ],
         "y": [
          -90,
          -60,
          null
         ],
         "z": [
          -18,
          66,
          null
         ]
        },
        {
         "hoverinfo": "none",
         "line": {
          "color": "red",
          "width": 4
         },
         "mode": "lines",
         "showlegend": false,
         "type": "scatter3d",
         "x": [
          30,
          66,
          null
         ],
         "y": [
          -90,
          -51,
          null
         ],
         "z": [
          -18,
          15,
          null
         ]
        },
        {
         "hoverinfo": "none",
         "line": {
          "color": "red",
          "width": 4
         },
         "mode": "lines",
         "showlegend": false,
         "type": "scatter3d",
         "x": [
          30,
          -53,
          null
         ],
         "y": [
          -90,
          15,
          null
         ],
         "z": [
          -18,
          -9,
          null
         ]
        },
        {
         "hoverinfo": "none",
         "line": {
          "color": "blue",
          "width": 4
         },
         "mode": "lines",
         "showlegend": false,
         "type": "scatter3d",
         "x": [
          30,
          55,
          null
         ],
         "y": [
          -90,
          22,
          null
         ],
         "z": [
          -18,
          -10,
          null
         ]
        },
        {
         "hoverinfo": "none",
         "line": {
          "color": "red",
          "width": 4
         },
         "mode": "lines",
         "showlegend": false,
         "type": "scatter3d",
         "x": [
          30,
          -63,
          null
         ],
         "y": [
          -90,
          21,
          null
         ],
         "z": [
          -18,
          4,
          null
         ]
        },
        {
         "hoverinfo": "none",
         "line": {
          "color": "blue",
          "width": 4
         },
         "mode": "lines",
         "showlegend": false,
         "type": "scatter3d",
         "x": [
          30,
          -55,
          null
         ],
         "y": [
          -90,
          20,
          null
         ],
         "z": [
          -18,
          31,
          null
         ]
        },
        {
         "hoverinfo": "none",
         "line": {
          "color": "blue",
          "width": 4
         },
         "mode": "lines",
         "showlegend": false,
         "type": "scatter3d",
         "x": [
          30,
          30,
          null
         ],
         "y": [
          -90,
          66,
          null
         ],
         "z": [
          -18,
          -3,
          null
         ]
        },
        {
         "hoverinfo": "none",
         "line": {
          "color": "blue",
          "width": 4
         },
         "mode": "lines",
         "showlegend": false,
         "type": "scatter3d",
         "x": [
          48,
          10,
          null
         ],
         "y": [
          -70,
          -90,
          null
         ],
         "z": [
          -18,
          39,
          null
         ]
        },
        {
         "hoverinfo": "none",
         "line": {
          "color": "blue",
          "width": 4
         },
         "mode": "lines",
         "showlegend": false,
         "type": "scatter3d",
         "x": [
          48,
          4,
          null
         ],
         "y": [
          -70,
          -78,
          null
         ],
         "z": [
          -18,
          51,
          null
         ]
        },
        {
         "hoverinfo": "none",
         "line": {
          "color": "red",
          "width": 4
         },
         "mode": "lines",
         "showlegend": false,
         "type": "scatter3d",
         "x": [
          48,
          2,
          null
         ],
         "y": [
          -70,
          -52,
          null
         ],
         "z": [
          -18,
          16,
          null
         ]
        },
        {
         "hoverinfo": "none",
         "line": {
          "color": "red",
          "width": 4
         },
         "mode": "lines",
         "showlegend": false,
         "type": "scatter3d",
         "x": [
          48,
          2,
          null
         ],
         "y": [
          -70,
          56,
          null
         ],
         "z": [
          -18,
          1,
          null
         ]
        },
        {
         "hoverinfo": "none",
         "line": {
          "color": "red",
          "width": 4
         },
         "mode": "lines",
         "showlegend": false,
         "type": "scatter3d",
         "x": [
          48,
          -27,
          null
         ],
         "y": [
          -70,
          31,
          null
         ],
         "z": [
          -18,
          45,
          null
         ]
        },
        {
         "hoverinfo": "none",
         "line": {
          "color": "blue",
          "width": 4
         },
         "mode": "lines",
         "showlegend": false,
         "type": "scatter3d",
         "x": [
          48,
          -48,
          null
         ],
         "y": [
          -70,
          -63,
          null
         ],
         "z": [
          -18,
          45,
          null
         ]
        },
        {
         "hoverinfo": "none",
         "line": {
          "color": "blue",
          "width": 4
         },
         "mode": "lines",
         "showlegend": false,
         "type": "scatter3d",
         "x": [
          48,
          45,
          null
         ],
         "y": [
          -70,
          -63,
          null
         ],
         "z": [
          -18,
          54,
          null
         ]
        },
        {
         "hoverinfo": "none",
         "line": {
          "color": "blue",
          "width": 4
         },
         "mode": "lines",
         "showlegend": false,
         "type": "scatter3d",
         "x": [
          48,
          -22,
          null
         ],
         "y": [
          -70,
          -68,
          null
         ],
         "z": [
          -18,
          55,
          null
         ]
        },
        {
         "hoverinfo": "none",
         "line": {
          "color": "blue",
          "width": 4
         },
         "mode": "lines",
         "showlegend": false,
         "type": "scatter3d",
         "x": [
          48,
          2,
          null
         ],
         "y": [
          -70,
          -60,
          null
         ],
         "z": [
          -18,
          66,
          null
         ]
        },
        {
         "hoverinfo": "none",
         "line": {
          "color": "blue",
          "width": 4
         },
         "mode": "lines",
         "showlegend": false,
         "type": "scatter3d",
         "x": [
          48,
          66,
          null
         ],
         "y": [
          -70,
          -51,
          null
         ],
         "z": [
          -18,
          15,
          null
         ]
        },
        {
         "hoverinfo": "none",
         "line": {
          "color": "blue",
          "width": 4
         },
         "mode": "lines",
         "showlegend": false,
         "type": "scatter3d",
         "x": [
          48,
          -53,
          null
         ],
         "y": [
          -70,
          15,
          null
         ],
         "z": [
          -18,
          -9,
          null
         ]
        },
        {
         "hoverinfo": "none",
         "line": {
          "color": "red",
          "width": 4
         },
         "mode": "lines",
         "showlegend": false,
         "type": "scatter3d",
         "x": [
          48,
          55,
          null
         ],
         "y": [
          -70,
          22,
          null
         ],
         "z": [
          -18,
          -10,
          null
         ]
        },
        {
         "hoverinfo": "none",
         "line": {
          "color": "blue",
          "width": 4
         },
         "mode": "lines",
         "showlegend": false,
         "type": "scatter3d",
         "x": [
          48,
          -63,
          null
         ],
         "y": [
          -70,
          21,
          null
         ],
         "z": [
          -18,
          4,
          null
         ]
        },
        {
         "hoverinfo": "none",
         "line": {
          "color": "red",
          "width": 4
         },
         "mode": "lines",
         "showlegend": false,
         "type": "scatter3d",
         "x": [
          48,
          -55,
          null
         ],
         "y": [
          -70,
          20,
          null
         ],
         "z": [
          -18,
          31,
          null
         ]
        },
        {
         "hoverinfo": "none",
         "line": {
          "color": "red",
          "width": 4
         },
         "mode": "lines",
         "showlegend": false,
         "type": "scatter3d",
         "x": [
          48,
          30,
          null
         ],
         "y": [
          -70,
          66,
          null
         ],
         "z": [
          -18,
          -3,
          null
         ]
        },
        {
         "hoverinfo": "none",
         "line": {
          "color": "blue",
          "width": 4
         },
         "mode": "lines",
         "showlegend": false,
         "type": "scatter3d",
         "x": [
          10,
          4,
          null
         ],
         "y": [
          -90,
          -78,
          null
         ],
         "z": [
          39,
          51,
          null
         ]
        },
        {
         "hoverinfo": "none",
         "line": {
          "color": "blue",
          "width": 4
         },
         "mode": "lines",
         "showlegend": false,
         "type": "scatter3d",
         "x": [
          10,
          2,
          null
         ],
         "y": [
          -90,
          -52,
          null
         ],
         "z": [
          39,
          16,
          null
         ]
        },
        {
         "hoverinfo": "none",
         "line": {
          "color": "red",
          "width": 4
         },
         "mode": "lines",
         "showlegend": false,
         "type": "scatter3d",
         "x": [
          10,
          2,
          null
         ],
         "y": [
          -90,
          56,
          null
         ],
         "z": [
          39,
          1,
          null
         ]
        },
        {
         "hoverinfo": "none",
         "line": {
          "color": "red",
          "width": 4
         },
         "mode": "lines",
         "showlegend": false,
         "type": "scatter3d",
         "x": [
          10,
          -27,
          null
         ],
         "y": [
          -90,
          31,
          null
         ],
         "z": [
          39,
          45,
          null
         ]
        },
        {
         "hoverinfo": "none",
         "line": {
          "color": "blue",
          "width": 4
         },
         "mode": "lines",
         "showlegend": false,
         "type": "scatter3d",
         "x": [
          10,
          -48,
          null
         ],
         "y": [
          -90,
          -63,
          null
         ],
         "z": [
          39,
          45,
          null
         ]
        },
        {
         "hoverinfo": "none",
         "line": {
          "color": "blue",
          "width": 4
         },
         "mode": "lines",
         "showlegend": false,
         "type": "scatter3d",
         "x": [
          10,
          45,
          null
         ],
         "y": [
          -90,
          -63,
          null
         ],
         "z": [
          39,
          54,
          null
         ]
        },
        {
         "hoverinfo": "none",
         "line": {
          "color": "blue",
          "width": 4
         },
         "mode": "lines",
         "showlegend": false,
         "type": "scatter3d",
         "x": [
          10,
          -22,
          null
         ],
         "y": [
          -90,
          -68,
          null
         ],
         "z": [
          39,
          55,
          null
         ]
        },
        {
         "hoverinfo": "none",
         "line": {
          "color": "blue",
          "width": 4
         },
         "mode": "lines",
         "showlegend": false,
         "type": "scatter3d",
         "x": [
          10,
          2,
          null
         ],
         "y": [
          -90,
          -60,
          null
         ],
         "z": [
          39,
          66,
          null
         ]
        },
        {
         "hoverinfo": "none",
         "line": {
          "color": "blue",
          "width": 4
         },
         "mode": "lines",
         "showlegend": false,
         "type": "scatter3d",
         "x": [
          10,
          66,
          null
         ],
         "y": [
          -90,
          -51,
          null
         ],
         "z": [
          39,
          15,
          null
         ]
        },
        {
         "hoverinfo": "none",
         "line": {
          "color": "blue",
          "width": 4
         },
         "mode": "lines",
         "showlegend": false,
         "type": "scatter3d",
         "x": [
          10,
          -53,
          null
         ],
         "y": [
          -90,
          15,
          null
         ],
         "z": [
          39,
          -9,
          null
         ]
        },
        {
         "hoverinfo": "none",
         "line": {
          "color": "red",
          "width": 4
         },
         "mode": "lines",
         "showlegend": false,
         "type": "scatter3d",
         "x": [
          10,
          55,
          null
         ],
         "y": [
          -90,
          22,
          null
         ],
         "z": [
          39,
          -10,
          null
         ]
        },
        {
         "hoverinfo": "none",
         "line": {
          "color": "blue",
          "width": 4
         },
         "mode": "lines",
         "showlegend": false,
         "type": "scatter3d",
         "x": [
          10,
          -63,
          null
         ],
         "y": [
          -90,
          21,
          null
         ],
         "z": [
          39,
          4,
          null
         ]
        },
        {
         "hoverinfo": "none",
         "line": {
          "color": "red",
          "width": 4
         },
         "mode": "lines",
         "showlegend": false,
         "type": "scatter3d",
         "x": [
          10,
          -55,
          null
         ],
         "y": [
          -90,
          20,
          null
         ],
         "z": [
          39,
          31,
          null
         ]
        },
        {
         "hoverinfo": "none",
         "line": {
          "color": "red",
          "width": 4
         },
         "mode": "lines",
         "showlegend": false,
         "type": "scatter3d",
         "x": [
          10,
          30,
          null
         ],
         "y": [
          -90,
          66,
          null
         ],
         "z": [
          39,
          -3,
          null
         ]
        },
        {
         "hoverinfo": "none",
         "line": {
          "color": "blue",
          "width": 4
         },
         "mode": "lines",
         "showlegend": false,
         "type": "scatter3d",
         "x": [
          4,
          2,
          null
         ],
         "y": [
          -78,
          -52,
          null
         ],
         "z": [
          51,
          16,
          null
         ]
        },
        {
         "hoverinfo": "none",
         "line": {
          "color": "blue",
          "width": 4
         },
         "mode": "lines",
         "showlegend": false,
         "type": "scatter3d",
         "x": [
          4,
          2,
          null
         ],
         "y": [
          -78,
          56,
          null
         ],
         "z": [
          51,
          1,
          null
         ]
        },
        {
         "hoverinfo": "none",
         "line": {
          "color": "red",
          "width": 4
         },
         "mode": "lines",
         "showlegend": false,
         "type": "scatter3d",
         "x": [
          4,
          -27,
          null
         ],
         "y": [
          -78,
          31,
          null
         ],
         "z": [
          51,
          45,
          null
         ]
        },
        {
         "hoverinfo": "none",
         "line": {
          "color": "red",
          "width": 4
         },
         "mode": "lines",
         "showlegend": false,
         "type": "scatter3d",
         "x": [
          4,
          -48,
          null
         ],
         "y": [
          -78,
          -63,
          null
         ],
         "z": [
          51,
          45,
          null
         ]
        },
        {
         "hoverinfo": "none",
         "line": {
          "color": "blue",
          "width": 4
         },
         "mode": "lines",
         "showlegend": false,
         "type": "scatter3d",
         "x": [
          4,
          45,
          null
         ],
         "y": [
          -78,
          -63,
          null
         ],
         "z": [
          51,
          54,
          null
         ]
        },
        {
         "hoverinfo": "none",
         "line": {
          "color": "blue",
          "width": 4
         },
         "mode": "lines",
         "showlegend": false,
         "type": "scatter3d",
         "x": [
          4,
          -22,
          null
         ],
         "y": [
          -78,
          -68,
          null
         ],
         "z": [
          51,
          55,
          null
         ]
        },
        {
         "hoverinfo": "none",
         "line": {
          "color": "blue",
          "width": 4
         },
         "mode": "lines",
         "showlegend": false,
         "type": "scatter3d",
         "x": [
          4,
          2,
          null
         ],
         "y": [
          -78,
          -60,
          null
         ],
         "z": [
          51,
          66,
          null
         ]
        },
        {
         "hoverinfo": "none",
         "line": {
          "color": "red",
          "width": 4
         },
         "mode": "lines",
         "showlegend": false,
         "type": "scatter3d",
         "x": [
          4,
          66,
          null
         ],
         "y": [
          -78,
          -51,
          null
         ],
         "z": [
          51,
          15,
          null
         ]
        },
        {
         "hoverinfo": "none",
         "line": {
          "color": "blue",
          "width": 4
         },
         "mode": "lines",
         "showlegend": false,
         "type": "scatter3d",
         "x": [
          4,
          -53,
          null
         ],
         "y": [
          -78,
          15,
          null
         ],
         "z": [
          51,
          -9,
          null
         ]
        },
        {
         "hoverinfo": "none",
         "line": {
          "color": "red",
          "width": 4
         },
         "mode": "lines",
         "showlegend": false,
         "type": "scatter3d",
         "x": [
          4,
          55,
          null
         ],
         "y": [
          -78,
          22,
          null
         ],
         "z": [
          51,
          -10,
          null
         ]
        },
        {
         "hoverinfo": "none",
         "line": {
          "color": "red",
          "width": 4
         },
         "mode": "lines",
         "showlegend": false,
         "type": "scatter3d",
         "x": [
          4,
          -63,
          null
         ],
         "y": [
          -78,
          21,
          null
         ],
         "z": [
          51,
          4,
          null
         ]
        },
        {
         "hoverinfo": "none",
         "line": {
          "color": "red",
          "width": 4
         },
         "mode": "lines",
         "showlegend": false,
         "type": "scatter3d",
         "x": [
          4,
          -55,
          null
         ],
         "y": [
          -78,
          20,
          null
         ],
         "z": [
          51,
          31,
          null
         ]
        },
        {
         "hoverinfo": "none",
         "line": {
          "color": "blue",
          "width": 4
         },
         "mode": "lines",
         "showlegend": false,
         "type": "scatter3d",
         "x": [
          4,
          30,
          null
         ],
         "y": [
          -78,
          66,
          null
         ],
         "z": [
          51,
          -3,
          null
         ]
        },
        {
         "hoverinfo": "none",
         "line": {
          "color": "blue",
          "width": 4
         },
         "mode": "lines",
         "showlegend": false,
         "type": "scatter3d",
         "x": [
          2,
          2,
          null
         ],
         "y": [
          -52,
          56,
          null
         ],
         "z": [
          16,
          1,
          null
         ]
        },
        {
         "hoverinfo": "none",
         "line": {
          "color": "blue",
          "width": 4
         },
         "mode": "lines",
         "showlegend": false,
         "type": "scatter3d",
         "x": [
          2,
          -27,
          null
         ],
         "y": [
          -52,
          31,
          null
         ],
         "z": [
          16,
          45,
          null
         ]
        },
        {
         "hoverinfo": "none",
         "line": {
          "color": "blue",
          "width": 4
         },
         "mode": "lines",
         "showlegend": false,
         "type": "scatter3d",
         "x": [
          2,
          -48,
          null
         ],
         "y": [
          -52,
          -63,
          null
         ],
         "z": [
          16,
          45,
          null
         ]
        },
        {
         "hoverinfo": "none",
         "line": {
          "color": "blue",
          "width": 4
         },
         "mode": "lines",
         "showlegend": false,
         "type": "scatter3d",
         "x": [
          2,
          45,
          null
         ],
         "y": [
          -52,
          -63,
          null
         ],
         "z": [
          16,
          54,
          null
         ]
        },
        {
         "hoverinfo": "none",
         "line": {
          "color": "red",
          "width": 4
         },
         "mode": "lines",
         "showlegend": false,
         "type": "scatter3d",
         "x": [
          2,
          -22,
          null
         ],
         "y": [
          -52,
          -68,
          null
         ],
         "z": [
          16,
          55,
          null
         ]
        },
        {
         "hoverinfo": "none",
         "line": {
          "color": "blue",
          "width": 4
         },
         "mode": "lines",
         "showlegend": false,
         "type": "scatter3d",
         "x": [
          2,
          2,
          null
         ],
         "y": [
          -52,
          -60,
          null
         ],
         "z": [
          16,
          66,
          null
         ]
        },
        {
         "hoverinfo": "none",
         "line": {
          "color": "red",
          "width": 4
         },
         "mode": "lines",
         "showlegend": false,
         "type": "scatter3d",
         "x": [
          2,
          66,
          null
         ],
         "y": [
          -52,
          -51,
          null
         ],
         "z": [
          16,
          15,
          null
         ]
        },
        {
         "hoverinfo": "none",
         "line": {
          "color": "red",
          "width": 4
         },
         "mode": "lines",
         "showlegend": false,
         "type": "scatter3d",
         "x": [
          2,
          -53,
          null
         ],
         "y": [
          -52,
          15,
          null
         ],
         "z": [
          16,
          -9,
          null
         ]
        },
        {
         "hoverinfo": "none",
         "line": {
          "color": "red",
          "width": 4
         },
         "mode": "lines",
         "showlegend": false,
         "type": "scatter3d",
         "x": [
          2,
          55,
          null
         ],
         "y": [
          -52,
          22,
          null
         ],
         "z": [
          16,
          -10,
          null
         ]
        },
        {
         "hoverinfo": "none",
         "line": {
          "color": "red",
          "width": 4
         },
         "mode": "lines",
         "showlegend": false,
         "type": "scatter3d",
         "x": [
          2,
          -63,
          null
         ],
         "y": [
          -52,
          21,
          null
         ],
         "z": [
          16,
          4,
          null
         ]
        },
        {
         "hoverinfo": "none",
         "line": {
          "color": "blue",
          "width": 4
         },
         "mode": "lines",
         "showlegend": false,
         "type": "scatter3d",
         "x": [
          2,
          -55,
          null
         ],
         "y": [
          -52,
          20,
          null
         ],
         "z": [
          16,
          31,
          null
         ]
        },
        {
         "hoverinfo": "none",
         "line": {
          "color": "red",
          "width": 4
         },
         "mode": "lines",
         "showlegend": false,
         "type": "scatter3d",
         "x": [
          2,
          30,
          null
         ],
         "y": [
          -52,
          66,
          null
         ],
         "z": [
          16,
          -3,
          null
         ]
        },
        {
         "hoverinfo": "none",
         "line": {
          "color": "blue",
          "width": 4
         },
         "mode": "lines",
         "showlegend": false,
         "type": "scatter3d",
         "x": [
          2,
          -27,
          null
         ],
         "y": [
          56,
          31,
          null
         ],
         "z": [
          1,
          45,
          null
         ]
        },
        {
         "hoverinfo": "none",
         "line": {
          "color": "blue",
          "width": 4
         },
         "mode": "lines",
         "showlegend": false,
         "type": "scatter3d",
         "x": [
          2,
          -48,
          null
         ],
         "y": [
          56,
          -63,
          null
         ],
         "z": [
          1,
          45,
          null
         ]
        },
        {
         "hoverinfo": "none",
         "line": {
          "color": "blue",
          "width": 4
         },
         "mode": "lines",
         "showlegend": false,
         "type": "scatter3d",
         "x": [
          2,
          45,
          null
         ],
         "y": [
          56,
          -63,
          null
         ],
         "z": [
          1,
          54,
          null
         ]
        },
        {
         "hoverinfo": "none",
         "line": {
          "color": "red",
          "width": 4
         },
         "mode": "lines",
         "showlegend": false,
         "type": "scatter3d",
         "x": [
          2,
          -22,
          null
         ],
         "y": [
          56,
          -68,
          null
         ],
         "z": [
          1,
          55,
          null
         ]
        },
        {
         "hoverinfo": "none",
         "line": {
          "color": "red",
          "width": 4
         },
         "mode": "lines",
         "showlegend": false,
         "type": "scatter3d",
         "x": [
          2,
          2,
          null
         ],
         "y": [
          56,
          -60,
          null
         ],
         "z": [
          1,
          66,
          null
         ]
        },
        {
         "hoverinfo": "none",
         "line": {
          "color": "blue",
          "width": 4
         },
         "mode": "lines",
         "showlegend": false,
         "type": "scatter3d",
         "x": [
          2,
          66,
          null
         ],
         "y": [
          56,
          -51,
          null
         ],
         "z": [
          1,
          15,
          null
         ]
        },
        {
         "hoverinfo": "none",
         "line": {
          "color": "red",
          "width": 4
         },
         "mode": "lines",
         "showlegend": false,
         "type": "scatter3d",
         "x": [
          2,
          -53,
          null
         ],
         "y": [
          56,
          15,
          null
         ],
         "z": [
          1,
          -9,
          null
         ]
        },
        {
         "hoverinfo": "none",
         "line": {
          "color": "blue",
          "width": 4
         },
         "mode": "lines",
         "showlegend": false,
         "type": "scatter3d",
         "x": [
          2,
          55,
          null
         ],
         "y": [
          56,
          22,
          null
         ],
         "z": [
          1,
          -10,
          null
         ]
        },
        {
         "hoverinfo": "none",
         "line": {
          "color": "blue",
          "width": 4
         },
         "mode": "lines",
         "showlegend": false,
         "type": "scatter3d",
         "x": [
          2,
          -63,
          null
         ],
         "y": [
          56,
          21,
          null
         ],
         "z": [
          1,
          4,
          null
         ]
        },
        {
         "hoverinfo": "none",
         "line": {
          "color": "blue",
          "width": 4
         },
         "mode": "lines",
         "showlegend": false,
         "type": "scatter3d",
         "x": [
          2,
          -55,
          null
         ],
         "y": [
          56,
          20,
          null
         ],
         "z": [
          1,
          31,
          null
         ]
        },
        {
         "hoverinfo": "none",
         "line": {
          "color": "blue",
          "width": 4
         },
         "mode": "lines",
         "showlegend": false,
         "type": "scatter3d",
         "x": [
          2,
          30,
          null
         ],
         "y": [
          56,
          66,
          null
         ],
         "z": [
          1,
          -3,
          null
         ]
        },
        {
         "hoverinfo": "none",
         "line": {
          "color": "blue",
          "width": 4
         },
         "mode": "lines",
         "showlegend": false,
         "type": "scatter3d",
         "x": [
          -27,
          -48,
          null
         ],
         "y": [
          31,
          -63,
          null
         ],
         "z": [
          45,
          45,
          null
         ]
        },
        {
         "hoverinfo": "none",
         "line": {
          "color": "blue",
          "width": 4
         },
         "mode": "lines",
         "showlegend": false,
         "type": "scatter3d",
         "x": [
          -27,
          45,
          null
         ],
         "y": [
          31,
          -63,
          null
         ],
         "z": [
          45,
          54,
          null
         ]
        },
        {
         "hoverinfo": "none",
         "line": {
          "color": "red",
          "width": 4
         },
         "mode": "lines",
         "showlegend": false,
         "type": "scatter3d",
         "x": [
          -27,
          -22,
          null
         ],
         "y": [
          31,
          -68,
          null
         ],
         "z": [
          45,
          55,
          null
         ]
        },
        {
         "hoverinfo": "none",
         "line": {
          "color": "blue",
          "width": 4
         },
         "mode": "lines",
         "showlegend": false,
         "type": "scatter3d",
         "x": [
          -27,
          2,
          null
         ],
         "y": [
          31,
          -60,
          null
         ],
         "z": [
          45,
          66,
          null
         ]
        },
        {
         "hoverinfo": "none",
         "line": {
          "color": "red",
          "width": 4
         },
         "mode": "lines",
         "showlegend": false,
         "type": "scatter3d",
         "x": [
          -27,
          66,
          null
         ],
         "y": [
          31,
          -51,
          null
         ],
         "z": [
          45,
          15,
          null
         ]
        },
        {
         "hoverinfo": "none",
         "line": {
          "color": "red",
          "width": 4
         },
         "mode": "lines",
         "showlegend": false,
         "type": "scatter3d",
         "x": [
          -27,
          -53,
          null
         ],
         "y": [
          31,
          15,
          null
         ],
         "z": [
          45,
          -9,
          null
         ]
        },
        {
         "hoverinfo": "none",
         "line": {
          "color": "blue",
          "width": 4
         },
         "mode": "lines",
         "showlegend": false,
         "type": "scatter3d",
         "x": [
          -27,
          55,
          null
         ],
         "y": [
          31,
          22,
          null
         ],
         "z": [
          45,
          -10,
          null
         ]
        },
        {
         "hoverinfo": "none",
         "line": {
          "color": "red",
          "width": 4
         },
         "mode": "lines",
         "showlegend": false,
         "type": "scatter3d",
         "x": [
          -27,
          -63,
          null
         ],
         "y": [
          31,
          21,
          null
         ],
         "z": [
          45,
          4,
          null
         ]
        },
        {
         "hoverinfo": "none",
         "line": {
          "color": "blue",
          "width": 4
         },
         "mode": "lines",
         "showlegend": false,
         "type": "scatter3d",
         "x": [
          -27,
          -55,
          null
         ],
         "y": [
          31,
          20,
          null
         ],
         "z": [
          45,
          31,
          null
         ]
        },
        {
         "hoverinfo": "none",
         "line": {
          "color": "blue",
          "width": 4
         },
         "mode": "lines",
         "showlegend": false,
         "type": "scatter3d",
         "x": [
          -27,
          30,
          null
         ],
         "y": [
          31,
          66,
          null
         ],
         "z": [
          45,
          -3,
          null
         ]
        },
        {
         "hoverinfo": "none",
         "line": {
          "color": "blue",
          "width": 4
         },
         "mode": "lines",
         "showlegend": false,
         "type": "scatter3d",
         "x": [
          -48,
          45,
          null
         ],
         "y": [
          -63,
          -63,
          null
         ],
         "z": [
          45,
          54,
          null
         ]
        },
        {
         "hoverinfo": "none",
         "line": {
          "color": "blue",
          "width": 4
         },
         "mode": "lines",
         "showlegend": false,
         "type": "scatter3d",
         "x": [
          -48,
          -22,
          null
         ],
         "y": [
          -63,
          -68,
          null
         ],
         "z": [
          45,
          55,
          null
         ]
        },
        {
         "hoverinfo": "none",
         "line": {
          "color": "blue",
          "width": 4
         },
         "mode": "lines",
         "showlegend": false,
         "type": "scatter3d",
         "x": [
          -48,
          2,
          null
         ],
         "y": [
          -63,
          -60,
          null
         ],
         "z": [
          45,
          66,
          null
         ]
        },
        {
         "hoverinfo": "none",
         "line": {
          "color": "blue",
          "width": 4
         },
         "mode": "lines",
         "showlegend": false,
         "type": "scatter3d",
         "x": [
          -48,
          66,
          null
         ],
         "y": [
          -63,
          -51,
          null
         ],
         "z": [
          45,
          15,
          null
         ]
        },
        {
         "hoverinfo": "none",
         "line": {
          "color": "blue",
          "width": 4
         },
         "mode": "lines",
         "showlegend": false,
         "type": "scatter3d",
         "x": [
          -48,
          -53,
          null
         ],
         "y": [
          -63,
          15,
          null
         ],
         "z": [
          45,
          -9,
          null
         ]
        },
        {
         "hoverinfo": "none",
         "line": {
          "color": "blue",
          "width": 4
         },
         "mode": "lines",
         "showlegend": false,
         "type": "scatter3d",
         "x": [
          -48,
          55,
          null
         ],
         "y": [
          -63,
          22,
          null
         ],
         "z": [
          45,
          -10,
          null
         ]
        },
        {
         "hoverinfo": "none",
         "line": {
          "color": "blue",
          "width": 4
         },
         "mode": "lines",
         "showlegend": false,
         "type": "scatter3d",
         "x": [
          -48,
          -63,
          null
         ],
         "y": [
          -63,
          21,
          null
         ],
         "z": [
          45,
          4,
          null
         ]
        },
        {
         "hoverinfo": "none",
         "line": {
          "color": "blue",
          "width": 4
         },
         "mode": "lines",
         "showlegend": false,
         "type": "scatter3d",
         "x": [
          -48,
          -55,
          null
         ],
         "y": [
          -63,
          20,
          null
         ],
         "z": [
          45,
          31,
          null
         ]
        },
        {
         "hoverinfo": "none",
         "line": {
          "color": "red",
          "width": 4
         },
         "mode": "lines",
         "showlegend": false,
         "type": "scatter3d",
         "x": [
          -48,
          30,
          null
         ],
         "y": [
          -63,
          66,
          null
         ],
         "z": [
          45,
          -3,
          null
         ]
        },
        {
         "hoverinfo": "none",
         "line": {
          "color": "blue",
          "width": 4
         },
         "mode": "lines",
         "showlegend": false,
         "type": "scatter3d",
         "x": [
          45,
          -22,
          null
         ],
         "y": [
          -63,
          -68,
          null
         ],
         "z": [
          54,
          55,
          null
         ]
        },
        {
         "hoverinfo": "none",
         "line": {
          "color": "blue",
          "width": 4
         },
         "mode": "lines",
         "showlegend": false,
         "type": "scatter3d",
         "x": [
          45,
          2,
          null
         ],
         "y": [
          -63,
          -60,
          null
         ],
         "z": [
          54,
          66,
          null
         ]
        },
        {
         "hoverinfo": "none",
         "line": {
          "color": "red",
          "width": 4
         },
         "mode": "lines",
         "showlegend": false,
         "type": "scatter3d",
         "x": [
          45,
          66,
          null
         ],
         "y": [
          -63,
          -51,
          null
         ],
         "z": [
          54,
          15,
          null
         ]
        },
        {
         "hoverinfo": "none",
         "line": {
          "color": "red",
          "width": 4
         },
         "mode": "lines",
         "showlegend": false,
         "type": "scatter3d",
         "x": [
          45,
          -53,
          null
         ],
         "y": [
          -63,
          15,
          null
         ],
         "z": [
          54,
          -9,
          null
         ]
        },
        {
         "hoverinfo": "none",
         "line": {
          "color": "blue",
          "width": 4
         },
         "mode": "lines",
         "showlegend": false,
         "type": "scatter3d",
         "x": [
          45,
          55,
          null
         ],
         "y": [
          -63,
          22,
          null
         ],
         "z": [
          54,
          -10,
          null
         ]
        },
        {
         "hoverinfo": "none",
         "line": {
          "color": "red",
          "width": 4
         },
         "mode": "lines",
         "showlegend": false,
         "type": "scatter3d",
         "x": [
          45,
          -63,
          null
         ],
         "y": [
          -63,
          21,
          null
         ],
         "z": [
          54,
          4,
          null
         ]
        },
        {
         "hoverinfo": "none",
         "line": {
          "color": "blue",
          "width": 4
         },
         "mode": "lines",
         "showlegend": false,
         "type": "scatter3d",
         "x": [
          45,
          -55,
          null
         ],
         "y": [
          -63,
          20,
          null
         ],
         "z": [
          54,
          31,
          null
         ]
        },
        {
         "hoverinfo": "none",
         "line": {
          "color": "blue",
          "width": 4
         },
         "mode": "lines",
         "showlegend": false,
         "type": "scatter3d",
         "x": [
          45,
          30,
          null
         ],
         "y": [
          -63,
          66,
          null
         ],
         "z": [
          54,
          -3,
          null
         ]
        },
        {
         "hoverinfo": "none",
         "line": {
          "color": "blue",
          "width": 4
         },
         "mode": "lines",
         "showlegend": false,
         "type": "scatter3d",
         "x": [
          -22,
          2,
          null
         ],
         "y": [
          -68,
          -60,
          null
         ],
         "z": [
          55,
          66,
          null
         ]
        },
        {
         "hoverinfo": "none",
         "line": {
          "color": "blue",
          "width": 4
         },
         "mode": "lines",
         "showlegend": false,
         "type": "scatter3d",
         "x": [
          -22,
          66,
          null
         ],
         "y": [
          -68,
          -51,
          null
         ],
         "z": [
          55,
          15,
          null
         ]
        },
        {
         "hoverinfo": "none",
         "line": {
          "color": "blue",
          "width": 4
         },
         "mode": "lines",
         "showlegend": false,
         "type": "scatter3d",
         "x": [
          -22,
          -53,
          null
         ],
         "y": [
          -68,
          15,
          null
         ],
         "z": [
          55,
          -9,
          null
         ]
        },
        {
         "hoverinfo": "none",
         "line": {
          "color": "red",
          "width": 4
         },
         "mode": "lines",
         "showlegend": false,
         "type": "scatter3d",
         "x": [
          -22,
          55,
          null
         ],
         "y": [
          -68,
          22,
          null
         ],
         "z": [
          55,
          -10,
          null
         ]
        },
        {
         "hoverinfo": "none",
         "line": {
          "color": "blue",
          "width": 4
         },
         "mode": "lines",
         "showlegend": false,
         "type": "scatter3d",
         "x": [
          -22,
          -63,
          null
         ],
         "y": [
          -68,
          21,
          null
         ],
         "z": [
          55,
          4,
          null
         ]
        },
        {
         "hoverinfo": "none",
         "line": {
          "color": "red",
          "width": 4
         },
         "mode": "lines",
         "showlegend": false,
         "type": "scatter3d",
         "x": [
          -22,
          -55,
          null
         ],
         "y": [
          -68,
          20,
          null
         ],
         "z": [
          55,
          31,
          null
         ]
        },
        {
         "hoverinfo": "none",
         "line": {
          "color": "red",
          "width": 4
         },
         "mode": "lines",
         "showlegend": false,
         "type": "scatter3d",
         "x": [
          -22,
          30,
          null
         ],
         "y": [
          -68,
          66,
          null
         ],
         "z": [
          55,
          -3,
          null
         ]
        },
        {
         "hoverinfo": "none",
         "line": {
          "color": "blue",
          "width": 4
         },
         "mode": "lines",
         "showlegend": false,
         "type": "scatter3d",
         "x": [
          2,
          66,
          null
         ],
         "y": [
          -60,
          -51,
          null
         ],
         "z": [
          66,
          15,
          null
         ]
        },
        {
         "hoverinfo": "none",
         "line": {
          "color": "blue",
          "width": 4
         },
         "mode": "lines",
         "showlegend": false,
         "type": "scatter3d",
         "x": [
          2,
          -53,
          null
         ],
         "y": [
          -60,
          15,
          null
         ],
         "z": [
          66,
          -9,
          null
         ]
        },
        {
         "hoverinfo": "none",
         "line": {
          "color": "blue",
          "width": 4
         },
         "mode": "lines",
         "showlegend": false,
         "type": "scatter3d",
         "x": [
          2,
          55,
          null
         ],
         "y": [
          -60,
          22,
          null
         ],
         "z": [
          66,
          -10,
          null
         ]
        },
        {
         "hoverinfo": "none",
         "line": {
          "color": "blue",
          "width": 4
         },
         "mode": "lines",
         "showlegend": false,
         "type": "scatter3d",
         "x": [
          2,
          -63,
          null
         ],
         "y": [
          -60,
          21,
          null
         ],
         "z": [
          66,
          4,
          null
         ]
        },
        {
         "hoverinfo": "none",
         "line": {
          "color": "blue",
          "width": 4
         },
         "mode": "lines",
         "showlegend": false,
         "type": "scatter3d",
         "x": [
          2,
          -55,
          null
         ],
         "y": [
          -60,
          20,
          null
         ],
         "z": [
          66,
          31,
          null
         ]
        },
        {
         "hoverinfo": "none",
         "line": {
          "color": "red",
          "width": 4
         },
         "mode": "lines",
         "showlegend": false,
         "type": "scatter3d",
         "x": [
          2,
          30,
          null
         ],
         "y": [
          -60,
          66,
          null
         ],
         "z": [
          66,
          -3,
          null
         ]
        },
        {
         "hoverinfo": "none",
         "line": {
          "color": "blue",
          "width": 4
         },
         "mode": "lines",
         "showlegend": false,
         "type": "scatter3d",
         "x": [
          66,
          -53,
          null
         ],
         "y": [
          -51,
          15,
          null
         ],
         "z": [
          15,
          -9,
          null
         ]
        },
        {
         "hoverinfo": "none",
         "line": {
          "color": "red",
          "width": 4
         },
         "mode": "lines",
         "showlegend": false,
         "type": "scatter3d",
         "x": [
          66,
          55,
          null
         ],
         "y": [
          -51,
          22,
          null
         ],
         "z": [
          15,
          -10,
          null
         ]
        },
        {
         "hoverinfo": "none",
         "line": {
          "color": "blue",
          "width": 4
         },
         "mode": "lines",
         "showlegend": false,
         "type": "scatter3d",
         "x": [
          66,
          -63,
          null
         ],
         "y": [
          -51,
          21,
          null
         ],
         "z": [
          15,
          4,
          null
         ]
        },
        {
         "hoverinfo": "none",
         "line": {
          "color": "blue",
          "width": 4
         },
         "mode": "lines",
         "showlegend": false,
         "type": "scatter3d",
         "x": [
          66,
          -55,
          null
         ],
         "y": [
          -51,
          20,
          null
         ],
         "z": [
          15,
          31,
          null
         ]
        },
        {
         "hoverinfo": "none",
         "line": {
          "color": "red",
          "width": 4
         },
         "mode": "lines",
         "showlegend": false,
         "type": "scatter3d",
         "x": [
          66,
          30,
          null
         ],
         "y": [
          -51,
          66,
          null
         ],
         "z": [
          15,
          -3,
          null
         ]
        },
        {
         "hoverinfo": "none",
         "line": {
          "color": "blue",
          "width": 4
         },
         "mode": "lines",
         "showlegend": false,
         "type": "scatter3d",
         "x": [
          -53,
          55,
          null
         ],
         "y": [
          15,
          22,
          null
         ],
         "z": [
          -9,
          -10,
          null
         ]
        },
        {
         "hoverinfo": "none",
         "line": {
          "color": "blue",
          "width": 4
         },
         "mode": "lines",
         "showlegend": false,
         "type": "scatter3d",
         "x": [
          -53,
          -63,
          null
         ],
         "y": [
          15,
          21,
          null
         ],
         "z": [
          -9,
          4,
          null
         ]
        },
        {
         "hoverinfo": "none",
         "line": {
          "color": "blue",
          "width": 4
         },
         "mode": "lines",
         "showlegend": false,
         "type": "scatter3d",
         "x": [
          -53,
          -55,
          null
         ],
         "y": [
          15,
          20,
          null
         ],
         "z": [
          -9,
          31,
          null
         ]
        },
        {
         "hoverinfo": "none",
         "line": {
          "color": "red",
          "width": 4
         },
         "mode": "lines",
         "showlegend": false,
         "type": "scatter3d",
         "x": [
          -53,
          30,
          null
         ],
         "y": [
          15,
          66,
          null
         ],
         "z": [
          -9,
          -3,
          null
         ]
        },
        {
         "hoverinfo": "none",
         "line": {
          "color": "blue",
          "width": 4
         },
         "mode": "lines",
         "showlegend": false,
         "type": "scatter3d",
         "x": [
          55,
          -63,
          null
         ],
         "y": [
          22,
          21,
          null
         ],
         "z": [
          -10,
          4,
          null
         ]
        },
        {
         "hoverinfo": "none",
         "line": {
          "color": "blue",
          "width": 4
         },
         "mode": "lines",
         "showlegend": false,
         "type": "scatter3d",
         "x": [
          55,
          -55,
          null
         ],
         "y": [
          22,
          20,
          null
         ],
         "z": [
          -10,
          31,
          null
         ]
        },
        {
         "hoverinfo": "none",
         "line": {
          "color": "blue",
          "width": 4
         },
         "mode": "lines",
         "showlegend": false,
         "type": "scatter3d",
         "x": [
          55,
          30,
          null
         ],
         "y": [
          22,
          66,
          null
         ],
         "z": [
          -10,
          -3,
          null
         ]
        },
        {
         "hoverinfo": "none",
         "line": {
          "color": "blue",
          "width": 4
         },
         "mode": "lines",
         "showlegend": false,
         "type": "scatter3d",
         "x": [
          -63,
          -55,
          null
         ],
         "y": [
          21,
          20,
          null
         ],
         "z": [
          4,
          31,
          null
         ]
        },
        {
         "hoverinfo": "none",
         "line": {
          "color": "red",
          "width": 4
         },
         "mode": "lines",
         "showlegend": false,
         "type": "scatter3d",
         "x": [
          -63,
          30,
          null
         ],
         "y": [
          21,
          66,
          null
         ],
         "z": [
          4,
          -3,
          null
         ]
        },
        {
         "hoverinfo": "none",
         "line": {
          "color": "blue",
          "width": 4
         },
         "mode": "lines",
         "showlegend": false,
         "type": "scatter3d",
         "x": [
          -55,
          30,
          null
         ],
         "y": [
          20,
          66,
          null
         ],
         "z": [
          31,
          -3,
          null
         ]
        },
        {
         "hoverinfo": "none",
         "line": {
          "color": "blue",
          "width": 4
         },
         "mode": "lines",
         "showlegend": false,
         "type": "scatter3d",
         "x": [
          -64,
          25,
          null
         ],
         "y": [
          -21,
          6,
          null
         ],
         "z": [
          9,
          -6,
          null
         ]
        },
        {
         "hoverinfo": "none",
         "line": {
          "color": "red",
          "width": 4
         },
         "mode": "lines",
         "showlegend": false,
         "type": "scatter3d",
         "x": [
          -61,
          25,
          null
         ],
         "y": [
          -9,
          6,
          null
         ],
         "z": [
          39,
          -6,
          null
         ]
        },
        {
         "hoverinfo": "none",
         "line": {
          "color": "red",
          "width": 4
         },
         "mode": "lines",
         "showlegend": false,
         "type": "scatter3d",
         "x": [
          -45,
          25,
          null
         ],
         "y": [
          -28,
          6,
          null
         ],
         "z": [
          62,
          -6,
          null
         ]
        },
        {
         "hoverinfo": "none",
         "line": {
          "color": "red",
          "width": 4
         },
         "mode": "lines",
         "showlegend": false,
         "type": "scatter3d",
         "x": [
          45,
          25,
          null
         ],
         "y": [
          -30,
          6,
          null
         ],
         "z": [
          66,
          -6,
          null
         ]
        },
        {
         "hoverinfo": "none",
         "line": {
          "color": "blue",
          "width": 4
         },
         "mode": "lines",
         "showlegend": false,
         "type": "scatter3d",
         "x": [
          -61,
          25,
          null
         ],
         "y": [
          -30,
          6,
          null
         ],
         "z": [
          39,
          -6,
          null
         ]
        },
        {
         "hoverinfo": "none",
         "line": {
          "color": "red",
          "width": 4
         },
         "mode": "lines",
         "showlegend": false,
         "type": "scatter3d",
         "x": [
          7,
          25,
          null
         ],
         "y": [
          4,
          6,
          null
         ],
         "z": [
          75,
          -6,
          null
         ]
        },
        {
         "hoverinfo": "none",
         "line": {
          "color": "red",
          "width": 4
         },
         "mode": "lines",
         "showlegend": false,
         "type": "scatter3d",
         "x": [
          2,
          25,
          null
         ],
         "y": [
          -27,
          6,
          null
         ],
         "z": [
          75,
          -6,
          null
         ]
        },
        {
         "hoverinfo": "none",
         "line": {
          "color": "blue",
          "width": 4
         },
         "mode": "lines",
         "showlegend": false,
         "type": "scatter3d",
         "x": [
          2,
          25,
          null
         ],
         "y": [
          -93,
          6,
          null
         ],
         "z": [
          -15,
          -6,
          null
         ]
        },
        {
         "hoverinfo": "none",
         "line": {
          "color": "blue",
          "width": 4
         },
         "mode": "lines",
         "showlegend": false,
         "type": "scatter3d",
         "x": [
          2,
          25,
          null
         ],
         "y": [
          -70,
          6,
          null
         ],
         "z": [
          10,
          -6,
          null
         ]
        },
        {
         "hoverinfo": "none",
         "line": {
          "color": "blue",
          "width": 4
         },
         "mode": "lines",
         "showlegend": false,
         "type": "scatter3d",
         "x": [
          15,
          25,
          null
         ],
         "y": [
          -52,
          6,
          null
         ],
         "z": [
          -6,
          -6,
          null
         ]
        },
        {
         "hoverinfo": "none",
         "line": {
          "color": "red",
          "width": 4
         },
         "mode": "lines",
         "showlegend": false,
         "type": "scatter3d",
         "x": [
          30,
          25,
          null
         ],
         "y": [
          -90,
          6,
          null
         ],
         "z": [
          -18,
          -6,
          null
         ]
        },
        {
         "hoverinfo": "none",
         "line": {
          "color": "blue",
          "width": 4
         },
         "mode": "lines",
         "showlegend": false,
         "type": "scatter3d",
         "x": [
          48,
          25,
          null
         ],
         "y": [
          -70,
          6,
          null
         ],
         "z": [
          -18,
          -6,
          null
         ]
        },
        {
         "hoverinfo": "none",
         "line": {
          "color": "blue",
          "width": 4
         },
         "mode": "lines",
         "showlegend": false,
         "type": "scatter3d",
         "x": [
          10,
          25,
          null
         ],
         "y": [
          -90,
          6,
          null
         ],
         "z": [
          39,
          -6,
          null
         ]
        },
        {
         "hoverinfo": "none",
         "line": {
          "color": "blue",
          "width": 4
         },
         "mode": "lines",
         "showlegend": false,
         "type": "scatter3d",
         "x": [
          4,
          25,
          null
         ],
         "y": [
          -78,
          6,
          null
         ],
         "z": [
          51,
          -6,
          null
         ]
        },
        {
         "hoverinfo": "none",
         "line": {
          "color": "red",
          "width": 4
         },
         "mode": "lines",
         "showlegend": false,
         "type": "scatter3d",
         "x": [
          2,
          25,
          null
         ],
         "y": [
          -52,
          6,
          null
         ],
         "z": [
          16,
          -6,
          null
         ]
        },
        {
         "hoverinfo": "none",
         "line": {
          "color": "blue",
          "width": 4
         },
         "mode": "lines",
         "showlegend": false,
         "type": "scatter3d",
         "x": [
          2,
          25,
          null
         ],
         "y": [
          56,
          6,
          null
         ],
         "z": [
          1,
          -6,
          null
         ]
        },
        {
         "hoverinfo": "none",
         "line": {
          "color": "red",
          "width": 4
         },
         "mode": "lines",
         "showlegend": false,
         "type": "scatter3d",
         "x": [
          -27,
          25,
          null
         ],
         "y": [
          31,
          6,
          null
         ],
         "z": [
          45,
          -6,
          null
         ]
        },
        {
         "hoverinfo": "none",
         "line": {
          "color": "blue",
          "width": 4
         },
         "mode": "lines",
         "showlegend": false,
         "type": "scatter3d",
         "x": [
          -48,
          25,
          null
         ],
         "y": [
          -63,
          6,
          null
         ],
         "z": [
          45,
          -6,
          null
         ]
        },
        {
         "hoverinfo": "none",
         "line": {
          "color": "red",
          "width": 4
         },
         "mode": "lines",
         "showlegend": false,
         "type": "scatter3d",
         "x": [
          45,
          25,
          null
         ],
         "y": [
          -63,
          6,
          null
         ],
         "z": [
          54,
          -6,
          null
         ]
        },
        {
         "hoverinfo": "none",
         "line": {
          "color": "blue",
          "width": 4
         },
         "mode": "lines",
         "showlegend": false,
         "type": "scatter3d",
         "x": [
          -22,
          25,
          null
         ],
         "y": [
          -68,
          6,
          null
         ],
         "z": [
          55,
          -6,
          null
         ]
        },
        {
         "hoverinfo": "none",
         "line": {
          "color": "red",
          "width": 4
         },
         "mode": "lines",
         "showlegend": false,
         "type": "scatter3d",
         "x": [
          2,
          25,
          null
         ],
         "y": [
          -60,
          6,
          null
         ],
         "z": [
          66,
          -6,
          null
         ]
        },
        {
         "hoverinfo": "none",
         "line": {
          "color": "blue",
          "width": 4
         },
         "mode": "lines",
         "showlegend": false,
         "type": "scatter3d",
         "x": [
          66,
          25,
          null
         ],
         "y": [
          -51,
          6,
          null
         ],
         "z": [
          15,
          -6,
          null
         ]
        },
        {
         "hoverinfo": "none",
         "line": {
          "color": "blue",
          "width": 4
         },
         "mode": "lines",
         "showlegend": false,
         "type": "scatter3d",
         "x": [
          -53,
          25,
          null
         ],
         "y": [
          15,
          6,
          null
         ],
         "z": [
          -9,
          -6,
          null
         ]
        },
        {
         "hoverinfo": "none",
         "line": {
          "color": "red",
          "width": 4
         },
         "mode": "lines",
         "showlegend": false,
         "type": "scatter3d",
         "x": [
          55,
          25,
          null
         ],
         "y": [
          22,
          6,
          null
         ],
         "z": [
          -10,
          -6,
          null
         ]
        },
        {
         "hoverinfo": "none",
         "line": {
          "color": "blue",
          "width": 4
         },
         "mode": "lines",
         "showlegend": false,
         "type": "scatter3d",
         "x": [
          -63,
          25,
          null
         ],
         "y": [
          21,
          6,
          null
         ],
         "z": [
          4,
          -6,
          null
         ]
        },
        {
         "hoverinfo": "none",
         "line": {
          "color": "red",
          "width": 4
         },
         "mode": "lines",
         "showlegend": false,
         "type": "scatter3d",
         "x": [
          -55,
          25,
          null
         ],
         "y": [
          20,
          6,
          null
         ],
         "z": [
          31,
          -6,
          null
         ]
        },
        {
         "hoverinfo": "none",
         "line": {
          "color": "red",
          "width": 4
         },
         "mode": "lines",
         "showlegend": false,
         "type": "scatter3d",
         "x": [
          30,
          25,
          null
         ],
         "y": [
          66,
          6,
          null
         ],
         "z": [
          -3,
          -6,
          null
         ]
        },
        {
         "hoverinfo": "none",
         "line": {
          "color": "blue",
          "width": 4
         },
         "mode": "lines",
         "showlegend": false,
         "type": "scatter3d",
         "x": [
          -61,
          -64,
          null
         ],
         "y": [
          -9,
          -21,
          null
         ],
         "z": [
          39,
          9,
          null
         ]
        },
        {
         "hoverinfo": "none",
         "line": {
          "color": "blue",
          "width": 4
         },
         "mode": "lines",
         "showlegend": false,
         "type": "scatter3d",
         "x": [
          -45,
          -64,
          null
         ],
         "y": [
          -28,
          -21,
          null
         ],
         "z": [
          62,
          9,
          null
         ]
        },
        {
         "hoverinfo": "none",
         "line": {
          "color": "blue",
          "width": 4
         },
         "mode": "lines",
         "showlegend": false,
         "type": "scatter3d",
         "x": [
          45,
          -64,
          null
         ],
         "y": [
          -30,
          -21,
          null
         ],
         "z": [
          66,
          9,
          null
         ]
        },
        {
         "hoverinfo": "none",
         "line": {
          "color": "blue",
          "width": 4
         },
         "mode": "lines",
         "showlegend": false,
         "type": "scatter3d",
         "x": [
          -61,
          -64,
          null
         ],
         "y": [
          -30,
          -21,
          null
         ],
         "z": [
          39,
          9,
          null
         ]
        },
        {
         "hoverinfo": "none",
         "line": {
          "color": "blue",
          "width": 4
         },
         "mode": "lines",
         "showlegend": false,
         "type": "scatter3d",
         "x": [
          7,
          -64,
          null
         ],
         "y": [
          4,
          -21,
          null
         ],
         "z": [
          75,
          9,
          null
         ]
        },
        {
         "hoverinfo": "none",
         "line": {
          "color": "blue",
          "width": 4
         },
         "mode": "lines",
         "showlegend": false,
         "type": "scatter3d",
         "x": [
          2,
          -64,
          null
         ],
         "y": [
          -27,
          -21,
          null
         ],
         "z": [
          75,
          9,
          null
         ]
        },
        {
         "hoverinfo": "none",
         "line": {
          "color": "blue",
          "width": 4
         },
         "mode": "lines",
         "showlegend": false,
         "type": "scatter3d",
         "x": [
          2,
          -64,
          null
         ],
         "y": [
          -93,
          -21,
          null
         ],
         "z": [
          -15,
          9,
          null
         ]
        },
        {
         "hoverinfo": "none",
         "line": {
          "color": "blue",
          "width": 4
         },
         "mode": "lines",
         "showlegend": false,
         "type": "scatter3d",
         "x": [
          2,
          -64,
          null
         ],
         "y": [
          -70,
          -21,
          null
         ],
         "z": [
          10,
          9,
          null
         ]
        },
        {
         "hoverinfo": "none",
         "line": {
          "color": "blue",
          "width": 4
         },
         "mode": "lines",
         "showlegend": false,
         "type": "scatter3d",
         "x": [
          15,
          -64,
          null
         ],
         "y": [
          -52,
          -21,
          null
         ],
         "z": [
          -6,
          9,
          null
         ]
        },
        {
         "hoverinfo": "none",
         "line": {
          "color": "blue",
          "width": 4
         },
         "mode": "lines",
         "showlegend": false,
         "type": "scatter3d",
         "x": [
          30,
          -64,
          null
         ],
         "y": [
          -90,
          -21,
          null
         ],
         "z": [
          -18,
          9,
          null
         ]
        },
        {
         "hoverinfo": "none",
         "line": {
          "color": "blue",
          "width": 4
         },
         "mode": "lines",
         "showlegend": false,
         "type": "scatter3d",
         "x": [
          48,
          -64,
          null
         ],
         "y": [
          -70,
          -21,
          null
         ],
         "z": [
          -18,
          9,
          null
         ]
        },
        {
         "hoverinfo": "none",
         "line": {
          "color": "blue",
          "width": 4
         },
         "mode": "lines",
         "showlegend": false,
         "type": "scatter3d",
         "x": [
          10,
          -64,
          null
         ],
         "y": [
          -90,
          -21,
          null
         ],
         "z": [
          39,
          9,
          null
         ]
        },
        {
         "hoverinfo": "none",
         "line": {
          "color": "red",
          "width": 4
         },
         "mode": "lines",
         "showlegend": false,
         "type": "scatter3d",
         "x": [
          4,
          -64,
          null
         ],
         "y": [
          -78,
          -21,
          null
         ],
         "z": [
          51,
          9,
          null
         ]
        },
        {
         "hoverinfo": "none",
         "line": {
          "color": "red",
          "width": 4
         },
         "mode": "lines",
         "showlegend": false,
         "type": "scatter3d",
         "x": [
          2,
          -64,
          null
         ],
         "y": [
          -52,
          -21,
          null
         ],
         "z": [
          16,
          9,
          null
         ]
        },
        {
         "hoverinfo": "none",
         "line": {
          "color": "red",
          "width": 4
         },
         "mode": "lines",
         "showlegend": false,
         "type": "scatter3d",
         "x": [
          2,
          -64,
          null
         ],
         "y": [
          56,
          -21,
          null
         ],
         "z": [
          1,
          9,
          null
         ]
        },
        {
         "hoverinfo": "none",
         "line": {
          "color": "blue",
          "width": 4
         },
         "mode": "lines",
         "showlegend": false,
         "type": "scatter3d",
         "x": [
          -27,
          -64,
          null
         ],
         "y": [
          31,
          -21,
          null
         ],
         "z": [
          45,
          9,
          null
         ]
        },
        {
         "hoverinfo": "none",
         "line": {
          "color": "blue",
          "width": 4
         },
         "mode": "lines",
         "showlegend": false,
         "type": "scatter3d",
         "x": [
          -48,
          -64,
          null
         ],
         "y": [
          -63,
          -21,
          null
         ],
         "z": [
          45,
          9,
          null
         ]
        },
        {
         "hoverinfo": "none",
         "line": {
          "color": "blue",
          "width": 4
         },
         "mode": "lines",
         "showlegend": false,
         "type": "scatter3d",
         "x": [
          45,
          -64,
          null
         ],
         "y": [
          -63,
          -21,
          null
         ],
         "z": [
          54,
          9,
          null
         ]
        },
        {
         "hoverinfo": "none",
         "line": {
          "color": "blue",
          "width": 4
         },
         "mode": "lines",
         "showlegend": false,
         "type": "scatter3d",
         "x": [
          -22,
          -64,
          null
         ],
         "y": [
          -68,
          -21,
          null
         ],
         "z": [
          55,
          9,
          null
         ]
        },
        {
         "hoverinfo": "none",
         "line": {
          "color": "blue",
          "width": 4
         },
         "mode": "lines",
         "showlegend": false,
         "type": "scatter3d",
         "x": [
          2,
          -64,
          null
         ],
         "y": [
          -60,
          -21,
          null
         ],
         "z": [
          66,
          9,
          null
         ]
        },
        {
         "hoverinfo": "none",
         "line": {
          "color": "blue",
          "width": 4
         },
         "mode": "lines",
         "showlegend": false,
         "type": "scatter3d",
         "x": [
          66,
          -64,
          null
         ],
         "y": [
          -51,
          -21,
          null
         ],
         "z": [
          15,
          9,
          null
         ]
        },
        {
         "hoverinfo": "none",
         "line": {
          "color": "blue",
          "width": 4
         },
         "mode": "lines",
         "showlegend": false,
         "type": "scatter3d",
         "x": [
          -53,
          -64,
          null
         ],
         "y": [
          15,
          -21,
          null
         ],
         "z": [
          -9,
          9,
          null
         ]
        },
        {
         "hoverinfo": "none",
         "line": {
          "color": "blue",
          "width": 4
         },
         "mode": "lines",
         "showlegend": false,
         "type": "scatter3d",
         "x": [
          55,
          -64,
          null
         ],
         "y": [
          22,
          -21,
          null
         ],
         "z": [
          -10,
          9,
          null
         ]
        },
        {
         "hoverinfo": "none",
         "line": {
          "color": "blue",
          "width": 4
         },
         "mode": "lines",
         "showlegend": false,
         "type": "scatter3d",
         "x": [
          -63,
          -64,
          null
         ],
         "y": [
          21,
          -21,
          null
         ],
         "z": [
          4,
          9,
          null
         ]
        },
        {
         "hoverinfo": "none",
         "line": {
          "color": "blue",
          "width": 4
         },
         "mode": "lines",
         "showlegend": false,
         "type": "scatter3d",
         "x": [
          -55,
          -64,
          null
         ],
         "y": [
          20,
          -21,
          null
         ],
         "z": [
          31,
          9,
          null
         ]
        },
        {
         "hoverinfo": "none",
         "line": {
          "color": "red",
          "width": 4
         },
         "mode": "lines",
         "showlegend": false,
         "type": "scatter3d",
         "x": [
          30,
          -64,
          null
         ],
         "y": [
          66,
          -21,
          null
         ],
         "z": [
          -3,
          9,
          null
         ]
        },
        {
         "hoverinfo": "none",
         "line": {
          "color": "blue",
          "width": 4
         },
         "mode": "lines",
         "showlegend": false,
         "type": "scatter3d",
         "x": [
          -45,
          -61,
          null
         ],
         "y": [
          -28,
          -9,
          null
         ],
         "z": [
          62,
          39,
          null
         ]
        },
        {
         "hoverinfo": "none",
         "line": {
          "color": "blue",
          "width": 4
         },
         "mode": "lines",
         "showlegend": false,
         "type": "scatter3d",
         "x": [
          45,
          -61,
          null
         ],
         "y": [
          -30,
          -9,
          null
         ],
         "z": [
          66,
          39,
          null
         ]
        },
        {
         "hoverinfo": "none",
         "line": {
          "color": "blue",
          "width": 4
         },
         "mode": "lines",
         "showlegend": false,
         "type": "scatter3d",
         "x": [
          -61,
          -61,
          null
         ],
         "y": [
          -30,
          -9,
          null
         ],
         "z": [
          39,
          39,
          null
         ]
        },
        {
         "hoverinfo": "none",
         "line": {
          "color": "blue",
          "width": 4
         },
         "mode": "lines",
         "showlegend": false,
         "type": "scatter3d",
         "x": [
          7,
          -61,
          null
         ],
         "y": [
          4,
          -9,
          null
         ],
         "z": [
          75,
          39,
          null
         ]
        },
        {
         "hoverinfo": "none",
         "line": {
          "color": "blue",
          "width": 4
         },
         "mode": "lines",
         "showlegend": false,
         "type": "scatter3d",
         "x": [
          2,
          -61,
          null
         ],
         "y": [
          -27,
          -9,
          null
         ],
         "z": [
          75,
          39,
          null
         ]
        },
        {
         "hoverinfo": "none",
         "line": {
          "color": "red",
          "width": 4
         },
         "mode": "lines",
         "showlegend": false,
         "type": "scatter3d",
         "x": [
          2,
          -61,
          null
         ],
         "y": [
          -93,
          -9,
          null
         ],
         "z": [
          -15,
          39,
          null
         ]
        },
        {
         "hoverinfo": "none",
         "line": {
          "color": "blue",
          "width": 4
         },
         "mode": "lines",
         "showlegend": false,
         "type": "scatter3d",
         "x": [
          2,
          -61,
          null
         ],
         "y": [
          -70,
          -9,
          null
         ],
         "z": [
          10,
          39,
          null
         ]
        },
        {
         "hoverinfo": "none",
         "line": {
          "color": "blue",
          "width": 4
         },
         "mode": "lines",
         "showlegend": false,
         "type": "scatter3d",
         "x": [
          15,
          -61,
          null
         ],
         "y": [
          -52,
          -9,
          null
         ],
         "z": [
          -6,
          39,
          null
         ]
        },
        {
         "hoverinfo": "none",
         "line": {
          "color": "blue",
          "width": 4
         },
         "mode": "lines",
         "showlegend": false,
         "type": "scatter3d",
         "x": [
          30,
          -61,
          null
         ],
         "y": [
          -90,
          -9,
          null
         ],
         "z": [
          -18,
          39,
          null
         ]
        },
        {
         "hoverinfo": "none",
         "line": {
          "color": "blue",
          "width": 4
         },
         "mode": "lines",
         "showlegend": false,
         "type": "scatter3d",
         "x": [
          48,
          -61,
          null
         ],
         "y": [
          -70,
          -9,
          null
         ],
         "z": [
          -18,
          39,
          null
         ]
        },
        {
         "hoverinfo": "none",
         "line": {
          "color": "blue",
          "width": 4
         },
         "mode": "lines",
         "showlegend": false,
         "type": "scatter3d",
         "x": [
          10,
          -61,
          null
         ],
         "y": [
          -90,
          -9,
          null
         ],
         "z": [
          39,
          39,
          null
         ]
        },
        {
         "hoverinfo": "none",
         "line": {
          "color": "blue",
          "width": 4
         },
         "mode": "lines",
         "showlegend": false,
         "type": "scatter3d",
         "x": [
          4,
          -61,
          null
         ],
         "y": [
          -78,
          -9,
          null
         ],
         "z": [
          51,
          39,
          null
         ]
        },
        {
         "hoverinfo": "none",
         "line": {
          "color": "blue",
          "width": 4
         },
         "mode": "lines",
         "showlegend": false,
         "type": "scatter3d",
         "x": [
          2,
          -61,
          null
         ],
         "y": [
          -52,
          -9,
          null
         ],
         "z": [
          16,
          39,
          null
         ]
        },
        {
         "hoverinfo": "none",
         "line": {
          "color": "red",
          "width": 4
         },
         "mode": "lines",
         "showlegend": false,
         "type": "scatter3d",
         "x": [
          2,
          -61,
          null
         ],
         "y": [
          56,
          -9,
          null
         ],
         "z": [
          1,
          39,
          null
         ]
        },
        {
         "hoverinfo": "none",
         "line": {
          "color": "red",
          "width": 4
         },
         "mode": "lines",
         "showlegend": false,
         "type": "scatter3d",
         "x": [
          -27,
          -61,
          null
         ],
         "y": [
          31,
          -9,
          null
         ],
         "z": [
          45,
          39,
          null
         ]
        },
        {
         "hoverinfo": "none",
         "line": {
          "color": "blue",
          "width": 4
         },
         "mode": "lines",
         "showlegend": false,
         "type": "scatter3d",
         "x": [
          -48,
          -61,
          null
         ],
         "y": [
          -63,
          -9,
          null
         ],
         "z": [
          45,
          39,
          null
         ]
        },
        {
         "hoverinfo": "none",
         "line": {
          "color": "blue",
          "width": 4
         },
         "mode": "lines",
         "showlegend": false,
         "type": "scatter3d",
         "x": [
          45,
          -61,
          null
         ],
         "y": [
          -63,
          -9,
          null
         ],
         "z": [
          54,
          39,
          null
         ]
        },
        {
         "hoverinfo": "none",
         "line": {
          "color": "blue",
          "width": 4
         },
         "mode": "lines",
         "showlegend": false,
         "type": "scatter3d",
         "x": [
          -22,
          -61,
          null
         ],
         "y": [
          -68,
          -9,
          null
         ],
         "z": [
          55,
          39,
          null
         ]
        },
        {
         "hoverinfo": "none",
         "line": {
          "color": "blue",
          "width": 4
         },
         "mode": "lines",
         "showlegend": false,
         "type": "scatter3d",
         "x": [
          2,
          -61,
          null
         ],
         "y": [
          -60,
          -9,
          null
         ],
         "z": [
          66,
          39,
          null
         ]
        },
        {
         "hoverinfo": "none",
         "line": {
          "color": "red",
          "width": 4
         },
         "mode": "lines",
         "showlegend": false,
         "type": "scatter3d",
         "x": [
          66,
          -61,
          null
         ],
         "y": [
          -51,
          -9,
          null
         ],
         "z": [
          15,
          39,
          null
         ]
        },
        {
         "hoverinfo": "none",
         "line": {
          "color": "blue",
          "width": 4
         },
         "mode": "lines",
         "showlegend": false,
         "type": "scatter3d",
         "x": [
          -53,
          -61,
          null
         ],
         "y": [
          15,
          -9,
          null
         ],
         "z": [
          -9,
          39,
          null
         ]
        },
        {
         "hoverinfo": "none",
         "line": {
          "color": "blue",
          "width": 4
         },
         "mode": "lines",
         "showlegend": false,
         "type": "scatter3d",
         "x": [
          55,
          -61,
          null
         ],
         "y": [
          22,
          -9,
          null
         ],
         "z": [
          -10,
          39,
          null
         ]
        },
        {
         "hoverinfo": "none",
         "line": {
          "color": "red",
          "width": 4
         },
         "mode": "lines",
         "showlegend": false,
         "type": "scatter3d",
         "x": [
          -63,
          -61,
          null
         ],
         "y": [
          21,
          -9,
          null
         ],
         "z": [
          4,
          39,
          null
         ]
        },
        {
         "hoverinfo": "none",
         "line": {
          "color": "blue",
          "width": 4
         },
         "mode": "lines",
         "showlegend": false,
         "type": "scatter3d",
         "x": [
          -55,
          -61,
          null
         ],
         "y": [
          20,
          -9,
          null
         ],
         "z": [
          31,
          39,
          null
         ]
        },
        {
         "hoverinfo": "none",
         "line": {
          "color": "red",
          "width": 4
         },
         "mode": "lines",
         "showlegend": false,
         "type": "scatter3d",
         "x": [
          30,
          -61,
          null
         ],
         "y": [
          66,
          -9,
          null
         ],
         "z": [
          -3,
          39,
          null
         ]
        },
        {
         "hoverinfo": "none",
         "line": {
          "color": "blue",
          "width": 4
         },
         "mode": "lines",
         "showlegend": false,
         "type": "scatter3d",
         "x": [
          45,
          -45,
          null
         ],
         "y": [
          -30,
          -28,
          null
         ],
         "z": [
          66,
          62,
          null
         ]
        },
        {
         "hoverinfo": "none",
         "line": {
          "color": "blue",
          "width": 4
         },
         "mode": "lines",
         "showlegend": false,
         "type": "scatter3d",
         "x": [
          -61,
          -45,
          null
         ],
         "y": [
          -30,
          -28,
          null
         ],
         "z": [
          39,
          62,
          null
         ]
        },
        {
         "hoverinfo": "none",
         "line": {
          "color": "blue",
          "width": 4
         },
         "mode": "lines",
         "showlegend": false,
         "type": "scatter3d",
         "x": [
          7,
          -45,
          null
         ],
         "y": [
          4,
          -28,
          null
         ],
         "z": [
          75,
          62,
          null
         ]
        },
        {
         "hoverinfo": "none",
         "line": {
          "color": "blue",
          "width": 4
         },
         "mode": "lines",
         "showlegend": false,
         "type": "scatter3d",
         "x": [
          2,
          -45,
          null
         ],
         "y": [
          -27,
          -28,
          null
         ],
         "z": [
          75,
          62,
          null
         ]
        },
        {
         "hoverinfo": "none",
         "line": {
          "color": "red",
          "width": 4
         },
         "mode": "lines",
         "showlegend": false,
         "type": "scatter3d",
         "x": [
          2,
          -45,
          null
         ],
         "y": [
          -93,
          -28,
          null
         ],
         "z": [
          -15,
          62,
          null
         ]
        },
        {
         "hoverinfo": "none",
         "line": {
          "color": "blue",
          "width": 4
         },
         "mode": "lines",
         "showlegend": false,
         "type": "scatter3d",
         "x": [
          2,
          -45,
          null
         ],
         "y": [
          -70,
          -28,
          null
         ],
         "z": [
          10,
          62,
          null
         ]
        },
        {
         "hoverinfo": "none",
         "line": {
          "color": "red",
          "width": 4
         },
         "mode": "lines",
         "showlegend": false,
         "type": "scatter3d",
         "x": [
          15,
          -45,
          null
         ],
         "y": [
          -52,
          -28,
          null
         ],
         "z": [
          -6,
          62,
          null
         ]
        },
        {
         "hoverinfo": "none",
         "line": {
          "color": "blue",
          "width": 4
         },
         "mode": "lines",
         "showlegend": false,
         "type": "scatter3d",
         "x": [
          30,
          -45,
          null
         ],
         "y": [
          -90,
          -28,
          null
         ],
         "z": [
          -18,
          62,
          null
         ]
        },
        {
         "hoverinfo": "none",
         "line": {
          "color": "red",
          "width": 4
         },
         "mode": "lines",
         "showlegend": false,
         "type": "scatter3d",
         "x": [
          48,
          -45,
          null
         ],
         "y": [
          -70,
          -28,
          null
         ],
         "z": [
          -18,
          62,
          null
         ]
        },
        {
         "hoverinfo": "none",
         "line": {
          "color": "red",
          "width": 4
         },
         "mode": "lines",
         "showlegend": false,
         "type": "scatter3d",
         "x": [
          10,
          -45,
          null
         ],
         "y": [
          -90,
          -28,
          null
         ],
         "z": [
          39,
          62,
          null
         ]
        },
        {
         "hoverinfo": "none",
         "line": {
          "color": "red",
          "width": 4
         },
         "mode": "lines",
         "showlegend": false,
         "type": "scatter3d",
         "x": [
          4,
          -45,
          null
         ],
         "y": [
          -78,
          -28,
          null
         ],
         "z": [
          51,
          62,
          null
         ]
        },
        {
         "hoverinfo": "none",
         "line": {
          "color": "blue",
          "width": 4
         },
         "mode": "lines",
         "showlegend": false,
         "type": "scatter3d",
         "x": [
          2,
          -45,
          null
         ],
         "y": [
          -52,
          -28,
          null
         ],
         "z": [
          16,
          62,
          null
         ]
        },
        {
         "hoverinfo": "none",
         "line": {
          "color": "blue",
          "width": 4
         },
         "mode": "lines",
         "showlegend": false,
         "type": "scatter3d",
         "x": [
          2,
          -45,
          null
         ],
         "y": [
          56,
          -28,
          null
         ],
         "z": [
          1,
          62,
          null
         ]
        },
        {
         "hoverinfo": "none",
         "line": {
          "color": "blue",
          "width": 4
         },
         "mode": "lines",
         "showlegend": false,
         "type": "scatter3d",
         "x": [
          -27,
          -45,
          null
         ],
         "y": [
          31,
          -28,
          null
         ],
         "z": [
          45,
          62,
          null
         ]
        },
        {
         "hoverinfo": "none",
         "line": {
          "color": "red",
          "width": 4
         },
         "mode": "lines",
         "showlegend": false,
         "type": "scatter3d",
         "x": [
          -48,
          -45,
          null
         ],
         "y": [
          -63,
          -28,
          null
         ],
         "z": [
          45,
          62,
          null
         ]
        },
        {
         "hoverinfo": "none",
         "line": {
          "color": "blue",
          "width": 4
         },
         "mode": "lines",
         "showlegend": false,
         "type": "scatter3d",
         "x": [
          45,
          -45,
          null
         ],
         "y": [
          -63,
          -28,
          null
         ],
         "z": [
          54,
          62,
          null
         ]
        },
        {
         "hoverinfo": "none",
         "line": {
          "color": "red",
          "width": 4
         },
         "mode": "lines",
         "showlegend": false,
         "type": "scatter3d",
         "x": [
          -22,
          -45,
          null
         ],
         "y": [
          -68,
          -28,
          null
         ],
         "z": [
          55,
          62,
          null
         ]
        },
        {
         "hoverinfo": "none",
         "line": {
          "color": "blue",
          "width": 4
         },
         "mode": "lines",
         "showlegend": false,
         "type": "scatter3d",
         "x": [
          2,
          -45,
          null
         ],
         "y": [
          -60,
          -28,
          null
         ],
         "z": [
          66,
          62,
          null
         ]
        },
        {
         "hoverinfo": "none",
         "line": {
          "color": "red",
          "width": 4
         },
         "mode": "lines",
         "showlegend": false,
         "type": "scatter3d",
         "x": [
          66,
          -45,
          null
         ],
         "y": [
          -51,
          -28,
          null
         ],
         "z": [
          15,
          62,
          null
         ]
        },
        {
         "hoverinfo": "none",
         "line": {
          "color": "red",
          "width": 4
         },
         "mode": "lines",
         "showlegend": false,
         "type": "scatter3d",
         "x": [
          -53,
          -45,
          null
         ],
         "y": [
          15,
          -28,
          null
         ],
         "z": [
          -9,
          62,
          null
         ]
        },
        {
         "hoverinfo": "none",
         "line": {
          "color": "blue",
          "width": 4
         },
         "mode": "lines",
         "showlegend": false,
         "type": "scatter3d",
         "x": [
          55,
          -45,
          null
         ],
         "y": [
          22,
          -28,
          null
         ],
         "z": [
          -10,
          62,
          null
         ]
        },
        {
         "hoverinfo": "none",
         "line": {
          "color": "red",
          "width": 4
         },
         "mode": "lines",
         "showlegend": false,
         "type": "scatter3d",
         "x": [
          -63,
          -45,
          null
         ],
         "y": [
          21,
          -28,
          null
         ],
         "z": [
          4,
          62,
          null
         ]
        },
        {
         "hoverinfo": "none",
         "line": {
          "color": "blue",
          "width": 4
         },
         "mode": "lines",
         "showlegend": false,
         "type": "scatter3d",
         "x": [
          -55,
          -45,
          null
         ],
         "y": [
          20,
          -28,
          null
         ],
         "z": [
          31,
          62,
          null
         ]
        },
        {
         "hoverinfo": "none",
         "line": {
          "color": "blue",
          "width": 4
         },
         "mode": "lines",
         "showlegend": false,
         "type": "scatter3d",
         "x": [
          30,
          -45,
          null
         ],
         "y": [
          66,
          -28,
          null
         ],
         "z": [
          -3,
          62,
          null
         ]
        },
        {
         "hoverinfo": "none",
         "line": {
          "color": "blue",
          "width": 4
         },
         "mode": "lines",
         "showlegend": false,
         "type": "scatter3d",
         "x": [
          -61,
          45,
          null
         ],
         "y": [
          -30,
          -30,
          null
         ],
         "z": [
          39,
          66,
          null
         ]
        },
        {
         "hoverinfo": "none",
         "line": {
          "color": "blue",
          "width": 4
         },
         "mode": "lines",
         "showlegend": false,
         "type": "scatter3d",
         "x": [
          7,
          45,
          null
         ],
         "y": [
          4,
          -30,
          null
         ],
         "z": [
          75,
          66,
          null
         ]
        },
        {
         "hoverinfo": "none",
         "line": {
          "color": "blue",
          "width": 4
         },
         "mode": "lines",
         "showlegend": false,
         "type": "scatter3d",
         "x": [
          2,
          45,
          null
         ],
         "y": [
          -27,
          -30,
          null
         ],
         "z": [
          75,
          66,
          null
         ]
        },
        {
         "hoverinfo": "none",
         "line": {
          "color": "red",
          "width": 4
         },
         "mode": "lines",
         "showlegend": false,
         "type": "scatter3d",
         "x": [
          2,
          45,
          null
         ],
         "y": [
          -93,
          -30,
          null
         ],
         "z": [
          -15,
          66,
          null
         ]
        },
        {
         "hoverinfo": "none",
         "line": {
          "color": "red",
          "width": 4
         },
         "mode": "lines",
         "showlegend": false,
         "type": "scatter3d",
         "x": [
          2,
          45,
          null
         ],
         "y": [
          -70,
          -30,
          null
         ],
         "z": [
          10,
          66,
          null
         ]
        },
        {
         "hoverinfo": "none",
         "line": {
          "color": "red",
          "width": 4
         },
         "mode": "lines",
         "showlegend": false,
         "type": "scatter3d",
         "x": [
          15,
          45,
          null
         ],
         "y": [
          -52,
          -30,
          null
         ],
         "z": [
          -6,
          66,
          null
         ]
        },
        {
         "hoverinfo": "none",
         "line": {
          "color": "blue",
          "width": 4
         },
         "mode": "lines",
         "showlegend": false,
         "type": "scatter3d",
         "x": [
          30,
          45,
          null
         ],
         "y": [
          -90,
          -30,
          null
         ],
         "z": [
          -18,
          66,
          null
         ]
        },
        {
         "hoverinfo": "none",
         "line": {
          "color": "red",
          "width": 4
         },
         "mode": "lines",
         "showlegend": false,
         "type": "scatter3d",
         "x": [
          48,
          45,
          null
         ],
         "y": [
          -70,
          -30,
          null
         ],
         "z": [
          -18,
          66,
          null
         ]
        },
        {
         "hoverinfo": "none",
         "line": {
          "color": "red",
          "width": 4
         },
         "mode": "lines",
         "showlegend": false,
         "type": "scatter3d",
         "x": [
          10,
          45,
          null
         ],
         "y": [
          -90,
          -30,
          null
         ],
         "z": [
          39,
          66,
          null
         ]
        },
        {
         "hoverinfo": "none",
         "line": {
          "color": "blue",
          "width": 4
         },
         "mode": "lines",
         "showlegend": false,
         "type": "scatter3d",
         "x": [
          4,
          45,
          null
         ],
         "y": [
          -78,
          -30,
          null
         ],
         "z": [
          51,
          66,
          null
         ]
        },
        {
         "hoverinfo": "none",
         "line": {
          "color": "blue",
          "width": 4
         },
         "mode": "lines",
         "showlegend": false,
         "type": "scatter3d",
         "x": [
          2,
          45,
          null
         ],
         "y": [
          -52,
          -30,
          null
         ],
         "z": [
          16,
          66,
          null
         ]
        },
        {
         "hoverinfo": "none",
         "line": {
          "color": "blue",
          "width": 4
         },
         "mode": "lines",
         "showlegend": false,
         "type": "scatter3d",
         "x": [
          2,
          45,
          null
         ],
         "y": [
          56,
          -30,
          null
         ],
         "z": [
          1,
          66,
          null
         ]
        },
        {
         "hoverinfo": "none",
         "line": {
          "color": "blue",
          "width": 4
         },
         "mode": "lines",
         "showlegend": false,
         "type": "scatter3d",
         "x": [
          -27,
          45,
          null
         ],
         "y": [
          31,
          -30,
          null
         ],
         "z": [
          45,
          66,
          null
         ]
        },
        {
         "hoverinfo": "none",
         "line": {
          "color": "red",
          "width": 4
         },
         "mode": "lines",
         "showlegend": false,
         "type": "scatter3d",
         "x": [
          -48,
          45,
          null
         ],
         "y": [
          -63,
          -30,
          null
         ],
         "z": [
          45,
          66,
          null
         ]
        },
        {
         "hoverinfo": "none",
         "line": {
          "color": "blue",
          "width": 4
         },
         "mode": "lines",
         "showlegend": false,
         "type": "scatter3d",
         "x": [
          45,
          45,
          null
         ],
         "y": [
          -63,
          -30,
          null
         ],
         "z": [
          54,
          66,
          null
         ]
        },
        {
         "hoverinfo": "none",
         "line": {
          "color": "red",
          "width": 4
         },
         "mode": "lines",
         "showlegend": false,
         "type": "scatter3d",
         "x": [
          -22,
          45,
          null
         ],
         "y": [
          -68,
          -30,
          null
         ],
         "z": [
          55,
          66,
          null
         ]
        },
        {
         "hoverinfo": "none",
         "line": {
          "color": "blue",
          "width": 4
         },
         "mode": "lines",
         "showlegend": false,
         "type": "scatter3d",
         "x": [
          2,
          45,
          null
         ],
         "y": [
          -60,
          -30,
          null
         ],
         "z": [
          66,
          66,
          null
         ]
        },
        {
         "hoverinfo": "none",
         "line": {
          "color": "red",
          "width": 4
         },
         "mode": "lines",
         "showlegend": false,
         "type": "scatter3d",
         "x": [
          66,
          45,
          null
         ],
         "y": [
          -51,
          -30,
          null
         ],
         "z": [
          15,
          66,
          null
         ]
        },
        {
         "hoverinfo": "none",
         "line": {
          "color": "red",
          "width": 4
         },
         "mode": "lines",
         "showlegend": false,
         "type": "scatter3d",
         "x": [
          -53,
          45,
          null
         ],
         "y": [
          15,
          -30,
          null
         ],
         "z": [
          -9,
          66,
          null
         ]
        },
        {
         "hoverinfo": "none",
         "line": {
          "color": "blue",
          "width": 4
         },
         "mode": "lines",
         "showlegend": false,
         "type": "scatter3d",
         "x": [
          55,
          45,
          null
         ],
         "y": [
          22,
          -30,
          null
         ],
         "z": [
          -10,
          66,
          null
         ]
        },
        {
         "hoverinfo": "none",
         "line": {
          "color": "red",
          "width": 4
         },
         "mode": "lines",
         "showlegend": false,
         "type": "scatter3d",
         "x": [
          -63,
          45,
          null
         ],
         "y": [
          21,
          -30,
          null
         ],
         "z": [
          4,
          66,
          null
         ]
        },
        {
         "hoverinfo": "none",
         "line": {
          "color": "blue",
          "width": 4
         },
         "mode": "lines",
         "showlegend": false,
         "type": "scatter3d",
         "x": [
          -55,
          45,
          null
         ],
         "y": [
          20,
          -30,
          null
         ],
         "z": [
          31,
          66,
          null
         ]
        },
        {
         "hoverinfo": "none",
         "line": {
          "color": "blue",
          "width": 4
         },
         "mode": "lines",
         "showlegend": false,
         "type": "scatter3d",
         "x": [
          30,
          45,
          null
         ],
         "y": [
          66,
          -30,
          null
         ],
         "z": [
          -3,
          66,
          null
         ]
        },
        {
         "hoverinfo": "none",
         "line": {
          "color": "blue",
          "width": 4
         },
         "mode": "lines",
         "showlegend": false,
         "type": "scatter3d",
         "x": [
          7,
          -61,
          null
         ],
         "y": [
          4,
          -30,
          null
         ],
         "z": [
          75,
          39,
          null
         ]
        },
        {
         "hoverinfo": "none",
         "line": {
          "color": "blue",
          "width": 4
         },
         "mode": "lines",
         "showlegend": false,
         "type": "scatter3d",
         "x": [
          2,
          -61,
          null
         ],
         "y": [
          -27,
          -30,
          null
         ],
         "z": [
          75,
          39,
          null
         ]
        },
        {
         "hoverinfo": "none",
         "line": {
          "color": "red",
          "width": 4
         },
         "mode": "lines",
         "showlegend": false,
         "type": "scatter3d",
         "x": [
          2,
          -61,
          null
         ],
         "y": [
          -93,
          -30,
          null
         ],
         "z": [
          -15,
          39,
          null
         ]
        },
        {
         "hoverinfo": "none",
         "line": {
          "color": "blue",
          "width": 4
         },
         "mode": "lines",
         "showlegend": false,
         "type": "scatter3d",
         "x": [
          2,
          -61,
          null
         ],
         "y": [
          -70,
          -30,
          null
         ],
         "z": [
          10,
          39,
          null
         ]
        },
        {
         "hoverinfo": "none",
         "line": {
          "color": "red",
          "width": 4
         },
         "mode": "lines",
         "showlegend": false,
         "type": "scatter3d",
         "x": [
          15,
          -61,
          null
         ],
         "y": [
          -52,
          -30,
          null
         ],
         "z": [
          -6,
          39,
          null
         ]
        },
        {
         "hoverinfo": "none",
         "line": {
          "color": "blue",
          "width": 4
         },
         "mode": "lines",
         "showlegend": false,
         "type": "scatter3d",
         "x": [
          30,
          -61,
          null
         ],
         "y": [
          -90,
          -30,
          null
         ],
         "z": [
          -18,
          39,
          null
         ]
        },
        {
         "hoverinfo": "none",
         "line": {
          "color": "blue",
          "width": 4
         },
         "mode": "lines",
         "showlegend": false,
         "type": "scatter3d",
         "x": [
          48,
          -61,
          null
         ],
         "y": [
          -70,
          -30,
          null
         ],
         "z": [
          -18,
          39,
          null
         ]
        },
        {
         "hoverinfo": "none",
         "line": {
          "color": "red",
          "width": 4
         },
         "mode": "lines",
         "showlegend": false,
         "type": "scatter3d",
         "x": [
          10,
          -61,
          null
         ],
         "y": [
          -90,
          -30,
          null
         ],
         "z": [
          39,
          39,
          null
         ]
        },
        {
         "hoverinfo": "none",
         "line": {
          "color": "blue",
          "width": 4
         },
         "mode": "lines",
         "showlegend": false,
         "type": "scatter3d",
         "x": [
          4,
          -61,
          null
         ],
         "y": [
          -78,
          -30,
          null
         ],
         "z": [
          51,
          39,
          null
         ]
        },
        {
         "hoverinfo": "none",
         "line": {
          "color": "red",
          "width": 4
         },
         "mode": "lines",
         "showlegend": false,
         "type": "scatter3d",
         "x": [
          2,
          -61,
          null
         ],
         "y": [
          -52,
          -30,
          null
         ],
         "z": [
          16,
          39,
          null
         ]
        },
        {
         "hoverinfo": "none",
         "line": {
          "color": "red",
          "width": 4
         },
         "mode": "lines",
         "showlegend": false,
         "type": "scatter3d",
         "x": [
          2,
          -61,
          null
         ],
         "y": [
          56,
          -30,
          null
         ],
         "z": [
          1,
          39,
          null
         ]
        },
        {
         "hoverinfo": "none",
         "line": {
          "color": "blue",
          "width": 4
         },
         "mode": "lines",
         "showlegend": false,
         "type": "scatter3d",
         "x": [
          -27,
          -61,
          null
         ],
         "y": [
          31,
          -30,
          null
         ],
         "z": [
          45,
          39,
          null
         ]
        },
        {
         "hoverinfo": "none",
         "line": {
          "color": "blue",
          "width": 4
         },
         "mode": "lines",
         "showlegend": false,
         "type": "scatter3d",
         "x": [
          -48,
          -61,
          null
         ],
         "y": [
          -63,
          -30,
          null
         ],
         "z": [
          45,
          39,
          null
         ]
        },
        {
         "hoverinfo": "none",
         "line": {
          "color": "blue",
          "width": 4
         },
         "mode": "lines",
         "showlegend": false,
         "type": "scatter3d",
         "x": [
          45,
          -61,
          null
         ],
         "y": [
          -63,
          -30,
          null
         ],
         "z": [
          54,
          39,
          null
         ]
        },
        {
         "hoverinfo": "none",
         "line": {
          "color": "blue",
          "width": 4
         },
         "mode": "lines",
         "showlegend": false,
         "type": "scatter3d",
         "x": [
          -22,
          -61,
          null
         ],
         "y": [
          -68,
          -30,
          null
         ],
         "z": [
          55,
          39,
          null
         ]
        },
        {
         "hoverinfo": "none",
         "line": {
          "color": "blue",
          "width": 4
         },
         "mode": "lines",
         "showlegend": false,
         "type": "scatter3d",
         "x": [
          2,
          -61,
          null
         ],
         "y": [
          -60,
          -30,
          null
         ],
         "z": [
          66,
          39,
          null
         ]
        },
        {
         "hoverinfo": "none",
         "line": {
          "color": "red",
          "width": 4
         },
         "mode": "lines",
         "showlegend": false,
         "type": "scatter3d",
         "x": [
          66,
          -61,
          null
         ],
         "y": [
          -51,
          -30,
          null
         ],
         "z": [
          15,
          39,
          null
         ]
        },
        {
         "hoverinfo": "none",
         "line": {
          "color": "blue",
          "width": 4
         },
         "mode": "lines",
         "showlegend": false,
         "type": "scatter3d",
         "x": [
          -53,
          -61,
          null
         ],
         "y": [
          15,
          -30,
          null
         ],
         "z": [
          -9,
          39,
          null
         ]
        },
        {
         "hoverinfo": "none",
         "line": {
          "color": "blue",
          "width": 4
         },
         "mode": "lines",
         "showlegend": false,
         "type": "scatter3d",
         "x": [
          55,
          -61,
          null
         ],
         "y": [
          22,
          -30,
          null
         ],
         "z": [
          -10,
          39,
          null
         ]
        },
        {
         "hoverinfo": "none",
         "line": {
          "color": "blue",
          "width": 4
         },
         "mode": "lines",
         "showlegend": false,
         "type": "scatter3d",
         "x": [
          -63,
          -61,
          null
         ],
         "y": [
          21,
          -30,
          null
         ],
         "z": [
          4,
          39,
          null
         ]
        },
        {
         "hoverinfo": "none",
         "line": {
          "color": "blue",
          "width": 4
         },
         "mode": "lines",
         "showlegend": false,
         "type": "scatter3d",
         "x": [
          -55,
          -61,
          null
         ],
         "y": [
          20,
          -30,
          null
         ],
         "z": [
          31,
          39,
          null
         ]
        },
        {
         "hoverinfo": "none",
         "line": {
          "color": "blue",
          "width": 4
         },
         "mode": "lines",
         "showlegend": false,
         "type": "scatter3d",
         "x": [
          30,
          -61,
          null
         ],
         "y": [
          66,
          -30,
          null
         ],
         "z": [
          -3,
          39,
          null
         ]
        },
        {
         "hoverinfo": "none",
         "line": {
          "color": "blue",
          "width": 4
         },
         "mode": "lines",
         "showlegend": false,
         "type": "scatter3d",
         "x": [
          2,
          7,
          null
         ],
         "y": [
          -27,
          4,
          null
         ],
         "z": [
          75,
          75,
          null
         ]
        },
        {
         "hoverinfo": "none",
         "line": {
          "color": "red",
          "width": 4
         },
         "mode": "lines",
         "showlegend": false,
         "type": "scatter3d",
         "x": [
          2,
          7,
          null
         ],
         "y": [
          -93,
          4,
          null
         ],
         "z": [
          -15,
          75,
          null
         ]
        },
        {
         "hoverinfo": "none",
         "line": {
          "color": "blue",
          "width": 4
         },
         "mode": "lines",
         "showlegend": false,
         "type": "scatter3d",
         "x": [
          2,
          7,
          null
         ],
         "y": [
          -70,
          4,
          null
         ],
         "z": [
          10,
          75,
          null
         ]
        },
        {
         "hoverinfo": "none",
         "line": {
          "color": "red",
          "width": 4
         },
         "mode": "lines",
         "showlegend": false,
         "type": "scatter3d",
         "x": [
          15,
          7,
          null
         ],
         "y": [
          -52,
          4,
          null
         ],
         "z": [
          -6,
          75,
          null
         ]
        },
        {
         "hoverinfo": "none",
         "line": {
          "color": "blue",
          "width": 4
         },
         "mode": "lines",
         "showlegend": false,
         "type": "scatter3d",
         "x": [
          30,
          7,
          null
         ],
         "y": [
          -90,
          4,
          null
         ],
         "z": [
          -18,
          75,
          null
         ]
        },
        {
         "hoverinfo": "none",
         "line": {
          "color": "blue",
          "width": 4
         },
         "mode": "lines",
         "showlegend": false,
         "type": "scatter3d",
         "x": [
          48,
          7,
          null
         ],
         "y": [
          -70,
          4,
          null
         ],
         "z": [
          -18,
          75,
          null
         ]
        },
        {
         "hoverinfo": "none",
         "line": {
          "color": "blue",
          "width": 4
         },
         "mode": "lines",
         "showlegend": false,
         "type": "scatter3d",
         "x": [
          10,
          7,
          null
         ],
         "y": [
          -90,
          4,
          null
         ],
         "z": [
          39,
          75,
          null
         ]
        },
        {
         "hoverinfo": "none",
         "line": {
          "color": "red",
          "width": 4
         },
         "mode": "lines",
         "showlegend": false,
         "type": "scatter3d",
         "x": [
          4,
          7,
          null
         ],
         "y": [
          -78,
          4,
          null
         ],
         "z": [
          51,
          75,
          null
         ]
        },
        {
         "hoverinfo": "none",
         "line": {
          "color": "red",
          "width": 4
         },
         "mode": "lines",
         "showlegend": false,
         "type": "scatter3d",
         "x": [
          2,
          7,
          null
         ],
         "y": [
          -52,
          4,
          null
         ],
         "z": [
          16,
          75,
          null
         ]
        },
        {
         "hoverinfo": "none",
         "line": {
          "color": "red",
          "width": 4
         },
         "mode": "lines",
         "showlegend": false,
         "type": "scatter3d",
         "x": [
          2,
          7,
          null
         ],
         "y": [
          56,
          4,
          null
         ],
         "z": [
          1,
          75,
          null
         ]
        },
        {
         "hoverinfo": "none",
         "line": {
          "color": "blue",
          "width": 4
         },
         "mode": "lines",
         "showlegend": false,
         "type": "scatter3d",
         "x": [
          -27,
          7,
          null
         ],
         "y": [
          31,
          4,
          null
         ],
         "z": [
          45,
          75,
          null
         ]
        },
        {
         "hoverinfo": "none",
         "line": {
          "color": "blue",
          "width": 4
         },
         "mode": "lines",
         "showlegend": false,
         "type": "scatter3d",
         "x": [
          -48,
          7,
          null
         ],
         "y": [
          -63,
          4,
          null
         ],
         "z": [
          45,
          75,
          null
         ]
        },
        {
         "hoverinfo": "none",
         "line": {
          "color": "blue",
          "width": 4
         },
         "mode": "lines",
         "showlegend": false,
         "type": "scatter3d",
         "x": [
          45,
          7,
          null
         ],
         "y": [
          -63,
          4,
          null
         ],
         "z": [
          54,
          75,
          null
         ]
        },
        {
         "hoverinfo": "none",
         "line": {
          "color": "blue",
          "width": 4
         },
         "mode": "lines",
         "showlegend": false,
         "type": "scatter3d",
         "x": [
          -22,
          7,
          null
         ],
         "y": [
          -68,
          4,
          null
         ],
         "z": [
          55,
          75,
          null
         ]
        },
        {
         "hoverinfo": "none",
         "line": {
          "color": "blue",
          "width": 4
         },
         "mode": "lines",
         "showlegend": false,
         "type": "scatter3d",
         "x": [
          2,
          7,
          null
         ],
         "y": [
          -60,
          4,
          null
         ],
         "z": [
          66,
          75,
          null
         ]
        },
        {
         "hoverinfo": "none",
         "line": {
          "color": "red",
          "width": 4
         },
         "mode": "lines",
         "showlegend": false,
         "type": "scatter3d",
         "x": [
          66,
          7,
          null
         ],
         "y": [
          -51,
          4,
          null
         ],
         "z": [
          15,
          75,
          null
         ]
        },
        {
         "hoverinfo": "none",
         "line": {
          "color": "blue",
          "width": 4
         },
         "mode": "lines",
         "showlegend": false,
         "type": "scatter3d",
         "x": [
          -53,
          7,
          null
         ],
         "y": [
          15,
          4,
          null
         ],
         "z": [
          -9,
          75,
          null
         ]
        },
        {
         "hoverinfo": "none",
         "line": {
          "color": "blue",
          "width": 4
         },
         "mode": "lines",
         "showlegend": false,
         "type": "scatter3d",
         "x": [
          55,
          7,
          null
         ],
         "y": [
          22,
          4,
          null
         ],
         "z": [
          -10,
          75,
          null
         ]
        },
        {
         "hoverinfo": "none",
         "line": {
          "color": "red",
          "width": 4
         },
         "mode": "lines",
         "showlegend": false,
         "type": "scatter3d",
         "x": [
          -63,
          7,
          null
         ],
         "y": [
          21,
          4,
          null
         ],
         "z": [
          4,
          75,
          null
         ]
        },
        {
         "hoverinfo": "none",
         "line": {
          "color": "blue",
          "width": 4
         },
         "mode": "lines",
         "showlegend": false,
         "type": "scatter3d",
         "x": [
          -55,
          7,
          null
         ],
         "y": [
          20,
          4,
          null
         ],
         "z": [
          31,
          75,
          null
         ]
        },
        {
         "hoverinfo": "none",
         "line": {
          "color": "blue",
          "width": 4
         },
         "mode": "lines",
         "showlegend": false,
         "type": "scatter3d",
         "x": [
          30,
          7,
          null
         ],
         "y": [
          66,
          4,
          null
         ],
         "z": [
          -3,
          75,
          null
         ]
        },
        {
         "hoverinfo": "none",
         "line": {
          "color": "red",
          "width": 4
         },
         "mode": "lines",
         "showlegend": false,
         "type": "scatter3d",
         "x": [
          2,
          2,
          null
         ],
         "y": [
          -93,
          -27,
          null
         ],
         "z": [
          -15,
          75,
          null
         ]
        },
        {
         "hoverinfo": "none",
         "line": {
          "color": "blue",
          "width": 4
         },
         "mode": "lines",
         "showlegend": false,
         "type": "scatter3d",
         "x": [
          2,
          2,
          null
         ],
         "y": [
          -70,
          -27,
          null
         ],
         "z": [
          10,
          75,
          null
         ]
        },
        {
         "hoverinfo": "none",
         "line": {
          "color": "blue",
          "width": 4
         },
         "mode": "lines",
         "showlegend": false,
         "type": "scatter3d",
         "x": [
          15,
          2,
          null
         ],
         "y": [
          -52,
          -27,
          null
         ],
         "z": [
          -6,
          75,
          null
         ]
        },
        {
         "hoverinfo": "none",
         "line": {
          "color": "blue",
          "width": 4
         },
         "mode": "lines",
         "showlegend": false,
         "type": "scatter3d",
         "x": [
          30,
          2,
          null
         ],
         "y": [
          -90,
          -27,
          null
         ],
         "z": [
          -18,
          75,
          null
         ]
        },
        {
         "hoverinfo": "none",
         "line": {
          "color": "red",
          "width": 4
         },
         "mode": "lines",
         "showlegend": false,
         "type": "scatter3d",
         "x": [
          48,
          2,
          null
         ],
         "y": [
          -70,
          -27,
          null
         ],
         "z": [
          -18,
          75,
          null
         ]
        },
        {
         "hoverinfo": "none",
         "line": {
          "color": "red",
          "width": 4
         },
         "mode": "lines",
         "showlegend": false,
         "type": "scatter3d",
         "x": [
          10,
          2,
          null
         ],
         "y": [
          -90,
          -27,
          null
         ],
         "z": [
          39,
          75,
          null
         ]
        },
        {
         "hoverinfo": "none",
         "line": {
          "color": "blue",
          "width": 4
         },
         "mode": "lines",
         "showlegend": false,
         "type": "scatter3d",
         "x": [
          4,
          2,
          null
         ],
         "y": [
          -78,
          -27,
          null
         ],
         "z": [
          51,
          75,
          null
         ]
        },
        {
         "hoverinfo": "none",
         "line": {
          "color": "blue",
          "width": 4
         },
         "mode": "lines",
         "showlegend": false,
         "type": "scatter3d",
         "x": [
          2,
          2,
          null
         ],
         "y": [
          -52,
          -27,
          null
         ],
         "z": [
          16,
          75,
          null
         ]
        },
        {
         "hoverinfo": "none",
         "line": {
          "color": "blue",
          "width": 4
         },
         "mode": "lines",
         "showlegend": false,
         "type": "scatter3d",
         "x": [
          2,
          2,
          null
         ],
         "y": [
          56,
          -27,
          null
         ],
         "z": [
          1,
          75,
          null
         ]
        },
        {
         "hoverinfo": "none",
         "line": {
          "color": "blue",
          "width": 4
         },
         "mode": "lines",
         "showlegend": false,
         "type": "scatter3d",
         "x": [
          -27,
          2,
          null
         ],
         "y": [
          31,
          -27,
          null
         ],
         "z": [
          45,
          75,
          null
         ]
        },
        {
         "hoverinfo": "none",
         "line": {
          "color": "red",
          "width": 4
         },
         "mode": "lines",
         "showlegend": false,
         "type": "scatter3d",
         "x": [
          -48,
          2,
          null
         ],
         "y": [
          -63,
          -27,
          null
         ],
         "z": [
          45,
          75,
          null
         ]
        },
        {
         "hoverinfo": "none",
         "line": {
          "color": "blue",
          "width": 4
         },
         "mode": "lines",
         "showlegend": false,
         "type": "scatter3d",
         "x": [
          45,
          2,
          null
         ],
         "y": [
          -63,
          -27,
          null
         ],
         "z": [
          54,
          75,
          null
         ]
        },
        {
         "hoverinfo": "none",
         "line": {
          "color": "red",
          "width": 4
         },
         "mode": "lines",
         "showlegend": false,
         "type": "scatter3d",
         "x": [
          -22,
          2,
          null
         ],
         "y": [
          -68,
          -27,
          null
         ],
         "z": [
          55,
          75,
          null
         ]
        },
        {
         "hoverinfo": "none",
         "line": {
          "color": "blue",
          "width": 4
         },
         "mode": "lines",
         "showlegend": false,
         "type": "scatter3d",
         "x": [
          2,
          2,
          null
         ],
         "y": [
          -60,
          -27,
          null
         ],
         "z": [
          66,
          75,
          null
         ]
        },
        {
         "hoverinfo": "none",
         "line": {
          "color": "red",
          "width": 4
         },
         "mode": "lines",
         "showlegend": false,
         "type": "scatter3d",
         "x": [
          66,
          2,
          null
         ],
         "y": [
          -51,
          -27,
          null
         ],
         "z": [
          15,
          75,
          null
         ]
        },
        {
         "hoverinfo": "none",
         "line": {
          "color": "red",
          "width": 4
         },
         "mode": "lines",
         "showlegend": false,
         "type": "scatter3d",
         "x": [
          -53,
          2,
          null
         ],
         "y": [
          15,
          -27,
          null
         ],
         "z": [
          -9,
          75,
          null
         ]
        },
        {
         "hoverinfo": "none",
         "line": {
          "color": "blue",
          "width": 4
         },
         "mode": "lines",
         "showlegend": false,
         "type": "scatter3d",
         "x": [
          55,
          2,
          null
         ],
         "y": [
          22,
          -27,
          null
         ],
         "z": [
          -10,
          75,
          null
         ]
        },
        {
         "hoverinfo": "none",
         "line": {
          "color": "red",
          "width": 4
         },
         "mode": "lines",
         "showlegend": false,
         "type": "scatter3d",
         "x": [
          -63,
          2,
          null
         ],
         "y": [
          21,
          -27,
          null
         ],
         "z": [
          4,
          75,
          null
         ]
        },
        {
         "hoverinfo": "none",
         "line": {
          "color": "blue",
          "width": 4
         },
         "mode": "lines",
         "showlegend": false,
         "type": "scatter3d",
         "x": [
          -55,
          2,
          null
         ],
         "y": [
          20,
          -27,
          null
         ],
         "z": [
          31,
          75,
          null
         ]
        },
        {
         "hoverinfo": "none",
         "line": {
          "color": "blue",
          "width": 4
         },
         "mode": "lines",
         "showlegend": false,
         "type": "scatter3d",
         "x": [
          30,
          2,
          null
         ],
         "y": [
          66,
          -27,
          null
         ],
         "z": [
          -3,
          75,
          null
         ]
        },
        {
         "hoverinfo": "none",
         "line": {
          "color": "blue",
          "width": 4
         },
         "mode": "lines",
         "showlegend": false,
         "type": "scatter3d",
         "x": [
          2,
          2,
          null
         ],
         "y": [
          -70,
          -93,
          null
         ],
         "z": [
          10,
          -15,
          null
         ]
        },
        {
         "hoverinfo": "none",
         "line": {
          "color": "blue",
          "width": 4
         },
         "mode": "lines",
         "showlegend": false,
         "type": "scatter3d",
         "x": [
          15,
          2,
          null
         ],
         "y": [
          -52,
          -93,
          null
         ],
         "z": [
          -6,
          -15,
          null
         ]
        },
        {
         "hoverinfo": "none",
         "line": {
          "color": "blue",
          "width": 4
         },
         "mode": "lines",
         "showlegend": false,
         "type": "scatter3d",
         "x": [
          30,
          2,
          null
         ],
         "y": [
          -90,
          -93,
          null
         ],
         "z": [
          -18,
          -15,
          null
         ]
        },
        {
         "hoverinfo": "none",
         "line": {
          "color": "blue",
          "width": 4
         },
         "mode": "lines",
         "showlegend": false,
         "type": "scatter3d",
         "x": [
          48,
          2,
          null
         ],
         "y": [
          -70,
          -93,
          null
         ],
         "z": [
          -18,
          -15,
          null
         ]
        },
        {
         "hoverinfo": "none",
         "line": {
          "color": "blue",
          "width": 4
         },
         "mode": "lines",
         "showlegend": false,
         "type": "scatter3d",
         "x": [
          10,
          2,
          null
         ],
         "y": [
          -90,
          -93,
          null
         ],
         "z": [
          39,
          -15,
          null
         ]
        },
        {
         "hoverinfo": "none",
         "line": {
          "color": "red",
          "width": 4
         },
         "mode": "lines",
         "showlegend": false,
         "type": "scatter3d",
         "x": [
          4,
          2,
          null
         ],
         "y": [
          -78,
          -93,
          null
         ],
         "z": [
          51,
          -15,
          null
         ]
        },
        {
         "hoverinfo": "none",
         "line": {
          "color": "red",
          "width": 4
         },
         "mode": "lines",
         "showlegend": false,
         "type": "scatter3d",
         "x": [
          2,
          2,
          null
         ],
         "y": [
          -52,
          -93,
          null
         ],
         "z": [
          16,
          -15,
          null
         ]
        },
        {
         "hoverinfo": "none",
         "line": {
          "color": "blue",
          "width": 4
         },
         "mode": "lines",
         "showlegend": false,
         "type": "scatter3d",
         "x": [
          2,
          2,
          null
         ],
         "y": [
          56,
          -93,
          null
         ],
         "z": [
          1,
          -15,
          null
         ]
        },
        {
         "hoverinfo": "none",
         "line": {
          "color": "red",
          "width": 4
         },
         "mode": "lines",
         "showlegend": false,
         "type": "scatter3d",
         "x": [
          -27,
          2,
          null
         ],
         "y": [
          31,
          -93,
          null
         ],
         "z": [
          45,
          -15,
          null
         ]
        },
        {
         "hoverinfo": "none",
         "line": {
          "color": "red",
          "width": 4
         },
         "mode": "lines",
         "showlegend": false,
         "type": "scatter3d",
         "x": [
          -48,
          2,
          null
         ],
         "y": [
          -63,
          -93,
          null
         ],
         "z": [
          45,
          -15,
          null
         ]
        },
        {
         "hoverinfo": "none",
         "line": {
          "color": "red",
          "width": 4
         },
         "mode": "lines",
         "showlegend": false,
         "type": "scatter3d",
         "x": [
          45,
          2,
          null
         ],
         "y": [
          -63,
          -93,
          null
         ],
         "z": [
          54,
          -15,
          null
         ]
        },
        {
         "hoverinfo": "none",
         "line": {
          "color": "blue",
          "width": 4
         },
         "mode": "lines",
         "showlegend": false,
         "type": "scatter3d",
         "x": [
          -22,
          2,
          null
         ],
         "y": [
          -68,
          -93,
          null
         ],
         "z": [
          55,
          -15,
          null
         ]
        },
        {
         "hoverinfo": "none",
         "line": {
          "color": "blue",
          "width": 4
         },
         "mode": "lines",
         "showlegend": false,
         "type": "scatter3d",
         "x": [
          2,
          2,
          null
         ],
         "y": [
          -60,
          -93,
          null
         ],
         "z": [
          66,
          -15,
          null
         ]
        },
        {
         "hoverinfo": "none",
         "line": {
          "color": "blue",
          "width": 4
         },
         "mode": "lines",
         "showlegend": false,
         "type": "scatter3d",
         "x": [
          66,
          2,
          null
         ],
         "y": [
          -51,
          -93,
          null
         ],
         "z": [
          15,
          -15,
          null
         ]
        },
        {
         "hoverinfo": "none",
         "line": {
          "color": "blue",
          "width": 4
         },
         "mode": "lines",
         "showlegend": false,
         "type": "scatter3d",
         "x": [
          -53,
          2,
          null
         ],
         "y": [
          15,
          -93,
          null
         ],
         "z": [
          -9,
          -15,
          null
         ]
        },
        {
         "hoverinfo": "none",
         "line": {
          "color": "blue",
          "width": 4
         },
         "mode": "lines",
         "showlegend": false,
         "type": "scatter3d",
         "x": [
          55,
          2,
          null
         ],
         "y": [
          22,
          -93,
          null
         ],
         "z": [
          -10,
          -15,
          null
         ]
        },
        {
         "hoverinfo": "none",
         "line": {
          "color": "blue",
          "width": 4
         },
         "mode": "lines",
         "showlegend": false,
         "type": "scatter3d",
         "x": [
          -63,
          2,
          null
         ],
         "y": [
          21,
          -93,
          null
         ],
         "z": [
          4,
          -15,
          null
         ]
        },
        {
         "hoverinfo": "none",
         "line": {
          "color": "red",
          "width": 4
         },
         "mode": "lines",
         "showlegend": false,
         "type": "scatter3d",
         "x": [
          -55,
          2,
          null
         ],
         "y": [
          20,
          -93,
          null
         ],
         "z": [
          31,
          -15,
          null
         ]
        },
        {
         "hoverinfo": "none",
         "line": {
          "color": "red",
          "width": 4
         },
         "mode": "lines",
         "showlegend": false,
         "type": "scatter3d",
         "x": [
          30,
          2,
          null
         ],
         "y": [
          66,
          -93,
          null
         ],
         "z": [
          -3,
          -15,
          null
         ]
        },
        {
         "hoverinfo": "none",
         "line": {
          "color": "blue",
          "width": 4
         },
         "mode": "lines",
         "showlegend": false,
         "type": "scatter3d",
         "x": [
          15,
          2,
          null
         ],
         "y": [
          -52,
          -70,
          null
         ],
         "z": [
          -6,
          10,
          null
         ]
        },
        {
         "hoverinfo": "none",
         "line": {
          "color": "blue",
          "width": 4
         },
         "mode": "lines",
         "showlegend": false,
         "type": "scatter3d",
         "x": [
          30,
          2,
          null
         ],
         "y": [
          -90,
          -70,
          null
         ],
         "z": [
          -18,
          10,
          null
         ]
        },
        {
         "hoverinfo": "none",
         "line": {
          "color": "blue",
          "width": 4
         },
         "mode": "lines",
         "showlegend": false,
         "type": "scatter3d",
         "x": [
          48,
          2,
          null
         ],
         "y": [
          -70,
          -70,
          null
         ],
         "z": [
          -18,
          10,
          null
         ]
        },
        {
         "hoverinfo": "none",
         "line": {
          "color": "blue",
          "width": 4
         },
         "mode": "lines",
         "showlegend": false,
         "type": "scatter3d",
         "x": [
          10,
          2,
          null
         ],
         "y": [
          -90,
          -70,
          null
         ],
         "z": [
          39,
          10,
          null
         ]
        },
        {
         "hoverinfo": "none",
         "line": {
          "color": "red",
          "width": 4
         },
         "mode": "lines",
         "showlegend": false,
         "type": "scatter3d",
         "x": [
          4,
          2,
          null
         ],
         "y": [
          -78,
          -70,
          null
         ],
         "z": [
          51,
          10,
          null
         ]
        },
        {
         "hoverinfo": "none",
         "line": {
          "color": "blue",
          "width": 4
         },
         "mode": "lines",
         "showlegend": false,
         "type": "scatter3d",
         "x": [
          2,
          2,
          null
         ],
         "y": [
          -52,
          -70,
          null
         ],
         "z": [
          16,
          10,
          null
         ]
        },
        {
         "hoverinfo": "none",
         "line": {
          "color": "blue",
          "width": 4
         },
         "mode": "lines",
         "showlegend": false,
         "type": "scatter3d",
         "x": [
          2,
          2,
          null
         ],
         "y": [
          56,
          -70,
          null
         ],
         "z": [
          1,
          10,
          null
         ]
        },
        {
         "hoverinfo": "none",
         "line": {
          "color": "red",
          "width": 4
         },
         "mode": "lines",
         "showlegend": false,
         "type": "scatter3d",
         "x": [
          -27,
          2,
          null
         ],
         "y": [
          31,
          -70,
          null
         ],
         "z": [
          45,
          10,
          null
         ]
        },
        {
         "hoverinfo": "none",
         "line": {
          "color": "blue",
          "width": 4
         },
         "mode": "lines",
         "showlegend": false,
         "type": "scatter3d",
         "x": [
          -48,
          2,
          null
         ],
         "y": [
          -63,
          -70,
          null
         ],
         "z": [
          45,
          10,
          null
         ]
        },
        {
         "hoverinfo": "none",
         "line": {
          "color": "red",
          "width": 4
         },
         "mode": "lines",
         "showlegend": false,
         "type": "scatter3d",
         "x": [
          45,
          2,
          null
         ],
         "y": [
          -63,
          -70,
          null
         ],
         "z": [
          54,
          10,
          null
         ]
        },
        {
         "hoverinfo": "none",
         "line": {
          "color": "blue",
          "width": 4
         },
         "mode": "lines",
         "showlegend": false,
         "type": "scatter3d",
         "x": [
          -22,
          2,
          null
         ],
         "y": [
          -68,
          -70,
          null
         ],
         "z": [
          55,
          10,
          null
         ]
        },
        {
         "hoverinfo": "none",
         "line": {
          "color": "blue",
          "width": 4
         },
         "mode": "lines",
         "showlegend": false,
         "type": "scatter3d",
         "x": [
          2,
          2,
          null
         ],
         "y": [
          -60,
          -70,
          null
         ],
         "z": [
          66,
          10,
          null
         ]
        },
        {
         "hoverinfo": "none",
         "line": {
          "color": "blue",
          "width": 4
         },
         "mode": "lines",
         "showlegend": false,
         "type": "scatter3d",
         "x": [
          66,
          2,
          null
         ],
         "y": [
          -51,
          -70,
          null
         ],
         "z": [
          15,
          10,
          null
         ]
        },
        {
         "hoverinfo": "none",
         "line": {
          "color": "blue",
          "width": 4
         },
         "mode": "lines",
         "showlegend": false,
         "type": "scatter3d",
         "x": [
          -53,
          2,
          null
         ],
         "y": [
          15,
          -70,
          null
         ],
         "z": [
          -9,
          10,
          null
         ]
        },
        {
         "hoverinfo": "none",
         "line": {
          "color": "blue",
          "width": 4
         },
         "mode": "lines",
         "showlegend": false,
         "type": "scatter3d",
         "x": [
          55,
          2,
          null
         ],
         "y": [
          22,
          -70,
          null
         ],
         "z": [
          -10,
          10,
          null
         ]
        },
        {
         "hoverinfo": "none",
         "line": {
          "color": "blue",
          "width": 4
         },
         "mode": "lines",
         "showlegend": false,
         "type": "scatter3d",
         "x": [
          -63,
          2,
          null
         ],
         "y": [
          21,
          -70,
          null
         ],
         "z": [
          4,
          10,
          null
         ]
        },
        {
         "hoverinfo": "none",
         "line": {
          "color": "blue",
          "width": 4
         },
         "mode": "lines",
         "showlegend": false,
         "type": "scatter3d",
         "x": [
          -55,
          2,
          null
         ],
         "y": [
          20,
          -70,
          null
         ],
         "z": [
          31,
          10,
          null
         ]
        },
        {
         "hoverinfo": "none",
         "line": {
          "color": "red",
          "width": 4
         },
         "mode": "lines",
         "showlegend": false,
         "type": "scatter3d",
         "x": [
          30,
          2,
          null
         ],
         "y": [
          66,
          -70,
          null
         ],
         "z": [
          -3,
          10,
          null
         ]
        },
        {
         "hoverinfo": "none",
         "line": {
          "color": "blue",
          "width": 4
         },
         "mode": "lines",
         "showlegend": false,
         "type": "scatter3d",
         "x": [
          30,
          15,
          null
         ],
         "y": [
          -90,
          -52,
          null
         ],
         "z": [
          -18,
          -6,
          null
         ]
        },
        {
         "hoverinfo": "none",
         "line": {
          "color": "blue",
          "width": 4
         },
         "mode": "lines",
         "showlegend": false,
         "type": "scatter3d",
         "x": [
          48,
          15,
          null
         ],
         "y": [
          -70,
          -52,
          null
         ],
         "z": [
          -18,
          -6,
          null
         ]
        },
        {
         "hoverinfo": "none",
         "line": {
          "color": "blue",
          "width": 4
         },
         "mode": "lines",
         "showlegend": false,
         "type": "scatter3d",
         "x": [
          10,
          15,
          null
         ],
         "y": [
          -90,
          -52,
          null
         ],
         "z": [
          39,
          -6,
          null
         ]
        },
        {
         "hoverinfo": "none",
         "line": {
          "color": "red",
          "width": 4
         },
         "mode": "lines",
         "showlegend": false,
         "type": "scatter3d",
         "x": [
          4,
          15,
          null
         ],
         "y": [
          -78,
          -52,
          null
         ],
         "z": [
          51,
          -6,
          null
         ]
        },
        {
         "hoverinfo": "none",
         "line": {
          "color": "blue",
          "width": 4
         },
         "mode": "lines",
         "showlegend": false,
         "type": "scatter3d",
         "x": [
          2,
          15,
          null
         ],
         "y": [
          -52,
          -52,
          null
         ],
         "z": [
          16,
          -6,
          null
         ]
        },
        {
         "hoverinfo": "none",
         "line": {
          "color": "red",
          "width": 4
         },
         "mode": "lines",
         "showlegend": false,
         "type": "scatter3d",
         "x": [
          2,
          15,
          null
         ],
         "y": [
          56,
          -52,
          null
         ],
         "z": [
          1,
          -6,
          null
         ]
        },
        {
         "hoverinfo": "none",
         "line": {
          "color": "red",
          "width": 4
         },
         "mode": "lines",
         "showlegend": false,
         "type": "scatter3d",
         "x": [
          -27,
          15,
          null
         ],
         "y": [
          31,
          -52,
          null
         ],
         "z": [
          45,
          -6,
          null
         ]
        },
        {
         "hoverinfo": "none",
         "line": {
          "color": "blue",
          "width": 4
         },
         "mode": "lines",
         "showlegend": false,
         "type": "scatter3d",
         "x": [
          -48,
          15,
          null
         ],
         "y": [
          -63,
          -52,
          null
         ],
         "z": [
          45,
          -6,
          null
         ]
        },
        {
         "hoverinfo": "none",
         "line": {
          "color": "red",
          "width": 4
         },
         "mode": "lines",
         "showlegend": false,
         "type": "scatter3d",
         "x": [
          45,
          15,
          null
         ],
         "y": [
          -63,
          -52,
          null
         ],
         "z": [
          54,
          -6,
          null
         ]
        },
        {
         "hoverinfo": "none",
         "line": {
          "color": "blue",
          "width": 4
         },
         "mode": "lines",
         "showlegend": false,
         "type": "scatter3d",
         "x": [
          -22,
          15,
          null
         ],
         "y": [
          -68,
          -52,
          null
         ],
         "z": [
          55,
          -6,
          null
         ]
        },
        {
         "hoverinfo": "none",
         "line": {
          "color": "blue",
          "width": 4
         },
         "mode": "lines",
         "showlegend": false,
         "type": "scatter3d",
         "x": [
          2,
          15,
          null
         ],
         "y": [
          -60,
          -52,
          null
         ],
         "z": [
          66,
          -6,
          null
         ]
        },
        {
         "hoverinfo": "none",
         "line": {
          "color": "blue",
          "width": 4
         },
         "mode": "lines",
         "showlegend": false,
         "type": "scatter3d",
         "x": [
          66,
          15,
          null
         ],
         "y": [
          -51,
          -52,
          null
         ],
         "z": [
          15,
          -6,
          null
         ]
        },
        {
         "hoverinfo": "none",
         "line": {
          "color": "blue",
          "width": 4
         },
         "mode": "lines",
         "showlegend": false,
         "type": "scatter3d",
         "x": [
          -53,
          15,
          null
         ],
         "y": [
          15,
          -52,
          null
         ],
         "z": [
          -9,
          -6,
          null
         ]
        },
        {
         "hoverinfo": "none",
         "line": {
          "color": "blue",
          "width": 4
         },
         "mode": "lines",
         "showlegend": false,
         "type": "scatter3d",
         "x": [
          55,
          15,
          null
         ],
         "y": [
          22,
          -52,
          null
         ],
         "z": [
          -10,
          -6,
          null
         ]
        },
        {
         "hoverinfo": "none",
         "line": {
          "color": "blue",
          "width": 4
         },
         "mode": "lines",
         "showlegend": false,
         "type": "scatter3d",
         "x": [
          -63,
          15,
          null
         ],
         "y": [
          21,
          -52,
          null
         ],
         "z": [
          4,
          -6,
          null
         ]
        },
        {
         "hoverinfo": "none",
         "line": {
          "color": "red",
          "width": 4
         },
         "mode": "lines",
         "showlegend": false,
         "type": "scatter3d",
         "x": [
          -55,
          15,
          null
         ],
         "y": [
          20,
          -52,
          null
         ],
         "z": [
          31,
          -6,
          null
         ]
        },
        {
         "hoverinfo": "none",
         "line": {
          "color": "red",
          "width": 4
         },
         "mode": "lines",
         "showlegend": false,
         "type": "scatter3d",
         "x": [
          30,
          15,
          null
         ],
         "y": [
          66,
          -52,
          null
         ],
         "z": [
          -3,
          -6,
          null
         ]
        },
        {
         "hoverinfo": "none",
         "line": {
          "color": "red",
          "width": 4
         },
         "mode": "lines",
         "showlegend": false,
         "type": "scatter3d",
         "x": [
          48,
          30,
          null
         ],
         "y": [
          -70,
          -90,
          null
         ],
         "z": [
          -18,
          -18,
          null
         ]
        },
        {
         "hoverinfo": "none",
         "line": {
          "color": "blue",
          "width": 4
         },
         "mode": "lines",
         "showlegend": false,
         "type": "scatter3d",
         "x": [
          10,
          30,
          null
         ],
         "y": [
          -90,
          -90,
          null
         ],
         "z": [
          39,
          -18,
          null
         ]
        },
        {
         "hoverinfo": "none",
         "line": {
          "color": "red",
          "width": 4
         },
         "mode": "lines",
         "showlegend": false,
         "type": "scatter3d",
         "x": [
          4,
          30,
          null
         ],
         "y": [
          -78,
          -90,
          null
         ],
         "z": [
          51,
          -18,
          null
         ]
        },
        {
         "hoverinfo": "none",
         "line": {
          "color": "blue",
          "width": 4
         },
         "mode": "lines",
         "showlegend": false,
         "type": "scatter3d",
         "x": [
          2,
          30,
          null
         ],
         "y": [
          -52,
          -90,
          null
         ],
         "z": [
          16,
          -18,
          null
         ]
        },
        {
         "hoverinfo": "none",
         "line": {
          "color": "blue",
          "width": 4
         },
         "mode": "lines",
         "showlegend": false,
         "type": "scatter3d",
         "x": [
          2,
          30,
          null
         ],
         "y": [
          56,
          -90,
          null
         ],
         "z": [
          1,
          -18,
          null
         ]
        },
        {
         "hoverinfo": "none",
         "line": {
          "color": "blue",
          "width": 4
         },
         "mode": "lines",
         "showlegend": false,
         "type": "scatter3d",
         "x": [
          -27,
          30,
          null
         ],
         "y": [
          31,
          -90,
          null
         ],
         "z": [
          45,
          -18,
          null
         ]
        },
        {
         "hoverinfo": "none",
         "line": {
          "color": "red",
          "width": 4
         },
         "mode": "lines",
         "showlegend": false,
         "type": "scatter3d",
         "x": [
          -48,
          30,
          null
         ],
         "y": [
          -63,
          -90,
          null
         ],
         "z": [
          45,
          -18,
          null
         ]
        },
        {
         "hoverinfo": "none",
         "line": {
          "color": "blue",
          "width": 4
         },
         "mode": "lines",
         "showlegend": false,
         "type": "scatter3d",
         "x": [
          45,
          30,
          null
         ],
         "y": [
          -63,
          -90,
          null
         ],
         "z": [
          54,
          -18,
          null
         ]
        },
        {
         "hoverinfo": "none",
         "line": {
          "color": "red",
          "width": 4
         },
         "mode": "lines",
         "showlegend": false,
         "type": "scatter3d",
         "x": [
          -22,
          30,
          null
         ],
         "y": [
          -68,
          -90,
          null
         ],
         "z": [
          55,
          -18,
          null
         ]
        },
        {
         "hoverinfo": "none",
         "line": {
          "color": "red",
          "width": 4
         },
         "mode": "lines",
         "showlegend": false,
         "type": "scatter3d",
         "x": [
          2,
          30,
          null
         ],
         "y": [
          -60,
          -90,
          null
         ],
         "z": [
          66,
          -18,
          null
         ]
        },
        {
         "hoverinfo": "none",
         "line": {
          "color": "red",
          "width": 4
         },
         "mode": "lines",
         "showlegend": false,
         "type": "scatter3d",
         "x": [
          66,
          30,
          null
         ],
         "y": [
          -51,
          -90,
          null
         ],
         "z": [
          15,
          -18,
          null
         ]
        },
        {
         "hoverinfo": "none",
         "line": {
          "color": "red",
          "width": 4
         },
         "mode": "lines",
         "showlegend": false,
         "type": "scatter3d",
         "x": [
          -53,
          30,
          null
         ],
         "y": [
          15,
          -90,
          null
         ],
         "z": [
          -9,
          -18,
          null
         ]
        },
        {
         "hoverinfo": "none",
         "line": {
          "color": "blue",
          "width": 4
         },
         "mode": "lines",
         "showlegend": false,
         "type": "scatter3d",
         "x": [
          55,
          30,
          null
         ],
         "y": [
          22,
          -90,
          null
         ],
         "z": [
          -10,
          -18,
          null
         ]
        },
        {
         "hoverinfo": "none",
         "line": {
          "color": "red",
          "width": 4
         },
         "mode": "lines",
         "showlegend": false,
         "type": "scatter3d",
         "x": [
          -63,
          30,
          null
         ],
         "y": [
          21,
          -90,
          null
         ],
         "z": [
          4,
          -18,
          null
         ]
        },
        {
         "hoverinfo": "none",
         "line": {
          "color": "blue",
          "width": 4
         },
         "mode": "lines",
         "showlegend": false,
         "type": "scatter3d",
         "x": [
          -55,
          30,
          null
         ],
         "y": [
          20,
          -90,
          null
         ],
         "z": [
          31,
          -18,
          null
         ]
        },
        {
         "hoverinfo": "none",
         "line": {
          "color": "blue",
          "width": 4
         },
         "mode": "lines",
         "showlegend": false,
         "type": "scatter3d",
         "x": [
          30,
          30,
          null
         ],
         "y": [
          66,
          -90,
          null
         ],
         "z": [
          -3,
          -18,
          null
         ]
        },
        {
         "hoverinfo": "none",
         "line": {
          "color": "blue",
          "width": 4
         },
         "mode": "lines",
         "showlegend": false,
         "type": "scatter3d",
         "x": [
          10,
          48,
          null
         ],
         "y": [
          -90,
          -70,
          null
         ],
         "z": [
          39,
          -18,
          null
         ]
        },
        {
         "hoverinfo": "none",
         "line": {
          "color": "blue",
          "width": 4
         },
         "mode": "lines",
         "showlegend": false,
         "type": "scatter3d",
         "x": [
          4,
          48,
          null
         ],
         "y": [
          -78,
          -70,
          null
         ],
         "z": [
          51,
          -18,
          null
         ]
        },
        {
         "hoverinfo": "none",
         "line": {
          "color": "red",
          "width": 4
         },
         "mode": "lines",
         "showlegend": false,
         "type": "scatter3d",
         "x": [
          2,
          48,
          null
         ],
         "y": [
          -52,
          -70,
          null
         ],
         "z": [
          16,
          -18,
          null
         ]
        },
        {
         "hoverinfo": "none",
         "line": {
          "color": "red",
          "width": 4
         },
         "mode": "lines",
         "showlegend": false,
         "type": "scatter3d",
         "x": [
          2,
          48,
          null
         ],
         "y": [
          56,
          -70,
          null
         ],
         "z": [
          1,
          -18,
          null
         ]
        },
        {
         "hoverinfo": "none",
         "line": {
          "color": "red",
          "width": 4
         },
         "mode": "lines",
         "showlegend": false,
         "type": "scatter3d",
         "x": [
          -27,
          48,
          null
         ],
         "y": [
          31,
          -70,
          null
         ],
         "z": [
          45,
          -18,
          null
         ]
        },
        {
         "hoverinfo": "none",
         "line": {
          "color": "blue",
          "width": 4
         },
         "mode": "lines",
         "showlegend": false,
         "type": "scatter3d",
         "x": [
          -48,
          48,
          null
         ],
         "y": [
          -63,
          -70,
          null
         ],
         "z": [
          45,
          -18,
          null
         ]
        },
        {
         "hoverinfo": "none",
         "line": {
          "color": "blue",
          "width": 4
         },
         "mode": "lines",
         "showlegend": false,
         "type": "scatter3d",
         "x": [
          45,
          48,
          null
         ],
         "y": [
          -63,
          -70,
          null
         ],
         "z": [
          54,
          -18,
          null
         ]
        },
        {
         "hoverinfo": "none",
         "line": {
          "color": "blue",
          "width": 4
         },
         "mode": "lines",
         "showlegend": false,
         "type": "scatter3d",
         "x": [
          -22,
          48,
          null
         ],
         "y": [
          -68,
          -70,
          null
         ],
         "z": [
          55,
          -18,
          null
         ]
        },
        {
         "hoverinfo": "none",
         "line": {
          "color": "blue",
          "width": 4
         },
         "mode": "lines",
         "showlegend": false,
         "type": "scatter3d",
         "x": [
          2,
          48,
          null
         ],
         "y": [
          -60,
          -70,
          null
         ],
         "z": [
          66,
          -18,
          null
         ]
        },
        {
         "hoverinfo": "none",
         "line": {
          "color": "blue",
          "width": 4
         },
         "mode": "lines",
         "showlegend": false,
         "type": "scatter3d",
         "x": [
          66,
          48,
          null
         ],
         "y": [
          -51,
          -70,
          null
         ],
         "z": [
          15,
          -18,
          null
         ]
        },
        {
         "hoverinfo": "none",
         "line": {
          "color": "blue",
          "width": 4
         },
         "mode": "lines",
         "showlegend": false,
         "type": "scatter3d",
         "x": [
          -53,
          48,
          null
         ],
         "y": [
          15,
          -70,
          null
         ],
         "z": [
          -9,
          -18,
          null
         ]
        },
        {
         "hoverinfo": "none",
         "line": {
          "color": "red",
          "width": 4
         },
         "mode": "lines",
         "showlegend": false,
         "type": "scatter3d",
         "x": [
          55,
          48,
          null
         ],
         "y": [
          22,
          -70,
          null
         ],
         "z": [
          -10,
          -18,
          null
         ]
        },
        {
         "hoverinfo": "none",
         "line": {
          "color": "blue",
          "width": 4
         },
         "mode": "lines",
         "showlegend": false,
         "type": "scatter3d",
         "x": [
          -63,
          48,
          null
         ],
         "y": [
          21,
          -70,
          null
         ],
         "z": [
          4,
          -18,
          null
         ]
        },
        {
         "hoverinfo": "none",
         "line": {
          "color": "red",
          "width": 4
         },
         "mode": "lines",
         "showlegend": false,
         "type": "scatter3d",
         "x": [
          -55,
          48,
          null
         ],
         "y": [
          20,
          -70,
          null
         ],
         "z": [
          31,
          -18,
          null
         ]
        },
        {
         "hoverinfo": "none",
         "line": {
          "color": "red",
          "width": 4
         },
         "mode": "lines",
         "showlegend": false,
         "type": "scatter3d",
         "x": [
          30,
          48,
          null
         ],
         "y": [
          66,
          -70,
          null
         ],
         "z": [
          -3,
          -18,
          null
         ]
        },
        {
         "hoverinfo": "none",
         "line": {
          "color": "blue",
          "width": 4
         },
         "mode": "lines",
         "showlegend": false,
         "type": "scatter3d",
         "x": [
          4,
          10,
          null
         ],
         "y": [
          -78,
          -90,
          null
         ],
         "z": [
          51,
          39,
          null
         ]
        },
        {
         "hoverinfo": "none",
         "line": {
          "color": "blue",
          "width": 4
         },
         "mode": "lines",
         "showlegend": false,
         "type": "scatter3d",
         "x": [
          2,
          10,
          null
         ],
         "y": [
          -52,
          -90,
          null
         ],
         "z": [
          16,
          39,
          null
         ]
        },
        {
         "hoverinfo": "none",
         "line": {
          "color": "red",
          "width": 4
         },
         "mode": "lines",
         "showlegend": false,
         "type": "scatter3d",
         "x": [
          2,
          10,
          null
         ],
         "y": [
          56,
          -90,
          null
         ],
         "z": [
          1,
          39,
          null
         ]
        },
        {
         "hoverinfo": "none",
         "line": {
          "color": "red",
          "width": 4
         },
         "mode": "lines",
         "showlegend": false,
         "type": "scatter3d",
         "x": [
          -27,
          10,
          null
         ],
         "y": [
          31,
          -90,
          null
         ],
         "z": [
          45,
          39,
          null
         ]
        },
        {
         "hoverinfo": "none",
         "line": {
          "color": "blue",
          "width": 4
         },
         "mode": "lines",
         "showlegend": false,
         "type": "scatter3d",
         "x": [
          -48,
          10,
          null
         ],
         "y": [
          -63,
          -90,
          null
         ],
         "z": [
          45,
          39,
          null
         ]
        },
        {
         "hoverinfo": "none",
         "line": {
          "color": "blue",
          "width": 4
         },
         "mode": "lines",
         "showlegend": false,
         "type": "scatter3d",
         "x": [
          45,
          10,
          null
         ],
         "y": [
          -63,
          -90,
          null
         ],
         "z": [
          54,
          39,
          null
         ]
        },
        {
         "hoverinfo": "none",
         "line": {
          "color": "blue",
          "width": 4
         },
         "mode": "lines",
         "showlegend": false,
         "type": "scatter3d",
         "x": [
          -22,
          10,
          null
         ],
         "y": [
          -68,
          -90,
          null
         ],
         "z": [
          55,
          39,
          null
         ]
        },
        {
         "hoverinfo": "none",
         "line": {
          "color": "blue",
          "width": 4
         },
         "mode": "lines",
         "showlegend": false,
         "type": "scatter3d",
         "x": [
          2,
          10,
          null
         ],
         "y": [
          -60,
          -90,
          null
         ],
         "z": [
          66,
          39,
          null
         ]
        },
        {
         "hoverinfo": "none",
         "line": {
          "color": "blue",
          "width": 4
         },
         "mode": "lines",
         "showlegend": false,
         "type": "scatter3d",
         "x": [
          66,
          10,
          null
         ],
         "y": [
          -51,
          -90,
          null
         ],
         "z": [
          15,
          39,
          null
         ]
        },
        {
         "hoverinfo": "none",
         "line": {
          "color": "blue",
          "width": 4
         },
         "mode": "lines",
         "showlegend": false,
         "type": "scatter3d",
         "x": [
          -53,
          10,
          null
         ],
         "y": [
          15,
          -90,
          null
         ],
         "z": [
          -9,
          39,
          null
         ]
        },
        {
         "hoverinfo": "none",
         "line": {
          "color": "red",
          "width": 4
         },
         "mode": "lines",
         "showlegend": false,
         "type": "scatter3d",
         "x": [
          55,
          10,
          null
         ],
         "y": [
          22,
          -90,
          null
         ],
         "z": [
          -10,
          39,
          null
         ]
        },
        {
         "hoverinfo": "none",
         "line": {
          "color": "blue",
          "width": 4
         },
         "mode": "lines",
         "showlegend": false,
         "type": "scatter3d",
         "x": [
          -63,
          10,
          null
         ],
         "y": [
          21,
          -90,
          null
         ],
         "z": [
          4,
          39,
          null
         ]
        },
        {
         "hoverinfo": "none",
         "line": {
          "color": "red",
          "width": 4
         },
         "mode": "lines",
         "showlegend": false,
         "type": "scatter3d",
         "x": [
          -55,
          10,
          null
         ],
         "y": [
          20,
          -90,
          null
         ],
         "z": [
          31,
          39,
          null
         ]
        },
        {
         "hoverinfo": "none",
         "line": {
          "color": "red",
          "width": 4
         },
         "mode": "lines",
         "showlegend": false,
         "type": "scatter3d",
         "x": [
          30,
          10,
          null
         ],
         "y": [
          66,
          -90,
          null
         ],
         "z": [
          -3,
          39,
          null
         ]
        },
        {
         "hoverinfo": "none",
         "line": {
          "color": "blue",
          "width": 4
         },
         "mode": "lines",
         "showlegend": false,
         "type": "scatter3d",
         "x": [
          2,
          4,
          null
         ],
         "y": [
          -52,
          -78,
          null
         ],
         "z": [
          16,
          51,
          null
         ]
        },
        {
         "hoverinfo": "none",
         "line": {
          "color": "blue",
          "width": 4
         },
         "mode": "lines",
         "showlegend": false,
         "type": "scatter3d",
         "x": [
          2,
          4,
          null
         ],
         "y": [
          56,
          -78,
          null
         ],
         "z": [
          1,
          51,
          null
         ]
        },
        {
         "hoverinfo": "none",
         "line": {
          "color": "red",
          "width": 4
         },
         "mode": "lines",
         "showlegend": false,
         "type": "scatter3d",
         "x": [
          -27,
          4,
          null
         ],
         "y": [
          31,
          -78,
          null
         ],
         "z": [
          45,
          51,
          null
         ]
        },
        {
         "hoverinfo": "none",
         "line": {
          "color": "red",
          "width": 4
         },
         "mode": "lines",
         "showlegend": false,
         "type": "scatter3d",
         "x": [
          -48,
          4,
          null
         ],
         "y": [
          -63,
          -78,
          null
         ],
         "z": [
          45,
          51,
          null
         ]
        },
        {
         "hoverinfo": "none",
         "line": {
          "color": "blue",
          "width": 4
         },
         "mode": "lines",
         "showlegend": false,
         "type": "scatter3d",
         "x": [
          45,
          4,
          null
         ],
         "y": [
          -63,
          -78,
          null
         ],
         "z": [
          54,
          51,
          null
         ]
        },
        {
         "hoverinfo": "none",
         "line": {
          "color": "blue",
          "width": 4
         },
         "mode": "lines",
         "showlegend": false,
         "type": "scatter3d",
         "x": [
          -22,
          4,
          null
         ],
         "y": [
          -68,
          -78,
          null
         ],
         "z": [
          55,
          51,
          null
         ]
        },
        {
         "hoverinfo": "none",
         "line": {
          "color": "blue",
          "width": 4
         },
         "mode": "lines",
         "showlegend": false,
         "type": "scatter3d",
         "x": [
          2,
          4,
          null
         ],
         "y": [
          -60,
          -78,
          null
         ],
         "z": [
          66,
          51,
          null
         ]
        },
        {
         "hoverinfo": "none",
         "line": {
          "color": "red",
          "width": 4
         },
         "mode": "lines",
         "showlegend": false,
         "type": "scatter3d",
         "x": [
          66,
          4,
          null
         ],
         "y": [
          -51,
          -78,
          null
         ],
         "z": [
          15,
          51,
          null
         ]
        },
        {
         "hoverinfo": "none",
         "line": {
          "color": "blue",
          "width": 4
         },
         "mode": "lines",
         "showlegend": false,
         "type": "scatter3d",
         "x": [
          -53,
          4,
          null
         ],
         "y": [
          15,
          -78,
          null
         ],
         "z": [
          -9,
          51,
          null
         ]
        },
        {
         "hoverinfo": "none",
         "line": {
          "color": "red",
          "width": 4
         },
         "mode": "lines",
         "showlegend": false,
         "type": "scatter3d",
         "x": [
          55,
          4,
          null
         ],
         "y": [
          22,
          -78,
          null
         ],
         "z": [
          -10,
          51,
          null
         ]
        },
        {
         "hoverinfo": "none",
         "line": {
          "color": "red",
          "width": 4
         },
         "mode": "lines",
         "showlegend": false,
         "type": "scatter3d",
         "x": [
          -63,
          4,
          null
         ],
         "y": [
          21,
          -78,
          null
         ],
         "z": [
          4,
          51,
          null
         ]
        },
        {
         "hoverinfo": "none",
         "line": {
          "color": "red",
          "width": 4
         },
         "mode": "lines",
         "showlegend": false,
         "type": "scatter3d",
         "x": [
          -55,
          4,
          null
         ],
         "y": [
          20,
          -78,
          null
         ],
         "z": [
          31,
          51,
          null
         ]
        },
        {
         "hoverinfo": "none",
         "line": {
          "color": "blue",
          "width": 4
         },
         "mode": "lines",
         "showlegend": false,
         "type": "scatter3d",
         "x": [
          30,
          4,
          null
         ],
         "y": [
          66,
          -78,
          null
         ],
         "z": [
          -3,
          51,
          null
         ]
        },
        {
         "hoverinfo": "none",
         "line": {
          "color": "blue",
          "width": 4
         },
         "mode": "lines",
         "showlegend": false,
         "type": "scatter3d",
         "x": [
          2,
          2,
          null
         ],
         "y": [
          56,
          -52,
          null
         ],
         "z": [
          1,
          16,
          null
         ]
        },
        {
         "hoverinfo": "none",
         "line": {
          "color": "blue",
          "width": 4
         },
         "mode": "lines",
         "showlegend": false,
         "type": "scatter3d",
         "x": [
          -27,
          2,
          null
         ],
         "y": [
          31,
          -52,
          null
         ],
         "z": [
          45,
          16,
          null
         ]
        },
        {
         "hoverinfo": "none",
         "line": {
          "color": "blue",
          "width": 4
         },
         "mode": "lines",
         "showlegend": false,
         "type": "scatter3d",
         "x": [
          -48,
          2,
          null
         ],
         "y": [
          -63,
          -52,
          null
         ],
         "z": [
          45,
          16,
          null
         ]
        },
        {
         "hoverinfo": "none",
         "line": {
          "color": "blue",
          "width": 4
         },
         "mode": "lines",
         "showlegend": false,
         "type": "scatter3d",
         "x": [
          45,
          2,
          null
         ],
         "y": [
          -63,
          -52,
          null
         ],
         "z": [
          54,
          16,
          null
         ]
        },
        {
         "hoverinfo": "none",
         "line": {
          "color": "red",
          "width": 4
         },
         "mode": "lines",
         "showlegend": false,
         "type": "scatter3d",
         "x": [
          -22,
          2,
          null
         ],
         "y": [
          -68,
          -52,
          null
         ],
         "z": [
          55,
          16,
          null
         ]
        },
        {
         "hoverinfo": "none",
         "line": {
          "color": "blue",
          "width": 4
         },
         "mode": "lines",
         "showlegend": false,
         "type": "scatter3d",
         "x": [
          2,
          2,
          null
         ],
         "y": [
          -60,
          -52,
          null
         ],
         "z": [
          66,
          16,
          null
         ]
        },
        {
         "hoverinfo": "none",
         "line": {
          "color": "red",
          "width": 4
         },
         "mode": "lines",
         "showlegend": false,
         "type": "scatter3d",
         "x": [
          66,
          2,
          null
         ],
         "y": [
          -51,
          -52,
          null
         ],
         "z": [
          15,
          16,
          null
         ]
        },
        {
         "hoverinfo": "none",
         "line": {
          "color": "red",
          "width": 4
         },
         "mode": "lines",
         "showlegend": false,
         "type": "scatter3d",
         "x": [
          -53,
          2,
          null
         ],
         "y": [
          15,
          -52,
          null
         ],
         "z": [
          -9,
          16,
          null
         ]
        },
        {
         "hoverinfo": "none",
         "line": {
          "color": "red",
          "width": 4
         },
         "mode": "lines",
         "showlegend": false,
         "type": "scatter3d",
         "x": [
          55,
          2,
          null
         ],
         "y": [
          22,
          -52,
          null
         ],
         "z": [
          -10,
          16,
          null
         ]
        },
        {
         "hoverinfo": "none",
         "line": {
          "color": "red",
          "width": 4
         },
         "mode": "lines",
         "showlegend": false,
         "type": "scatter3d",
         "x": [
          -63,
          2,
          null
         ],
         "y": [
          21,
          -52,
          null
         ],
         "z": [
          4,
          16,
          null
         ]
        },
        {
         "hoverinfo": "none",
         "line": {
          "color": "blue",
          "width": 4
         },
         "mode": "lines",
         "showlegend": false,
         "type": "scatter3d",
         "x": [
          -55,
          2,
          null
         ],
         "y": [
          20,
          -52,
          null
         ],
         "z": [
          31,
          16,
          null
         ]
        },
        {
         "hoverinfo": "none",
         "line": {
          "color": "red",
          "width": 4
         },
         "mode": "lines",
         "showlegend": false,
         "type": "scatter3d",
         "x": [
          30,
          2,
          null
         ],
         "y": [
          66,
          -52,
          null
         ],
         "z": [
          -3,
          16,
          null
         ]
        },
        {
         "hoverinfo": "none",
         "line": {
          "color": "blue",
          "width": 4
         },
         "mode": "lines",
         "showlegend": false,
         "type": "scatter3d",
         "x": [
          -27,
          2,
          null
         ],
         "y": [
          31,
          56,
          null
         ],
         "z": [
          45,
          1,
          null
         ]
        },
        {
         "hoverinfo": "none",
         "line": {
          "color": "blue",
          "width": 4
         },
         "mode": "lines",
         "showlegend": false,
         "type": "scatter3d",
         "x": [
          -48,
          2,
          null
         ],
         "y": [
          -63,
          56,
          null
         ],
         "z": [
          45,
          1,
          null
         ]
        },
        {
         "hoverinfo": "none",
         "line": {
          "color": "blue",
          "width": 4
         },
         "mode": "lines",
         "showlegend": false,
         "type": "scatter3d",
         "x": [
          45,
          2,
          null
         ],
         "y": [
          -63,
          56,
          null
         ],
         "z": [
          54,
          1,
          null
         ]
        },
        {
         "hoverinfo": "none",
         "line": {
          "color": "red",
          "width": 4
         },
         "mode": "lines",
         "showlegend": false,
         "type": "scatter3d",
         "x": [
          -22,
          2,
          null
         ],
         "y": [
          -68,
          56,
          null
         ],
         "z": [
          55,
          1,
          null
         ]
        },
        {
         "hoverinfo": "none",
         "line": {
          "color": "red",
          "width": 4
         },
         "mode": "lines",
         "showlegend": false,
         "type": "scatter3d",
         "x": [
          2,
          2,
          null
         ],
         "y": [
          -60,
          56,
          null
         ],
         "z": [
          66,
          1,
          null
         ]
        },
        {
         "hoverinfo": "none",
         "line": {
          "color": "blue",
          "width": 4
         },
         "mode": "lines",
         "showlegend": false,
         "type": "scatter3d",
         "x": [
          66,
          2,
          null
         ],
         "y": [
          -51,
          56,
          null
         ],
         "z": [
          15,
          1,
          null
         ]
        },
        {
         "hoverinfo": "none",
         "line": {
          "color": "red",
          "width": 4
         },
         "mode": "lines",
         "showlegend": false,
         "type": "scatter3d",
         "x": [
          -53,
          2,
          null
         ],
         "y": [
          15,
          56,
          null
         ],
         "z": [
          -9,
          1,
          null
         ]
        },
        {
         "hoverinfo": "none",
         "line": {
          "color": "blue",
          "width": 4
         },
         "mode": "lines",
         "showlegend": false,
         "type": "scatter3d",
         "x": [
          55,
          2,
          null
         ],
         "y": [
          22,
          56,
          null
         ],
         "z": [
          -10,
          1,
          null
         ]
        },
        {
         "hoverinfo": "none",
         "line": {
          "color": "blue",
          "width": 4
         },
         "mode": "lines",
         "showlegend": false,
         "type": "scatter3d",
         "x": [
          -63,
          2,
          null
         ],
         "y": [
          21,
          56,
          null
         ],
         "z": [
          4,
          1,
          null
         ]
        },
        {
         "hoverinfo": "none",
         "line": {
          "color": "blue",
          "width": 4
         },
         "mode": "lines",
         "showlegend": false,
         "type": "scatter3d",
         "x": [
          -55,
          2,
          null
         ],
         "y": [
          20,
          56,
          null
         ],
         "z": [
          31,
          1,
          null
         ]
        },
        {
         "hoverinfo": "none",
         "line": {
          "color": "blue",
          "width": 4
         },
         "mode": "lines",
         "showlegend": false,
         "type": "scatter3d",
         "x": [
          30,
          2,
          null
         ],
         "y": [
          66,
          56,
          null
         ],
         "z": [
          -3,
          1,
          null
         ]
        },
        {
         "hoverinfo": "none",
         "line": {
          "color": "blue",
          "width": 4
         },
         "mode": "lines",
         "showlegend": false,
         "type": "scatter3d",
         "x": [
          -48,
          -27,
          null
         ],
         "y": [
          -63,
          31,
          null
         ],
         "z": [
          45,
          45,
          null
         ]
        },
        {
         "hoverinfo": "none",
         "line": {
          "color": "blue",
          "width": 4
         },
         "mode": "lines",
         "showlegend": false,
         "type": "scatter3d",
         "x": [
          45,
          -27,
          null
         ],
         "y": [
          -63,
          31,
          null
         ],
         "z": [
          54,
          45,
          null
         ]
        },
        {
         "hoverinfo": "none",
         "line": {
          "color": "red",
          "width": 4
         },
         "mode": "lines",
         "showlegend": false,
         "type": "scatter3d",
         "x": [
          -22,
          -27,
          null
         ],
         "y": [
          -68,
          31,
          null
         ],
         "z": [
          55,
          45,
          null
         ]
        },
        {
         "hoverinfo": "none",
         "line": {
          "color": "blue",
          "width": 4
         },
         "mode": "lines",
         "showlegend": false,
         "type": "scatter3d",
         "x": [
          2,
          -27,
          null
         ],
         "y": [
          -60,
          31,
          null
         ],
         "z": [
          66,
          45,
          null
         ]
        },
        {
         "hoverinfo": "none",
         "line": {
          "color": "red",
          "width": 4
         },
         "mode": "lines",
         "showlegend": false,
         "type": "scatter3d",
         "x": [
          66,
          -27,
          null
         ],
         "y": [
          -51,
          31,
          null
         ],
         "z": [
          15,
          45,
          null
         ]
        },
        {
         "hoverinfo": "none",
         "line": {
          "color": "red",
          "width": 4
         },
         "mode": "lines",
         "showlegend": false,
         "type": "scatter3d",
         "x": [
          -53,
          -27,
          null
         ],
         "y": [
          15,
          31,
          null
         ],
         "z": [
          -9,
          45,
          null
         ]
        },
        {
         "hoverinfo": "none",
         "line": {
          "color": "blue",
          "width": 4
         },
         "mode": "lines",
         "showlegend": false,
         "type": "scatter3d",
         "x": [
          55,
          -27,
          null
         ],
         "y": [
          22,
          31,
          null
         ],
         "z": [
          -10,
          45,
          null
         ]
        },
        {
         "hoverinfo": "none",
         "line": {
          "color": "red",
          "width": 4
         },
         "mode": "lines",
         "showlegend": false,
         "type": "scatter3d",
         "x": [
          -63,
          -27,
          null
         ],
         "y": [
          21,
          31,
          null
         ],
         "z": [
          4,
          45,
          null
         ]
        },
        {
         "hoverinfo": "none",
         "line": {
          "color": "blue",
          "width": 4
         },
         "mode": "lines",
         "showlegend": false,
         "type": "scatter3d",
         "x": [
          -55,
          -27,
          null
         ],
         "y": [
          20,
          31,
          null
         ],
         "z": [
          31,
          45,
          null
         ]
        },
        {
         "hoverinfo": "none",
         "line": {
          "color": "blue",
          "width": 4
         },
         "mode": "lines",
         "showlegend": false,
         "type": "scatter3d",
         "x": [
          30,
          -27,
          null
         ],
         "y": [
          66,
          31,
          null
         ],
         "z": [
          -3,
          45,
          null
         ]
        },
        {
         "hoverinfo": "none",
         "line": {
          "color": "blue",
          "width": 4
         },
         "mode": "lines",
         "showlegend": false,
         "type": "scatter3d",
         "x": [
          45,
          -48,
          null
         ],
         "y": [
          -63,
          -63,
          null
         ],
         "z": [
          54,
          45,
          null
         ]
        },
        {
         "hoverinfo": "none",
         "line": {
          "color": "blue",
          "width": 4
         },
         "mode": "lines",
         "showlegend": false,
         "type": "scatter3d",
         "x": [
          -22,
          -48,
          null
         ],
         "y": [
          -68,
          -63,
          null
         ],
         "z": [
          55,
          45,
          null
         ]
        },
        {
         "hoverinfo": "none",
         "line": {
          "color": "blue",
          "width": 4
         },
         "mode": "lines",
         "showlegend": false,
         "type": "scatter3d",
         "x": [
          2,
          -48,
          null
         ],
         "y": [
          -60,
          -63,
          null
         ],
         "z": [
          66,
          45,
          null
         ]
        },
        {
         "hoverinfo": "none",
         "line": {
          "color": "blue",
          "width": 4
         },
         "mode": "lines",
         "showlegend": false,
         "type": "scatter3d",
         "x": [
          66,
          -48,
          null
         ],
         "y": [
          -51,
          -63,
          null
         ],
         "z": [
          15,
          45,
          null
         ]
        },
        {
         "hoverinfo": "none",
         "line": {
          "color": "blue",
          "width": 4
         },
         "mode": "lines",
         "showlegend": false,
         "type": "scatter3d",
         "x": [
          -53,
          -48,
          null
         ],
         "y": [
          15,
          -63,
          null
         ],
         "z": [
          -9,
          45,
          null
         ]
        },
        {
         "hoverinfo": "none",
         "line": {
          "color": "blue",
          "width": 4
         },
         "mode": "lines",
         "showlegend": false,
         "type": "scatter3d",
         "x": [
          55,
          -48,
          null
         ],
         "y": [
          22,
          -63,
          null
         ],
         "z": [
          -10,
          45,
          null
         ]
        },
        {
         "hoverinfo": "none",
         "line": {
          "color": "blue",
          "width": 4
         },
         "mode": "lines",
         "showlegend": false,
         "type": "scatter3d",
         "x": [
          -63,
          -48,
          null
         ],
         "y": [
          21,
          -63,
          null
         ],
         "z": [
          4,
          45,
          null
         ]
        },
        {
         "hoverinfo": "none",
         "line": {
          "color": "blue",
          "width": 4
         },
         "mode": "lines",
         "showlegend": false,
         "type": "scatter3d",
         "x": [
          -55,
          -48,
          null
         ],
         "y": [
          20,
          -63,
          null
         ],
         "z": [
          31,
          45,
          null
         ]
        },
        {
         "hoverinfo": "none",
         "line": {
          "color": "red",
          "width": 4
         },
         "mode": "lines",
         "showlegend": false,
         "type": "scatter3d",
         "x": [
          30,
          -48,
          null
         ],
         "y": [
          66,
          -63,
          null
         ],
         "z": [
          -3,
          45,
          null
         ]
        },
        {
         "hoverinfo": "none",
         "line": {
          "color": "blue",
          "width": 4
         },
         "mode": "lines",
         "showlegend": false,
         "type": "scatter3d",
         "x": [
          -22,
          45,
          null
         ],
         "y": [
          -68,
          -63,
          null
         ],
         "z": [
          55,
          54,
          null
         ]
        },
        {
         "hoverinfo": "none",
         "line": {
          "color": "blue",
          "width": 4
         },
         "mode": "lines",
         "showlegend": false,
         "type": "scatter3d",
         "x": [
          2,
          45,
          null
         ],
         "y": [
          -60,
          -63,
          null
         ],
         "z": [
          66,
          54,
          null
         ]
        },
        {
         "hoverinfo": "none",
         "line": {
          "color": "red",
          "width": 4
         },
         "mode": "lines",
         "showlegend": false,
         "type": "scatter3d",
         "x": [
          66,
          45,
          null
         ],
         "y": [
          -51,
          -63,
          null
         ],
         "z": [
          15,
          54,
          null
         ]
        },
        {
         "hoverinfo": "none",
         "line": {
          "color": "red",
          "width": 4
         },
         "mode": "lines",
         "showlegend": false,
         "type": "scatter3d",
         "x": [
          -53,
          45,
          null
         ],
         "y": [
          15,
          -63,
          null
         ],
         "z": [
          -9,
          54,
          null
         ]
        },
        {
         "hoverinfo": "none",
         "line": {
          "color": "blue",
          "width": 4
         },
         "mode": "lines",
         "showlegend": false,
         "type": "scatter3d",
         "x": [
          55,
          45,
          null
         ],
         "y": [
          22,
          -63,
          null
         ],
         "z": [
          -10,
          54,
          null
         ]
        },
        {
         "hoverinfo": "none",
         "line": {
          "color": "red",
          "width": 4
         },
         "mode": "lines",
         "showlegend": false,
         "type": "scatter3d",
         "x": [
          -63,
          45,
          null
         ],
         "y": [
          21,
          -63,
          null
         ],
         "z": [
          4,
          54,
          null
         ]
        },
        {
         "hoverinfo": "none",
         "line": {
          "color": "blue",
          "width": 4
         },
         "mode": "lines",
         "showlegend": false,
         "type": "scatter3d",
         "x": [
          -55,
          45,
          null
         ],
         "y": [
          20,
          -63,
          null
         ],
         "z": [
          31,
          54,
          null
         ]
        },
        {
         "hoverinfo": "none",
         "line": {
          "color": "blue",
          "width": 4
         },
         "mode": "lines",
         "showlegend": false,
         "type": "scatter3d",
         "x": [
          30,
          45,
          null
         ],
         "y": [
          66,
          -63,
          null
         ],
         "z": [
          -3,
          54,
          null
         ]
        },
        {
         "hoverinfo": "none",
         "line": {
          "color": "blue",
          "width": 4
         },
         "mode": "lines",
         "showlegend": false,
         "type": "scatter3d",
         "x": [
          2,
          -22,
          null
         ],
         "y": [
          -60,
          -68,
          null
         ],
         "z": [
          66,
          55,
          null
         ]
        },
        {
         "hoverinfo": "none",
         "line": {
          "color": "blue",
          "width": 4
         },
         "mode": "lines",
         "showlegend": false,
         "type": "scatter3d",
         "x": [
          66,
          -22,
          null
         ],
         "y": [
          -51,
          -68,
          null
         ],
         "z": [
          15,
          55,
          null
         ]
        },
        {
         "hoverinfo": "none",
         "line": {
          "color": "blue",
          "width": 4
         },
         "mode": "lines",
         "showlegend": false,
         "type": "scatter3d",
         "x": [
          -53,
          -22,
          null
         ],
         "y": [
          15,
          -68,
          null
         ],
         "z": [
          -9,
          55,
          null
         ]
        },
        {
         "hoverinfo": "none",
         "line": {
          "color": "red",
          "width": 4
         },
         "mode": "lines",
         "showlegend": false,
         "type": "scatter3d",
         "x": [
          55,
          -22,
          null
         ],
         "y": [
          22,
          -68,
          null
         ],
         "z": [
          -10,
          55,
          null
         ]
        },
        {
         "hoverinfo": "none",
         "line": {
          "color": "blue",
          "width": 4
         },
         "mode": "lines",
         "showlegend": false,
         "type": "scatter3d",
         "x": [
          -63,
          -22,
          null
         ],
         "y": [
          21,
          -68,
          null
         ],
         "z": [
          4,
          55,
          null
         ]
        },
        {
         "hoverinfo": "none",
         "line": {
          "color": "red",
          "width": 4
         },
         "mode": "lines",
         "showlegend": false,
         "type": "scatter3d",
         "x": [
          -55,
          -22,
          null
         ],
         "y": [
          20,
          -68,
          null
         ],
         "z": [
          31,
          55,
          null
         ]
        },
        {
         "hoverinfo": "none",
         "line": {
          "color": "red",
          "width": 4
         },
         "mode": "lines",
         "showlegend": false,
         "type": "scatter3d",
         "x": [
          30,
          -22,
          null
         ],
         "y": [
          66,
          -68,
          null
         ],
         "z": [
          -3,
          55,
          null
         ]
        },
        {
         "hoverinfo": "none",
         "line": {
          "color": "blue",
          "width": 4
         },
         "mode": "lines",
         "showlegend": false,
         "type": "scatter3d",
         "x": [
          66,
          2,
          null
         ],
         "y": [
          -51,
          -60,
          null
         ],
         "z": [
          15,
          66,
          null
         ]
        },
        {
         "hoverinfo": "none",
         "line": {
          "color": "blue",
          "width": 4
         },
         "mode": "lines",
         "showlegend": false,
         "type": "scatter3d",
         "x": [
          -53,
          2,
          null
         ],
         "y": [
          15,
          -60,
          null
         ],
         "z": [
          -9,
          66,
          null
         ]
        },
        {
         "hoverinfo": "none",
         "line": {
          "color": "blue",
          "width": 4
         },
         "mode": "lines",
         "showlegend": false,
         "type": "scatter3d",
         "x": [
          55,
          2,
          null
         ],
         "y": [
          22,
          -60,
          null
         ],
         "z": [
          -10,
          66,
          null
         ]
        },
        {
         "hoverinfo": "none",
         "line": {
          "color": "blue",
          "width": 4
         },
         "mode": "lines",
         "showlegend": false,
         "type": "scatter3d",
         "x": [
          -63,
          2,
          null
         ],
         "y": [
          21,
          -60,
          null
         ],
         "z": [
          4,
          66,
          null
         ]
        },
        {
         "hoverinfo": "none",
         "line": {
          "color": "blue",
          "width": 4
         },
         "mode": "lines",
         "showlegend": false,
         "type": "scatter3d",
         "x": [
          -55,
          2,
          null
         ],
         "y": [
          20,
          -60,
          null
         ],
         "z": [
          31,
          66,
          null
         ]
        },
        {
         "hoverinfo": "none",
         "line": {
          "color": "red",
          "width": 4
         },
         "mode": "lines",
         "showlegend": false,
         "type": "scatter3d",
         "x": [
          30,
          2,
          null
         ],
         "y": [
          66,
          -60,
          null
         ],
         "z": [
          -3,
          66,
          null
         ]
        },
        {
         "hoverinfo": "none",
         "line": {
          "color": "blue",
          "width": 4
         },
         "mode": "lines",
         "showlegend": false,
         "type": "scatter3d",
         "x": [
          -53,
          66,
          null
         ],
         "y": [
          15,
          -51,
          null
         ],
         "z": [
          -9,
          15,
          null
         ]
        },
        {
         "hoverinfo": "none",
         "line": {
          "color": "red",
          "width": 4
         },
         "mode": "lines",
         "showlegend": false,
         "type": "scatter3d",
         "x": [
          55,
          66,
          null
         ],
         "y": [
          22,
          -51,
          null
         ],
         "z": [
          -10,
          15,
          null
         ]
        },
        {
         "hoverinfo": "none",
         "line": {
          "color": "blue",
          "width": 4
         },
         "mode": "lines",
         "showlegend": false,
         "type": "scatter3d",
         "x": [
          -63,
          66,
          null
         ],
         "y": [
          21,
          -51,
          null
         ],
         "z": [
          4,
          15,
          null
         ]
        },
        {
         "hoverinfo": "none",
         "line": {
          "color": "blue",
          "width": 4
         },
         "mode": "lines",
         "showlegend": false,
         "type": "scatter3d",
         "x": [
          -55,
          66,
          null
         ],
         "y": [
          20,
          -51,
          null
         ],
         "z": [
          31,
          15,
          null
         ]
        },
        {
         "hoverinfo": "none",
         "line": {
          "color": "red",
          "width": 4
         },
         "mode": "lines",
         "showlegend": false,
         "type": "scatter3d",
         "x": [
          30,
          66,
          null
         ],
         "y": [
          66,
          -51,
          null
         ],
         "z": [
          -3,
          15,
          null
         ]
        },
        {
         "hoverinfo": "none",
         "line": {
          "color": "blue",
          "width": 4
         },
         "mode": "lines",
         "showlegend": false,
         "type": "scatter3d",
         "x": [
          55,
          -53,
          null
         ],
         "y": [
          22,
          15,
          null
         ],
         "z": [
          -10,
          -9,
          null
         ]
        },
        {
         "hoverinfo": "none",
         "line": {
          "color": "blue",
          "width": 4
         },
         "mode": "lines",
         "showlegend": false,
         "type": "scatter3d",
         "x": [
          -63,
          -53,
          null
         ],
         "y": [
          21,
          15,
          null
         ],
         "z": [
          4,
          -9,
          null
         ]
        },
        {
         "hoverinfo": "none",
         "line": {
          "color": "blue",
          "width": 4
         },
         "mode": "lines",
         "showlegend": false,
         "type": "scatter3d",
         "x": [
          -55,
          -53,
          null
         ],
         "y": [
          20,
          15,
          null
         ],
         "z": [
          31,
          -9,
          null
         ]
        },
        {
         "hoverinfo": "none",
         "line": {
          "color": "red",
          "width": 4
         },
         "mode": "lines",
         "showlegend": false,
         "type": "scatter3d",
         "x": [
          30,
          -53,
          null
         ],
         "y": [
          66,
          15,
          null
         ],
         "z": [
          -3,
          -9,
          null
         ]
        },
        {
         "hoverinfo": "none",
         "line": {
          "color": "blue",
          "width": 4
         },
         "mode": "lines",
         "showlegend": false,
         "type": "scatter3d",
         "x": [
          -63,
          55,
          null
         ],
         "y": [
          21,
          22,
          null
         ],
         "z": [
          4,
          -10,
          null
         ]
        },
        {
         "hoverinfo": "none",
         "line": {
          "color": "blue",
          "width": 4
         },
         "mode": "lines",
         "showlegend": false,
         "type": "scatter3d",
         "x": [
          -55,
          55,
          null
         ],
         "y": [
          20,
          22,
          null
         ],
         "z": [
          31,
          -10,
          null
         ]
        },
        {
         "hoverinfo": "none",
         "line": {
          "color": "blue",
          "width": 4
         },
         "mode": "lines",
         "showlegend": false,
         "type": "scatter3d",
         "x": [
          30,
          55,
          null
         ],
         "y": [
          66,
          22,
          null
         ],
         "z": [
          -3,
          -10,
          null
         ]
        },
        {
         "hoverinfo": "none",
         "line": {
          "color": "blue",
          "width": 4
         },
         "mode": "lines",
         "showlegend": false,
         "type": "scatter3d",
         "x": [
          -55,
          -63,
          null
         ],
         "y": [
          20,
          21,
          null
         ],
         "z": [
          31,
          4,
          null
         ]
        },
        {
         "hoverinfo": "none",
         "line": {
          "color": "red",
          "width": 4
         },
         "mode": "lines",
         "showlegend": false,
         "type": "scatter3d",
         "x": [
          30,
          -63,
          null
         ],
         "y": [
          66,
          21,
          null
         ],
         "z": [
          -3,
          4,
          null
         ]
        },
        {
         "hoverinfo": "none",
         "line": {
          "color": "blue",
          "width": 4
         },
         "mode": "lines",
         "showlegend": false,
         "type": "scatter3d",
         "x": [
          30,
          -55,
          null
         ],
         "y": [
          66,
          20,
          null
         ],
         "z": [
          -3,
          31,
          null
         ]
        },
        {
         "hoverinfo": "text",
         "marker": {
          "color": "skyblue",
          "size": 6
         },
         "mode": "markers",
         "name": "ICA Nodes",
         "type": "scatter3d",
         "x": {
          "bdata": "AAB0wgAAgMIAAHzCAADIQQAANMIAADRCAAAAQAAAAEAAAEDCAAB0wgAAQEIAAFxCAAAAQAAAXMIAAPBBAADwQQAAgEAAALDBAAAAQAAAVMIAAOBAAAAgQQAANEIAAABAAABwQQAA2MEAAIRCAAAAQA==",
          "dtype": "f4"
         },
         "y": {
          "bdata": "AAAQwQAAqMEAAKhBAADAQAAA4MEAAPDBAABgQgAA2MEAAHzCAADwwQAAjMIAALBBAAC6wgAAoEEAALTCAACEQgAAnMIAAIjCAABQwgAAcEEAAIBAAAC0wgAAfMIAAIzCAABQwgAA+EEAAEzCAABwwg==",
          "dtype": "f4"
         },
         "z": {
          "bdata": "AAAcQgAAEEEAAIBAAADAwAAAeEIAAIRCAACAPwAAlkIAADRCAAAcQgAAkMEAACDBAABwwQAA+EEAAJDBAABAwAAATEIAAFxCAACAQQAAEMEAAJZCAAAcQgAAWEIAACBBAADAwAAANEIAAHBBAACEQg==",
          "dtype": "f4"
         }
        }
       ],
       "layout": {
        "margin": {
         "b": 0,
         "l": 0,
         "r": 0,
         "t": 40
        },
        "scene": {
         "xaxis": {
          "title": {
           "text": "X"
          }
         },
         "yaxis": {
          "title": {
           "text": "Y"
          }
         },
         "zaxis": {
          "title": {
           "text": "Z"
          }
         }
        },
        "showlegend": true,
        "template": {
         "data": {
          "bar": [
           {
            "error_x": {
             "color": "#2a3f5f"
            },
            "error_y": {
             "color": "#2a3f5f"
            },
            "marker": {
             "line": {
              "color": "#E5ECF6",
              "width": 0.5
             },
             "pattern": {
              "fillmode": "overlay",
              "size": 10,
              "solidity": 0.2
             }
            },
            "type": "bar"
           }
          ],
          "barpolar": [
           {
            "marker": {
             "line": {
              "color": "#E5ECF6",
              "width": 0.5
             },
             "pattern": {
              "fillmode": "overlay",
              "size": 10,
              "solidity": 0.2
             }
            },
            "type": "barpolar"
           }
          ],
          "carpet": [
           {
            "aaxis": {
             "endlinecolor": "#2a3f5f",
             "gridcolor": "white",
             "linecolor": "white",
             "minorgridcolor": "white",
             "startlinecolor": "#2a3f5f"
            },
            "baxis": {
             "endlinecolor": "#2a3f5f",
             "gridcolor": "white",
             "linecolor": "white",
             "minorgridcolor": "white",
             "startlinecolor": "#2a3f5f"
            },
            "type": "carpet"
           }
          ],
          "choropleth": [
           {
            "colorbar": {
             "outlinewidth": 0,
             "ticks": ""
            },
            "type": "choropleth"
           }
          ],
          "contour": [
           {
            "colorbar": {
             "outlinewidth": 0,
             "ticks": ""
            },
            "colorscale": [
             [
              0,
              "#0d0887"
             ],
             [
              0.1111111111111111,
              "#46039f"
             ],
             [
              0.2222222222222222,
              "#7201a8"
             ],
             [
              0.3333333333333333,
              "#9c179e"
             ],
             [
              0.4444444444444444,
              "#bd3786"
             ],
             [
              0.5555555555555556,
              "#d8576b"
             ],
             [
              0.6666666666666666,
              "#ed7953"
             ],
             [
              0.7777777777777778,
              "#fb9f3a"
             ],
             [
              0.8888888888888888,
              "#fdca26"
             ],
             [
              1,
              "#f0f921"
             ]
            ],
            "type": "contour"
           }
          ],
          "contourcarpet": [
           {
            "colorbar": {
             "outlinewidth": 0,
             "ticks": ""
            },
            "type": "contourcarpet"
           }
          ],
          "heatmap": [
           {
            "colorbar": {
             "outlinewidth": 0,
             "ticks": ""
            },
            "colorscale": [
             [
              0,
              "#0d0887"
             ],
             [
              0.1111111111111111,
              "#46039f"
             ],
             [
              0.2222222222222222,
              "#7201a8"
             ],
             [
              0.3333333333333333,
              "#9c179e"
             ],
             [
              0.4444444444444444,
              "#bd3786"
             ],
             [
              0.5555555555555556,
              "#d8576b"
             ],
             [
              0.6666666666666666,
              "#ed7953"
             ],
             [
              0.7777777777777778,
              "#fb9f3a"
             ],
             [
              0.8888888888888888,
              "#fdca26"
             ],
             [
              1,
              "#f0f921"
             ]
            ],
            "type": "heatmap"
           }
          ],
          "histogram": [
           {
            "marker": {
             "pattern": {
              "fillmode": "overlay",
              "size": 10,
              "solidity": 0.2
             }
            },
            "type": "histogram"
           }
          ],
          "histogram2d": [
           {
            "colorbar": {
             "outlinewidth": 0,
             "ticks": ""
            },
            "colorscale": [
             [
              0,
              "#0d0887"
             ],
             [
              0.1111111111111111,
              "#46039f"
             ],
             [
              0.2222222222222222,
              "#7201a8"
             ],
             [
              0.3333333333333333,
              "#9c179e"
             ],
             [
              0.4444444444444444,
              "#bd3786"
             ],
             [
              0.5555555555555556,
              "#d8576b"
             ],
             [
              0.6666666666666666,
              "#ed7953"
             ],
             [
              0.7777777777777778,
              "#fb9f3a"
             ],
             [
              0.8888888888888888,
              "#fdca26"
             ],
             [
              1,
              "#f0f921"
             ]
            ],
            "type": "histogram2d"
           }
          ],
          "histogram2dcontour": [
           {
            "colorbar": {
             "outlinewidth": 0,
             "ticks": ""
            },
            "colorscale": [
             [
              0,
              "#0d0887"
             ],
             [
              0.1111111111111111,
              "#46039f"
             ],
             [
              0.2222222222222222,
              "#7201a8"
             ],
             [
              0.3333333333333333,
              "#9c179e"
             ],
             [
              0.4444444444444444,
              "#bd3786"
             ],
             [
              0.5555555555555556,
              "#d8576b"
             ],
             [
              0.6666666666666666,
              "#ed7953"
             ],
             [
              0.7777777777777778,
              "#fb9f3a"
             ],
             [
              0.8888888888888888,
              "#fdca26"
             ],
             [
              1,
              "#f0f921"
             ]
            ],
            "type": "histogram2dcontour"
           }
          ],
          "mesh3d": [
           {
            "colorbar": {
             "outlinewidth": 0,
             "ticks": ""
            },
            "type": "mesh3d"
           }
          ],
          "parcoords": [
           {
            "line": {
             "colorbar": {
              "outlinewidth": 0,
              "ticks": ""
             }
            },
            "type": "parcoords"
           }
          ],
          "pie": [
           {
            "automargin": true,
            "type": "pie"
           }
          ],
          "scatter": [
           {
            "fillpattern": {
             "fillmode": "overlay",
             "size": 10,
             "solidity": 0.2
            },
            "type": "scatter"
           }
          ],
          "scatter3d": [
           {
            "line": {
             "colorbar": {
              "outlinewidth": 0,
              "ticks": ""
             }
            },
            "marker": {
             "colorbar": {
              "outlinewidth": 0,
              "ticks": ""
             }
            },
            "type": "scatter3d"
           }
          ],
          "scattercarpet": [
           {
            "marker": {
             "colorbar": {
              "outlinewidth": 0,
              "ticks": ""
             }
            },
            "type": "scattercarpet"
           }
          ],
          "scattergeo": [
           {
            "marker": {
             "colorbar": {
              "outlinewidth": 0,
              "ticks": ""
             }
            },
            "type": "scattergeo"
           }
          ],
          "scattergl": [
           {
            "marker": {
             "colorbar": {
              "outlinewidth": 0,
              "ticks": ""
             }
            },
            "type": "scattergl"
           }
          ],
          "scattermap": [
           {
            "marker": {
             "colorbar": {
              "outlinewidth": 0,
              "ticks": ""
             }
            },
            "type": "scattermap"
           }
          ],
          "scattermapbox": [
           {
            "marker": {
             "colorbar": {
              "outlinewidth": 0,
              "ticks": ""
             }
            },
            "type": "scattermapbox"
           }
          ],
          "scatterpolar": [
           {
            "marker": {
             "colorbar": {
              "outlinewidth": 0,
              "ticks": ""
             }
            },
            "type": "scatterpolar"
           }
          ],
          "scatterpolargl": [
           {
            "marker": {
             "colorbar": {
              "outlinewidth": 0,
              "ticks": ""
             }
            },
            "type": "scatterpolargl"
           }
          ],
          "scatterternary": [
           {
            "marker": {
             "colorbar": {
              "outlinewidth": 0,
              "ticks": ""
             }
            },
            "type": "scatterternary"
           }
          ],
          "surface": [
           {
            "colorbar": {
             "outlinewidth": 0,
             "ticks": ""
            },
            "colorscale": [
             [
              0,
              "#0d0887"
             ],
             [
              0.1111111111111111,
              "#46039f"
             ],
             [
              0.2222222222222222,
              "#7201a8"
             ],
             [
              0.3333333333333333,
              "#9c179e"
             ],
             [
              0.4444444444444444,
              "#bd3786"
             ],
             [
              0.5555555555555556,
              "#d8576b"
             ],
             [
              0.6666666666666666,
              "#ed7953"
             ],
             [
              0.7777777777777778,
              "#fb9f3a"
             ],
             [
              0.8888888888888888,
              "#fdca26"
             ],
             [
              1,
              "#f0f921"
             ]
            ],
            "type": "surface"
           }
          ],
          "table": [
           {
            "cells": {
             "fill": {
              "color": "#EBF0F8"
             },
             "line": {
              "color": "white"
             }
            },
            "header": {
             "fill": {
              "color": "#C8D4E3"
             },
             "line": {
              "color": "white"
             }
            },
            "type": "table"
           }
          ]
         },
         "layout": {
          "annotationdefaults": {
           "arrowcolor": "#2a3f5f",
           "arrowhead": 0,
           "arrowwidth": 1
          },
          "autotypenumbers": "strict",
          "coloraxis": {
           "colorbar": {
            "outlinewidth": 0,
            "ticks": ""
           }
          },
          "colorscale": {
           "diverging": [
            [
             0,
             "#8e0152"
            ],
            [
             0.1,
             "#c51b7d"
            ],
            [
             0.2,
             "#de77ae"
            ],
            [
             0.3,
             "#f1b6da"
            ],
            [
             0.4,
             "#fde0ef"
            ],
            [
             0.5,
             "#f7f7f7"
            ],
            [
             0.6,
             "#e6f5d0"
            ],
            [
             0.7,
             "#b8e186"
            ],
            [
             0.8,
             "#7fbc41"
            ],
            [
             0.9,
             "#4d9221"
            ],
            [
             1,
             "#276419"
            ]
           ],
           "sequential": [
            [
             0,
             "#0d0887"
            ],
            [
             0.1111111111111111,
             "#46039f"
            ],
            [
             0.2222222222222222,
             "#7201a8"
            ],
            [
             0.3333333333333333,
             "#9c179e"
            ],
            [
             0.4444444444444444,
             "#bd3786"
            ],
            [
             0.5555555555555556,
             "#d8576b"
            ],
            [
             0.6666666666666666,
             "#ed7953"
            ],
            [
             0.7777777777777778,
             "#fb9f3a"
            ],
            [
             0.8888888888888888,
             "#fdca26"
            ],
            [
             1,
             "#f0f921"
            ]
           ],
           "sequentialminus": [
            [
             0,
             "#0d0887"
            ],
            [
             0.1111111111111111,
             "#46039f"
            ],
            [
             0.2222222222222222,
             "#7201a8"
            ],
            [
             0.3333333333333333,
             "#9c179e"
            ],
            [
             0.4444444444444444,
             "#bd3786"
            ],
            [
             0.5555555555555556,
             "#d8576b"
            ],
            [
             0.6666666666666666,
             "#ed7953"
            ],
            [
             0.7777777777777778,
             "#fb9f3a"
            ],
            [
             0.8888888888888888,
             "#fdca26"
            ],
            [
             1,
             "#f0f921"
            ]
           ]
          },
          "colorway": [
           "#636efa",
           "#EF553B",
           "#00cc96",
           "#ab63fa",
           "#FFA15A",
           "#19d3f3",
           "#FF6692",
           "#B6E880",
           "#FF97FF",
           "#FECB52"
          ],
          "font": {
           "color": "#2a3f5f"
          },
          "geo": {
           "bgcolor": "white",
           "lakecolor": "white",
           "landcolor": "#E5ECF6",
           "showlakes": true,
           "showland": true,
           "subunitcolor": "white"
          },
          "hoverlabel": {
           "align": "left"
          },
          "hovermode": "closest",
          "mapbox": {
           "style": "light"
          },
          "paper_bgcolor": "white",
          "plot_bgcolor": "#E5ECF6",
          "polar": {
           "angularaxis": {
            "gridcolor": "white",
            "linecolor": "white",
            "ticks": ""
           },
           "bgcolor": "#E5ECF6",
           "radialaxis": {
            "gridcolor": "white",
            "linecolor": "white",
            "ticks": ""
           }
          },
          "scene": {
           "xaxis": {
            "backgroundcolor": "#E5ECF6",
            "gridcolor": "white",
            "gridwidth": 2,
            "linecolor": "white",
            "showbackground": true,
            "ticks": "",
            "zerolinecolor": "white"
           },
           "yaxis": {
            "backgroundcolor": "#E5ECF6",
            "gridcolor": "white",
            "gridwidth": 2,
            "linecolor": "white",
            "showbackground": true,
            "ticks": "",
            "zerolinecolor": "white"
           },
           "zaxis": {
            "backgroundcolor": "#E5ECF6",
            "gridcolor": "white",
            "gridwidth": 2,
            "linecolor": "white",
            "showbackground": true,
            "ticks": "",
            "zerolinecolor": "white"
           }
          },
          "shapedefaults": {
           "line": {
            "color": "#2a3f5f"
           }
          },
          "ternary": {
           "aaxis": {
            "gridcolor": "white",
            "linecolor": "white",
            "ticks": ""
           },
           "baxis": {
            "gridcolor": "white",
            "linecolor": "white",
            "ticks": ""
           },
           "bgcolor": "#E5ECF6",
           "caxis": {
            "gridcolor": "white",
            "linecolor": "white",
            "ticks": ""
           }
          },
          "title": {
           "x": 0.05
          },
          "xaxis": {
           "automargin": true,
           "gridcolor": "white",
           "linecolor": "white",
           "ticks": "",
           "title": {
            "standoff": 15
           },
           "zerolinecolor": "white",
           "zerolinewidth": 2
          },
          "yaxis": {
           "automargin": true,
           "gridcolor": "white",
           "linecolor": "white",
           "ticks": "",
           "title": {
            "standoff": 15
           },
           "zerolinecolor": "white",
           "zerolinewidth": 2
          }
         }
        },
        "title": {
         "text": "Subject 179564.0, Label 1"
        }
       }
      }
     },
     "metadata": {},
     "output_type": "display_data"
    }
   ],
   "source": [
    "i= 6\n",
    "plot_3d_brain_graph_plotly(\n",
    "    graphs[i],\n",
    "    title=f\"Subject {graphs[i].subject_id}, Label {graphs[i].y.item()}\",\n",
    "    edge_threshold=0\n",
    ")"
   ]
  },
  {
   "cell_type": "code",
   "execution_count": null,
   "id": "368b5467",
   "metadata": {},
   "outputs": [],
   "source": [
    "# Definining a seed for the enviroment \n",
    "def set_seed(seed=32):\n",
    "    random.seed(seed)\n",
    "    np.random.seed(seed)\n",
    "    torch.manual_seed(seed)\n",
    "    torch.cuda.manual_seed_all(seed)\n",
    "\n",
    "    # Make deterministic\n",
    "    torch.backends.cudnn.deterministic = True\n",
    "    torch.backends.cudnn.benchmark = False\n",
    "\n",
    "    os.environ[\"PYTHONHASHSEED\"] = str(seed)"
   ]
  },
  {
   "cell_type": "markdown",
   "id": "9402b7e5",
   "metadata": {},
   "source": [
    "### 2.5 Train_Test Split and Dataloader"
   ]
  },
  {
   "cell_type": "code",
   "execution_count": 9,
   "id": "463ca354",
   "metadata": {},
   "outputs": [],
   "source": [
    "# Extract labels for stratification\n",
    "labels = [g.y.item() for g in graphs]\n",
    "\n",
    "# Stratified split\n",
    "train_graphs, test_graphs = train_test_split(\n",
    "    graphs, test_size=0.2, stratify=labels, random_state=42\n",
    ")"
   ]
  },
  {
   "cell_type": "code",
   "execution_count": 10,
   "id": "1248af8a",
   "metadata": {},
   "outputs": [],
   "source": [
    "# Create batched loaders\n",
    "train_loader = DataLoader(train_graphs, batch_size=4, shuffle=True)\n",
    "test_loader = DataLoader(test_graphs, batch_size=4, shuffle=False)"
   ]
  },
  {
   "cell_type": "markdown",
   "id": "74debceb",
   "metadata": {},
   "source": [
    "## 3 GNN Architecture and Training\n",
    "---\n",
    "### 3.1 GNN Architecture\n",
    "\n",
    "Before diving into code, let's visualize the architecture we'll use for classification.\n",
    "\n",
    "```markdown\n",
    "Node features (x) ─────┐\n",
    "Edge features          │\n",
    "Edge index             ▼\n",
    "         ┌───────────────┐\n",
    "         │  NNConv + ReLU│  (x: [num_nodes, 3] → [num_nodes, 64])\n",
    "         └───────────────┘\n",
    "                      ↓\n",
    "         ┌───────────────┐\n",
    "         │  NNConv + ReLU│  (x: [num_nodes, 64] → [num_nodes, 64])\n",
    "         └───────────────┘\n",
    "                      ↓\n",
    "         ┌─────────────────────┐\n",
    "         │ global_mean_pool    │  (→ [batch_size, 64])\n",
    "         └─────────────────────┘\n",
    "                      ↓\n",
    "SBM (→ [batch_size, 32]) → concat → [batch_size, 96]\n",
    "                      ↓\n",
    "         ┌─────────────────────┐\n",
    "         │ Dropout + Classifier│ → [batch_size, 2]\n",
    "         └─────────────────────┘\n",
    "```\n",
    "\n",
    "> 💡 **Tip:** The pooling layer aggregates node information into a graph-level representation, which is crucial for classification tasks.\n"
   ]
  },
  {
   "cell_type": "code",
   "execution_count": 30,
   "id": "7d072229",
   "metadata": {},
   "outputs": [],
   "source": [
    "class GNNWithEdgeAttrsAndSBM(nn.Module):\n",
    "    def __init__(self, in_channels=3, edge_dim=1, sbm_dim=32, hidden_dim=64):\n",
    "        super().__init__()\n",
    "        \n",
    "        # First NNConv layer\n",
    "        self.edge_nn1 = nn.Sequential(\n",
    "            nn.Linear(edge_dim, 32),\n",
    "            nn.ReLU(),\n",
    "            nn.Linear(32, in_channels * hidden_dim)\n",
    "        )\n",
    "        self.conv1 = NNConv(in_channels, hidden_dim, self.edge_nn1, aggr='max')\n",
    "        self.bn1 = nn.BatchNorm1d(hidden_dim)\n",
    "\n",
    "        # Second NNConv layer\n",
    "        self.edge_nn2 = nn.Sequential(\n",
    "            nn.Linear(edge_dim, 32),\n",
    "            nn.ReLU(),\n",
    "            nn.Linear(32, hidden_dim * hidden_dim)\n",
    "        )\n",
    "        self.conv2 = NNConv(hidden_dim, hidden_dim, self.edge_nn2, aggr='max')\n",
    "        self.bn2 = nn.BatchNorm1d(hidden_dim)\n",
    "\n",
    "        # Final classifier takes graph embedding + SBM vector\n",
    "        self.dropout = nn.Dropout(p=0.3)\n",
    "        self.classifier = nn.Sequential(\n",
    "            nn.Linear(hidden_dim + sbm_dim, 128),\n",
    "            nn.ReLU(),\n",
    "            nn.Linear(128, 2)\n",
    "        )\n",
    "\n",
    "    def forward(self, data):\n",
    "        x, edge_index, edge_attr, batch = data.x, data.edge_index, data.edge_attr, data.batch\n",
    "        sbm = data.sbm\n",
    "        # if sbm.dim() == 1:\n",
    "            # sbm = sbm.unsqueeze(0)  # ensure batch dim\n",
    "\n",
    "        # GNN layers\n",
    "        x = F.relu(self.bn1(self.conv1(x, edge_index, edge_attr)))\n",
    "        x = F.relu(self.bn2(self.conv2(x, edge_index, edge_attr)))\n",
    "\n",
    "        # Graph-level embedding\n",
    "        x = global_mean_pool(x, batch)\n",
    "\n",
    "        # Concatenate SBM global features\n",
    "        x = torch.cat([x, sbm], dim=1)\n",
    "\n",
    "        x = self.dropout(x)\n",
    "   \n",
    "        return self.classifier(x)"
   ]
  },
  {
   "cell_type": "markdown",
   "id": "8d67aad7",
   "metadata": {},
   "source": [
    "### **3.2 Training Setup for the GNN**\n",
    "\n",
    "Before we train, we’ll configure the **device**, **model**, **optimizer**, and **loss**.\n",
    "\n",
    "**What we’re doing:**\n",
    "- **Device selection**: Use GPU (`cuda`) or MPS (`mps`)if available for faster training; otherwise fall back to CPU.\n",
    "- **Model init**: `GNNWithEdgeAttrsAndSBM` takes:\n",
    "  - `in_channels=3` → each node has 3D spatial coordinates (x, y, z).\n",
    "  - `edge_dim=1` → each edge carries a single FNC correlation value.\n",
    "- **Optimizer**: Adam with a conservative learning rate (`1e-4`) for stable convergence.\n",
    "- **Loss function**: Cross-entropy for binary/multi-class classification.\n"
   ]
  },
  {
   "cell_type": "code",
   "execution_count": null,
   "id": "9f0f872f",
   "metadata": {},
   "outputs": [],
   "source": [
    "if torch.cuda.is_available():\n",
    "    device = torch.device(\"cuda\")\n",
    "elif torch.backends.mps.is_available():\n",
    "    device = torch.device(\"mps\")\n",
    "else:\n",
    "    device = torch.device(\"cpu\")\n",
    "\n",
    "print(f\"Using device: {device}\")\n",
    "model = GNNWithEdgeAttrsAndSBM(in_channels=3, edge_dim=1).to(device)\n",
    "optimizer = torch.optim.Adam(model.parameters(), lr=1e-4)\n",
    "criterion = torch.nn.CrossEntropyLoss()\n",
    "\n",
    "\n",
    "# Global lists to log performance\n",
    "train_losses = []\n",
    "test_losses = []\n",
    "train_accuracies = []\n",
    "test_accuracies = []\n",
    "\n",
    "\n",
    "def train():\n",
    "    model.train()\n",
    "    total_loss = 0\n",
    "    correct = 0\n",
    "    total = 0\n",
    "\n",
    "    for data in train_loader:\n",
    "        data = data.to(device)\n",
    "        optimizer.zero_grad()\n",
    "        out = model(data)\n",
    "        loss = criterion(out, data.y)\n",
    "        loss.backward()\n",
    "        optimizer.step()\n",
    "        total_loss += loss.item()\n",
    "\n",
    "        pred = out.argmax(dim=1)\n",
    "        correct += (pred == data.y).sum().item()\n",
    "        total += data.num_graphs\n",
    "\n",
    "    acc = correct / total\n",
    "    train_losses.append(total_loss / len(train_loader))\n",
    "    train_accuracies.append(acc)\n",
    "    return acc\n",
    "\n",
    "\n",
    "def test(loader, is_test=True):\n",
    "    model.eval()\n",
    "    total_loss = 0\n",
    "    correct = 0\n",
    "    all_preds = []\n",
    "    all_labels = []\n",
    "\n",
    "    for data in loader:\n",
    "        data = data.to(device)\n",
    "        out = model(data)\n",
    "        loss = criterion(out, data.y)\n",
    "        total_loss += loss.item()\n",
    "\n",
    "        pred = out.argmax(dim=1)\n",
    "        correct += (pred == data.y).sum().item()\n",
    "\n",
    "        all_preds.extend(pred.cpu().numpy())\n",
    "        all_labels.extend(data.y.cpu().numpy())\n",
    "\n",
    "    acc = correct / len(loader.dataset)\n",
    "    if is_test:\n",
    "        test_losses.append(total_loss / len(loader))\n",
    "        test_accuracies.append(acc)\n",
    "    return acc, all_preds, all_labels"
   ]
  },
  {
   "cell_type": "code",
   "execution_count": 32,
   "id": "42aafa6d",
   "metadata": {},
   "outputs": [
    {
     "name": "stdout",
     "output_type": "stream",
     "text": [
      "Epoch 01 | Train Acc: 0.4853 | Test Acc: 0.5556\n",
      "Epoch 02 | Train Acc: 0.5147 | Test Acc: 0.5556\n",
      "Epoch 03 | Train Acc: 0.5294 | Test Acc: 0.6667\n",
      "Epoch 04 | Train Acc: 0.5294 | Test Acc: 0.6667\n",
      "Epoch 05 | Train Acc: 0.5588 | Test Acc: 0.6667\n",
      "Epoch 06 | Train Acc: 0.6471 | Test Acc: 0.7222\n",
      "Epoch 07 | Train Acc: 0.6176 | Test Acc: 0.7222\n",
      "Epoch 08 | Train Acc: 0.7059 | Test Acc: 0.7222\n",
      "Epoch 09 | Train Acc: 0.6765 | Test Acc: 0.7222\n",
      "Epoch 10 | Train Acc: 0.6618 | Test Acc: 0.7778\n",
      "Epoch 11 | Train Acc: 0.7941 | Test Acc: 0.8333\n",
      "Epoch 12 | Train Acc: 0.7206 | Test Acc: 0.8333\n",
      "Epoch 13 | Train Acc: 0.8382 | Test Acc: 0.8333\n",
      "Epoch 14 | Train Acc: 0.8235 | Test Acc: 0.9444\n",
      "Epoch 15 | Train Acc: 0.7794 | Test Acc: 0.9444\n",
      "Epoch 16 | Train Acc: 0.7941 | Test Acc: 0.8889\n",
      "Epoch 17 | Train Acc: 0.8382 | Test Acc: 0.8889\n",
      "Epoch 18 | Train Acc: 0.8676 | Test Acc: 0.9444\n",
      "Epoch 19 | Train Acc: 0.7941 | Test Acc: 0.9444\n",
      "Epoch 20 | Train Acc: 0.8676 | Test Acc: 0.9444\n",
      "Epoch 21 | Train Acc: 0.8088 | Test Acc: 0.9444\n",
      "Epoch 22 | Train Acc: 0.8382 | Test Acc: 0.9444\n",
      "Epoch 23 | Train Acc: 0.7794 | Test Acc: 0.9444\n",
      "Epoch 24 | Train Acc: 0.8529 | Test Acc: 0.9444\n",
      "Epoch 25 | Train Acc: 0.8382 | Test Acc: 0.9444\n",
      "Epoch 26 | Train Acc: 0.8824 | Test Acc: 0.9444\n",
      "Epoch 27 | Train Acc: 0.8529 | Test Acc: 0.9444\n",
      "Epoch 28 | Train Acc: 0.9265 | Test Acc: 0.9444\n",
      "Epoch 29 | Train Acc: 0.9118 | Test Acc: 0.9444\n",
      "Epoch 30 | Train Acc: 0.9118 | Test Acc: 0.9444\n",
      "Epoch 31 | Train Acc: 0.9118 | Test Acc: 0.9444\n",
      "Epoch 32 | Train Acc: 0.8971 | Test Acc: 1.0000\n",
      "Epoch 33 | Train Acc: 0.8676 | Test Acc: 1.0000\n",
      "Epoch 34 | Train Acc: 0.8824 | Test Acc: 1.0000\n",
      "Epoch 35 | Train Acc: 0.9265 | Test Acc: 1.0000\n",
      "Epoch 36 | Train Acc: 0.9559 | Test Acc: 1.0000\n",
      "Epoch 37 | Train Acc: 0.9412 | Test Acc: 1.0000\n",
      "Epoch 38 | Train Acc: 0.9118 | Test Acc: 1.0000\n",
      "Epoch 39 | Train Acc: 0.8971 | Test Acc: 1.0000\n",
      "Epoch 40 | Train Acc: 0.8529 | Test Acc: 1.0000\n",
      "Epoch 41 | Train Acc: 0.8971 | Test Acc: 1.0000\n",
      "Epoch 42 | Train Acc: 0.9265 | Test Acc: 1.0000\n",
      "Epoch 43 | Train Acc: 0.9412 | Test Acc: 1.0000\n",
      "Epoch 44 | Train Acc: 0.9118 | Test Acc: 1.0000\n",
      "Epoch 45 | Train Acc: 0.9706 | Test Acc: 1.0000\n",
      "Epoch 46 | Train Acc: 0.9412 | Test Acc: 1.0000\n",
      "Epoch 47 | Train Acc: 0.9118 | Test Acc: 1.0000\n",
      "Epoch 48 | Train Acc: 0.9118 | Test Acc: 1.0000\n",
      "Epoch 49 | Train Acc: 0.8971 | Test Acc: 1.0000\n",
      "Epoch 50 | Train Acc: 0.9412 | Test Acc: 1.0000\n"
     ]
    }
   ],
   "source": [
    "for epoch in range(1, 51):\n",
    "    train_acc = train()\n",
    "    test_acc, test_preds, test_labels = test(test_loader)\n",
    "\n",
    "    print(f\"Epoch {epoch:02d} | Train Acc: {train_acc:.4f} | Test Acc: {test_acc:.4f}\")"
   ]
  },
  {
   "cell_type": "markdown",
   "id": "265c3e83",
   "metadata": {},
   "source": [
    "---\n",
    "### **3.3 Plotting Training Curves & Confusion Matrix**\n",
    "\n",
    "Now that we’ve trained the model, let’s **visualize performance** to check learning dynamics and how well the classifier separates classes.\n",
    "\n",
    "**What we plot:**\n",
    "- **Loss curves** (train vs. test): reveals optimization progress and potential **over/underfitting**.\n",
    "- **Accuracy curves** (train vs. test): shows predictive performance across epochs.\n",
    "- **Confusion matrix** (on the test set): breaks down **true vs. predicted** counts per class, highlighting error patterns."
   ]
  },
  {
   "cell_type": "code",
   "execution_count": 34,
   "id": "f4d7b884",
   "metadata": {},
   "outputs": [
    {
     "data": {
      "image/png": "[encoded data removed]",
      "text/plain": [
       "<Figure size 1200x400 with 2 Axes>"
      ]
     },
     "metadata": {},
     "output_type": "display_data"
    }
   ],
   "source": [
    "plt.figure(figsize=(12, 4))\n",
    "\n",
    "plt.subplot(1, 2, 1)\n",
    "plt.plot(train_losses, label='Train Loss')\n",
    "plt.plot(test_losses, label='Test Loss')\n",
    "plt.title(\"Loss Curve\")\n",
    "plt.xlabel(\"Epoch\")\n",
    "\n",
    "plt.ylabel(\"Loss\")\n",
    "plt.legend()\n",
    "\n",
    "plt.subplot(1, 2, 2)\n",
    "plt.plot(train_accuracies, label='Train Accuracy')\n",
    "plt.plot(test_accuracies, label='Test Accuracy')\n",
    "plt.title(\"Accuracy Curve\")\n",
    "plt.xlabel(\"Epoch\")\n",
    "plt.ylabel(\"Accuracy\")\n",
    "plt.legend()\n",
    "\n",
    "plt.tight_layout()\n",
    "plt.show()"
   ]
  },
  {
   "cell_type": "code",
   "execution_count": 33,
   "id": "0541241c",
   "metadata": {},
   "outputs": [
    {
     "data": {
      "text/plain": [
       "<Figure size 600x500 with 0 Axes>"
      ]
     },
     "metadata": {},
     "output_type": "display_data"
    },
    {
     "data": {
      "image/png": "[encoded data removed]",
      "text/plain": [
       "<Figure size 640x480 with 2 Axes>"
      ]
     },
     "metadata": {},
     "output_type": "display_data"
    }
   ],
   "source": [
    "cm = confusion_matrix(test_labels, test_preds)\n",
    "disp = ConfusionMatrixDisplay(confusion_matrix=cm, display_labels=[0, 1])\n",
    "\n",
    "plt.figure(figsize=(6, 5))\n",
    "disp.plot(cmap='Blues', values_format='d')\n",
    "plt.title(\"Confusion Matrix on Test Set\")\n",
    "plt.show()"
   ]
  },
  {
   "cell_type": "markdown",
   "id": "46522594",
   "metadata": {},
   "source": [
    "---\n",
    "\n",
    "## 📊 4. Summary & Next Steps\n",
    "\n",
    "In this tutorial, we:\n",
    "- Explored the structure and meaning of FNC & SBM features.\n",
    "- Checked class balance and basic dataset properties.\n",
    "- Built a GNN architecture tailored for brain connectivity data.\n",
    "- Trained and evaluated the model.\n",
    "\n",
    "**Next steps you could try:**\n",
    "1. Experiment with different pooling strategies (`global_max_pool`, `global_add_pool`).\n",
    "2. Tune hyperparameters (learning rate, dropout, hidden sizes).\n",
    "3. Try combining additional MRI-derived features for richer node descriptions.\n"
   ]
  },
  {
   "cell_type": "markdown",
   "id": "79197f78",
   "metadata": {},
   "source": [
    "## 5. Optional (Comparision with Random forest results)"
   ]
  },
  {
   "cell_type": "code",
   "execution_count": null,
   "id": "3c56270b",
   "metadata": {},
   "outputs": [
    {
     "name": "stdout",
     "output_type": "stream",
     "text": [
      "Merged shape: (86, 34)\n",
      "Features shape: (86, 32), Labels shape: (86,)\n",
      "\n",
      "Accuracy: 0.8889\n",
      "ROC-AUC: 0.9062\n",
      "\n",
      "Classification Report:\n",
      "              precision    recall  f1-score   support\n",
      "\n",
      "           0     0.9000    0.9000    0.9000        10\n",
      "           1     0.8750    0.8750    0.8750         8\n",
      "\n",
      "    accuracy                         0.8889        18\n",
      "   macro avg     0.8875    0.8875    0.8875        18\n",
      "weighted avg     0.8889    0.8889    0.8889        18\n",
      "\n"
     ]
    },
    {
     "data": {
      "text/plain": [
       "<Figure size 500x400 with 0 Axes>"
      ]
     },
     "metadata": {},
     "output_type": "display_data"
    },
    {
     "data": {
      "image/png": "[encoded data removed]",
      "text/plain": [
       "<Figure size 640x480 with 1 Axes>"
      ]
     },
     "metadata": {},
     "output_type": "display_data"
    }
   ],
   "source": [
    "\n",
    "from sklearn.model_selection import train_test_split\n",
    "from sklearn.ensemble import RandomForestClassifier\n",
    "from sklearn.metrics import (\n",
    "    accuracy_score,\n",
    "    classification_report,\n",
    "    confusion_matrix,\n",
    "    ConfusionMatrixDisplay,\n",
    "    roc_auc_score\n",
    ")\n",
    "import matplotlib.pyplot as plt\n",
    "\n",
    "# --- CONFIG ---\n",
    "RANDOM_STATE = 40\n",
    "TEST_SIZE = 0.2\n",
    "N_ESTIMATORS = 400\n",
    "N_JOBS = -1  # use all cores\n",
    "\n",
    "#  Merge SBM features with labels on 'Id' ---\n",
    "# Assumptions:\n",
    "#   - sbm_df: columns = ['Id', sbm_feature_1, sbm_feature_2, ..., sbm_feature_k]\n",
    "#   - labels_df: columns = ['Id', 'Class']  (Class should be 0/1 or similar)\n",
    "merged = pd.merge(sbm_df, labels_df, on=\"Id\", how=\"inner\")\n",
    "\n",
    "# Drop any duplicate Ids if they exist (keeping the first)\n",
    "merged = merged.drop_duplicates(subset=[\"Id\"]).reset_index(drop=True)\n",
    "\n",
    "# Separate features/labels\n",
    "X = merged.drop(columns=[\"Id\", \"Class\"])\n",
    "y = merged[\"Class\"].astype(int)  # ensure numeric\n",
    "\n",
    "print(f\"Merged shape: {merged.shape}\")\n",
    "print(f\"Features shape: {X.shape}, Labels shape: {y.shape}\")\n",
    "\n",
    "#  Train/Test split (stratified) ---\n",
    "X_train, X_test, y_train, y_test = train_test_split(\n",
    "    X, y,\n",
    "    test_size=TEST_SIZE,\n",
    "    random_state=RANDOM_STATE,\n",
    "    stratify=y\n",
    ")\n",
    "\n",
    "#  Train Random Forest ---\n",
    "rf = RandomForestClassifier(\n",
    "    n_estimators=N_ESTIMATORS,\n",
    "    max_depth=None,\n",
    "    min_samples_split=2,\n",
    "    min_samples_leaf=1,\n",
    "    class_weight=None,  \n",
    "    n_jobs=N_JOBS,\n",
    "    random_state=RANDOM_STATE\n",
    ")\n",
    "rf.fit(X_train, y_train)\n",
    "\n",
    "#  Evaluate ---\n",
    "y_pred = rf.predict(X_test)\n",
    "\n",
    "# If binary labels, get probas for ROC-AUC; handle multi-class gracefully\n",
    "try:\n",
    "    y_proba = rf.predict_proba(X_test)[:, 1]\n",
    "    auc = roc_auc_score(y_test, y_proba)\n",
    "except Exception:\n",
    "    y_proba = None\n",
    "    auc = None\n",
    "\n",
    "acc = accuracy_score(y_test, y_pred)\n",
    "print(f\"\\nAccuracy: {acc:.4f}\")\n",
    "if auc is not None:\n",
    "    print(f\"ROC-AUC: {auc:.4f}\")\n",
    "\n",
    "print(\"\\nClassification Report:\")\n",
    "print(classification_report(y_test, y_pred, digits=4))\n",
    "\n",
    "# Confusion Matrix\n",
    "cm = confusion_matrix(y_test, y_pred)\n",
    "disp = ConfusionMatrixDisplay(confusion_matrix=cm)\n",
    "plt.figure(figsize=(5, 4))\n",
    "disp.plot(cmap='Blues', values_format='d', colorbar=False)\n",
    "plt.title(\"Random Forest — Confusion Matrix (Test)\")\n",
    "plt.tight_layout()\n",
    "plt.show()\n"
   ]
  }
 ],
 "metadata": {
  "kernelspec": {
   "display_name": "gnn (3.13.5)",
   "language": "python",
   "name": "python3"
  },
  "language_info": {
   "codemirror_mode": {
    "name": "ipython",
    "version": 3
   },
   "file_extension": ".py",
   "mimetype": "text/x-python",
   "name": "python",
   "nbconvert_exporter": "python",
   "pygments_lexer": "ipython3",
   "version": "3.13.5"
  }
 },
 "nbformat": 4,
 "nbformat_minor": 5
}
